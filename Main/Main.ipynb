{
 "cells": [
  {
   "cell_type": "markdown",
   "source": [
    "## 1. Importing Libraries"
   ],
   "metadata": {
    "collapsed": false
   }
  },
  {
   "cell_type": "code",
   "execution_count": null,
   "metadata": {
    "collapsed": true
   },
   "outputs": [],
   "source": [
    "import numpy as np\n",
    "import pandas as pd\n",
    "import json\n",
    "from IR.Searcher.Index_Searcher import Index_Searcher\n",
    "from Fine_Tuning.Generator.Recommendations_Keyphrase import Recommmender\n",
    "from Scorer.MajorityVotingScorer import MajorityVotingScorer"
   ]
  },
  {
   "cell_type": "markdown",
   "source": [
    "## 2. Load Test data"
   ],
   "metadata": {
    "collapsed": false
   }
  },
  {
   "cell_type": "code",
   "execution_count": null,
   "outputs": [],
   "source": [
    "file_path = '../Data/All_Data.json'"
   ],
   "metadata": {
    "collapsed": false
   }
  },
  {
   "cell_type": "code",
   "execution_count": null,
   "outputs": [],
   "source": [
    "with open('../Data/Augmented/Train_Test/test.json', 'r') as file:\n",
    "    data = file.read()\n",
    "    data = json.loads(data)\n",
    "\n",
    "test_df = pd.DataFrame.from_dict(data)"
   ],
   "metadata": {
    "collapsed": false
   }
  },
  {
   "cell_type": "markdown",
   "source": [
    "## Iterate over test data and get query recommendations"
   ],
   "metadata": {
    "collapsed": false
   }
  },
  {
   "cell_type": "code",
   "execution_count": null,
   "outputs": [],
   "source": [
    "# create instance of Recommender\n",
    "recommender = Recommmender()"
   ],
   "metadata": {
    "collapsed": false
   }
  },
  {
   "cell_type": "code",
   "execution_count": null,
   "outputs": [],
   "source": [
    "searcher = Index_Searcher()"
   ],
   "metadata": {
    "collapsed": false
   }
  },
  {
   "cell_type": "code",
   "execution_count": null,
   "outputs": [],
   "source": [
    "# iterate over test_df\n",
    "for index, row in test_df.iterrows():\n",
    "    # get query\n",
    "    bug_description = row['bug_description']\n",
    "\n",
    "    # get query recommendations: list\n",
    "    query_recommendations = recommender.get_recommendations(bug_description=bug_description, num_of_recommendations=5)\n",
    "\n",
    "    search_results_collection = []\n",
    "\n",
    "    # iterate over query recommendations\n",
    "    for recommendation in query_recommendations:\n",
    "        query = ' '.join(recommendation)\n",
    "\n",
    "        # get search results\n",
    "        search_results = searcher.search(query=query, num_of_results=10)\n",
    "\n",
    "        # append search results to search_results_collection\n",
    "        search_results_collection.append(search_results)\n",
    "\n",
    "    # Scoring: after each round of searches for recommended queries, score the results\n",
    "    majority_scorer = MajorityVotingScorer(List_Collection=search_results_collection)\n",
    "    scored_list = majority_scorer.score_items(do_sort=True, only_keys_array=True)\n",
    "\n",
    "\n"
   ],
   "metadata": {
    "collapsed": false
   }
  },
  {
   "cell_type": "markdown",
   "source": [
    "## Create Searcher Instance"
   ],
   "metadata": {
    "collapsed": false
   }
  },
  {
   "cell_type": "markdown",
   "source": [],
   "metadata": {
    "collapsed": false
   }
  }
 ],
 "metadata": {
  "kernelspec": {
   "display_name": "Python 3",
   "language": "python",
   "name": "python3"
  },
  "language_info": {
   "codemirror_mode": {
    "name": "ipython",
    "version": 2
   },
   "file_extension": ".py",
   "mimetype": "text/x-python",
   "name": "python",
   "nbconvert_exporter": "python",
   "pygments_lexer": "ipython2",
   "version": "2.7.6"
  }
 },
 "nbformat": 4,
 "nbformat_minor": 0
}
