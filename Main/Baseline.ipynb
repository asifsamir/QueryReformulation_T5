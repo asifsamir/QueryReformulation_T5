{
 "cells": [
  {
   "cell_type": "code",
   "execution_count": 1,
   "metadata": {
    "collapsed": true,
    "ExecuteTime": {
     "end_time": "2023-08-06T21:08:50.636896400Z",
     "start_time": "2023-08-06T21:08:50.042360500Z"
    }
   },
   "outputs": [],
   "source": [
    "import numpy as np\n",
    "import pandas as pd\n",
    "import json\n",
    "from IR.Searcher.Index_Searcher import Index_Searcher\n",
    "from Scorer.MajorityVotingScorer import MajorityVotingScorer"
   ]
  },
  {
   "cell_type": "code",
   "execution_count": 2,
   "outputs": [],
   "source": [
    "# load the test_df from json\n",
    "with open('../Data/Outputs/test_recommendations.json', 'r') as file:\n",
    "    data = file.read()\n",
    "    data = json.loads(data)\n",
    "\n",
    "test_df = pd.DataFrame.from_dict(data)"
   ],
   "metadata": {
    "collapsed": false,
    "ExecuteTime": {
     "end_time": "2023-08-06T21:08:50.636896400Z",
     "start_time": "2023-08-06T21:08:50.598892400Z"
    }
   }
  },
  {
   "cell_type": "code",
   "execution_count": 3,
   "outputs": [
    {
     "data": {
      "text/plain": "   bug_id                                       ground_truth            repo  \\\n0  289455  [org.eclipse.jdt.junit/src/org/eclipse/jdt/int...  eclipse.jdt.ui   \n1  165045  [ui/org.eclipse.pde.core/src/org/eclipse/pde/i...  eclipse.pde.ui   \n2   49030  [java/org/apache/catalina/core/StandardService...        tomcat70   \n3   55582  [java/org/apache/jasper/compiler/TagFileProces...        tomcat70   \n4  134483  [framework/bundles/org.eclipse.ecf/src/org/ecl...             ecf   \n\n                                      reformed_query  \\\n0  [start create JUnit active active Bug active s...   \n1  [icons actions importing created project build...   \n2  [listening situation uninitialized xml Server ...   \n3  [threads lines File TagFileProcessor wrapperUr...   \n4  [Application Container Standalone Factory Cont...   \n\n                                           bug_title  \\\n0           [JUnit] JUnit view not active after test   \n1   Import plugin with source leaves a warning ab...   \n2   Processing of Tomcat Connector configuration ...   \n3               Concurrent issue of TagFileProcessor   \n4   Standalone ClientApplication is breaks in lin...   \n\n                                     bug_description  \\\n0  I20090915-. JUnit view is not active after tes...   \n1  After exporting a plug-in project with source ...   \n2  If the Server part of the Tomcat  configuratio...   \n3  Created attachment  [details] Unsynchronized g...   \n4  The standalone org.eclipse.ecf.provider.app.Cl...   \n\n                                   effective_queries  \\\n0  [start create JUnit active active Bug active s...   \n1  [icons actions importing created project build...   \n2  [listening situation uninitialized xml Server ...   \n3  [threads lines File TagFileProcessor wrapperUr...   \n4  [Application Container Standalone Factory Cont...   \n\n                               query_recommendations  \n0  [[JUnit, Java, fresh, Bug, view, Explorer], [J...  \n1  [[export, file, references, Export, files, exp...  \n2  [[problem, problem, wrong, wrong, incorrect, c...  \n3  [[issue, instance, Thread, Unsynchronized, Jsp...  \n4  [[Eclipse, ExceptionInInitializerError, Client...  ",
      "text/html": "<div>\n<style scoped>\n    .dataframe tbody tr th:only-of-type {\n        vertical-align: middle;\n    }\n\n    .dataframe tbody tr th {\n        vertical-align: top;\n    }\n\n    .dataframe thead th {\n        text-align: right;\n    }\n</style>\n<table border=\"1\" class=\"dataframe\">\n  <thead>\n    <tr style=\"text-align: right;\">\n      <th></th>\n      <th>bug_id</th>\n      <th>ground_truth</th>\n      <th>repo</th>\n      <th>reformed_query</th>\n      <th>bug_title</th>\n      <th>bug_description</th>\n      <th>effective_queries</th>\n      <th>query_recommendations</th>\n    </tr>\n  </thead>\n  <tbody>\n    <tr>\n      <th>0</th>\n      <td>289455</td>\n      <td>[org.eclipse.jdt.junit/src/org/eclipse/jdt/int...</td>\n      <td>eclipse.jdt.ui</td>\n      <td>[start create JUnit active active Bug active s...</td>\n      <td>[JUnit] JUnit view not active after test</td>\n      <td>I20090915-. JUnit view is not active after tes...</td>\n      <td>[start create JUnit active active Bug active s...</td>\n      <td>[[JUnit, Java, fresh, Bug, view, Explorer], [J...</td>\n    </tr>\n    <tr>\n      <th>1</th>\n      <td>165045</td>\n      <td>[ui/org.eclipse.pde.core/src/org/eclipse/pde/i...</td>\n      <td>eclipse.pde.ui</td>\n      <td>[icons actions importing created project build...</td>\n      <td>Import plugin with source leaves a warning ab...</td>\n      <td>After exporting a plug-in project with source ...</td>\n      <td>[icons actions importing created project build...</td>\n      <td>[[export, file, references, Export, files, exp...</td>\n    </tr>\n    <tr>\n      <th>2</th>\n      <td>49030</td>\n      <td>[java/org/apache/catalina/core/StandardService...</td>\n      <td>tomcat70</td>\n      <td>[listening situation uninitialized xml Server ...</td>\n      <td>Processing of Tomcat Connector configuration ...</td>\n      <td>If the Server part of the Tomcat  configuratio...</td>\n      <td>[listening situation uninitialized xml Server ...</td>\n      <td>[[problem, problem, wrong, wrong, incorrect, c...</td>\n    </tr>\n    <tr>\n      <th>3</th>\n      <td>55582</td>\n      <td>[java/org/apache/jasper/compiler/TagFileProces...</td>\n      <td>tomcat70</td>\n      <td>[threads lines File TagFileProcessor wrapperUr...</td>\n      <td>Concurrent issue of TagFileProcessor</td>\n      <td>Created attachment  [details] Unsynchronized g...</td>\n      <td>[threads lines File TagFileProcessor wrapperUr...</td>\n      <td>[[issue, instance, Thread, Unsynchronized, Jsp...</td>\n    </tr>\n    <tr>\n      <th>4</th>\n      <td>134483</td>\n      <td>[framework/bundles/org.eclipse.ecf/src/org/ecl...</td>\n      <td>ecf</td>\n      <td>[Application Container Standalone Factory Cont...</td>\n      <td>Standalone ClientApplication is breaks in lin...</td>\n      <td>The standalone org.eclipse.ecf.provider.app.Cl...</td>\n      <td>[Application Container Standalone Factory Cont...</td>\n      <td>[[Eclipse, ExceptionInInitializerError, Client...</td>\n    </tr>\n  </tbody>\n</table>\n</div>"
     },
     "execution_count": 3,
     "metadata": {},
     "output_type": "execute_result"
    }
   ],
   "source": [
    "# print the test_df\n",
    "test_df.head()"
   ],
   "metadata": {
    "collapsed": false,
    "ExecuteTime": {
     "end_time": "2023-08-06T21:08:50.643892200Z",
     "start_time": "2023-08-06T21:08:50.599892300Z"
    }
   }
  },
  {
   "cell_type": "markdown",
   "source": [
    "## Now Evaluation"
   ],
   "metadata": {
    "collapsed": false
   }
  },
  {
   "cell_type": "code",
   "execution_count": 4,
   "outputs": [],
   "source": [
    "# load the index searcher\n",
    "searcher = Index_Searcher()"
   ],
   "metadata": {
    "collapsed": false,
    "ExecuteTime": {
     "end_time": "2023-08-06T21:08:58.596628800Z",
     "start_time": "2023-08-06T21:08:58.575650400Z"
    }
   }
  },
  {
   "cell_type": "code",
   "execution_count": 5,
   "outputs": [],
   "source": [
    "all_ground_truths = []\n",
    "all_search_results = []"
   ],
   "metadata": {
    "collapsed": false,
    "ExecuteTime": {
     "end_time": "2023-08-06T21:09:01.033439800Z",
     "start_time": "2023-08-06T21:09:01.002813200Z"
    }
   }
  },
  {
   "cell_type": "markdown",
   "source": [
    "### first collect all the search results for each bug description"
   ],
   "metadata": {
    "collapsed": false
   }
  },
  {
   "cell_type": "code",
   "execution_count": 6,
   "outputs": [],
   "source": [
    "# iterate over the test_df\n",
    "for index, row in test_df.iterrows():\n",
    "    # get query\n",
    "    ground_truth = row['ground_truth']\n",
    "    bug_description = row['bug_description']\n",
    "\n",
    "    search_results_collection = []\n",
    "\n",
    "    search_results = searcher.search(query=bug_description, top_K_results=10)\n",
    "\n",
    "\n",
    "    all_ground_truths.append(ground_truth)\n",
    "    all_search_results.append(search_results)"
   ],
   "metadata": {
    "collapsed": false,
    "ExecuteTime": {
     "end_time": "2023-08-06T21:12:06.347636800Z",
     "start_time": "2023-08-06T21:12:01.427732100Z"
    }
   }
  },
  {
   "cell_type": "markdown",
   "source": [
    "### Now evaluate the results"
   ],
   "metadata": {
    "collapsed": false
   }
  },
  {
   "cell_type": "code",
   "execution_count": 7,
   "outputs": [],
   "source": [
    "from Performance.Performance_Evaluator import Performance_Evaluator\n",
    "\n",
    "performance_evaluator = Performance_Evaluator()"
   ],
   "metadata": {
    "collapsed": false,
    "ExecuteTime": {
     "end_time": "2023-08-06T21:12:10.159796800Z",
     "start_time": "2023-08-06T21:12:10.147797700Z"
    }
   }
  },
  {
   "cell_type": "markdown",
   "source": [
    "### Evaluate the results for K = 1, 5, 10"
   ],
   "metadata": {
    "collapsed": false
   }
  },
  {
   "cell_type": "markdown",
   "source": [
    "#### K = 1"
   ],
   "metadata": {
    "collapsed": false
   }
  },
  {
   "cell_type": "code",
   "execution_count": 13,
   "outputs": [],
   "source": [
    "at_1 = performance_evaluator.evaluate(ground_truths=all_ground_truths, search_results=all_search_results, K=1)"
   ],
   "metadata": {
    "collapsed": false,
    "ExecuteTime": {
     "end_time": "2023-08-06T21:46:16.740152800Z",
     "start_time": "2023-08-06T21:46:16.726048400Z"
    }
   }
  },
  {
   "cell_type": "markdown",
   "source": [
    "#### K = 5"
   ],
   "metadata": {
    "collapsed": false
   }
  },
  {
   "cell_type": "code",
   "execution_count": 14,
   "outputs": [],
   "source": [
    "at_5 = performance_evaluator.evaluate(ground_truths=all_ground_truths, search_results=all_search_results, K=5)"
   ],
   "metadata": {
    "collapsed": false,
    "ExecuteTime": {
     "end_time": "2023-08-06T21:46:46.376873700Z",
     "start_time": "2023-08-06T21:46:46.366872900Z"
    }
   }
  },
  {
   "cell_type": "markdown",
   "source": [
    "#### K = 10"
   ],
   "metadata": {
    "collapsed": false
   }
  },
  {
   "cell_type": "code",
   "execution_count": 15,
   "outputs": [],
   "source": [
    "at_10 = performance_evaluator.evaluate(ground_truths=all_ground_truths, search_results=all_search_results, K=10)"
   ],
   "metadata": {
    "collapsed": false,
    "ExecuteTime": {
     "end_time": "2023-08-06T21:46:49.244032900Z",
     "start_time": "2023-08-06T21:46:49.224052700Z"
    }
   }
  },
  {
   "cell_type": "code",
   "execution_count": 18,
   "outputs": [],
   "source": [
    "# create dictionary for the results\n",
    "results = {\n",
    "    'at_1': at_1,\n",
    "    'at_5': at_5,\n",
    "    'at_10': at_10\n",
    "}"
   ],
   "metadata": {
    "collapsed": false,
    "ExecuteTime": {
     "end_time": "2023-08-06T22:06:57.395159400Z",
     "start_time": "2023-08-06T22:06:57.386165900Z"
    }
   }
  },
  {
   "cell_type": "code",
   "execution_count": 19,
   "outputs": [
    {
     "name": "stdout",
     "output_type": "stream",
     "text": [
      "{'at_1': {'map': 0.24675, 'mrr': 0.2526111111111111, 'recall@1': 0.0891025641025641, 'hit@1': 0.16}, 'at_5': {'map': 0.24675, 'mrr': 0.2526111111111111, 'recall@5': 0.23576923076923076, 'hit@5': 0.37}, 'at_10': {'map': 0.24675, 'mrr': 0.2526111111111111, 'recall@10': 0.28076923076923077, 'hit@10': 0.43}}\n"
     ]
    }
   ],
   "source": [
    "# print the results\n",
    "print(results)"
   ],
   "metadata": {
    "collapsed": false,
    "ExecuteTime": {
     "end_time": "2023-08-06T22:06:58.956320200Z",
     "start_time": "2023-08-06T22:06:58.936320500Z"
    }
   }
  },
  {
   "cell_type": "code",
   "execution_count": 20,
   "outputs": [],
   "source": [
    "baseline_data = {\n",
    "    'at_1': at_1,\n",
    "    'at_5': at_5,\n",
    "    'at_10': at_10\n",
    "}"
   ],
   "metadata": {
    "collapsed": false,
    "ExecuteTime": {
     "end_time": "2023-08-06T22:31:46.784485600Z",
     "start_time": "2023-08-06T22:31:46.777491500Z"
    }
   }
  },
  {
   "cell_type": "code",
   "execution_count": 21,
   "outputs": [
    {
     "name": "stdout",
     "output_type": "stream",
     "text": [
      "{'at_1': {'recall@1': 0.0891025641025641, 'hit@1': 0.16}, 'at_5': {'recall@5': 0.23576923076923076, 'hit@5': 0.37}, 'at_10': {'recall@10': 0.28076923076923077, 'hit@10': 0.43}}\n"
     ]
    }
   ],
   "source": [
    "for key in baseline_data:\n",
    "    baseline_data[key].pop('mrr', None)\n",
    "    baseline_data[key].pop('map', None)\n",
    "\n",
    "print(baseline_data)"
   ],
   "metadata": {
    "collapsed": false,
    "ExecuteTime": {
     "end_time": "2023-08-06T22:32:12.936080700Z",
     "start_time": "2023-08-06T22:32:12.920081500Z"
    }
   }
  }
 ],
 "metadata": {
  "kernelspec": {
   "display_name": "Python 3",
   "language": "python",
   "name": "python3"
  },
  "language_info": {
   "codemirror_mode": {
    "name": "ipython",
    "version": 2
   },
   "file_extension": ".py",
   "mimetype": "text/x-python",
   "name": "python",
   "nbconvert_exporter": "python",
   "pygments_lexer": "ipython2",
   "version": "2.7.6"
  }
 },
 "nbformat": 4,
 "nbformat_minor": 0
}
