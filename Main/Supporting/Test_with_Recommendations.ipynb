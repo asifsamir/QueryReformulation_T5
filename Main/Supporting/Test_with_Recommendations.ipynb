{
 "cells": [
  {
   "cell_type": "markdown",
   "source": [
    "## 1. Importing Libraries"
   ],
   "metadata": {
    "collapsed": false
   }
  },
  {
   "cell_type": "code",
   "execution_count": 1,
   "metadata": {
    "collapsed": true,
    "ExecuteTime": {
     "end_time": "2023-08-06T19:59:08.669119300Z",
     "start_time": "2023-08-06T19:59:00.609377600Z"
    }
   },
   "outputs": [],
   "source": [
    "import numpy as np\n",
    "import pandas as pd\n",
    "import json\n",
    "from IR.Searcher.Index_Searcher import Index_Searcher\n",
    "from Fine_Tuning.Generator.Recommendations_Keyphrase import Recommmender"
   ]
  },
  {
   "cell_type": "markdown",
   "source": [
    "## 2. Load Test data"
   ],
   "metadata": {
    "collapsed": false
   }
  },
  {
   "cell_type": "code",
   "execution_count": 2,
   "outputs": [],
   "source": [
    "file_path = '../Data/All_Data.json'"
   ],
   "metadata": {
    "collapsed": false,
    "ExecuteTime": {
     "end_time": "2023-08-06T19:59:08.685289Z",
     "start_time": "2023-08-06T19:59:08.671123300Z"
    }
   }
  },
  {
   "cell_type": "code",
   "execution_count": 3,
   "outputs": [],
   "source": [
    "with open('../Data/Augmented/Train_Test/test.json', 'r') as file:\n",
    "    data = file.read()\n",
    "    data = json.loads(data)\n",
    "\n",
    "test_df = pd.DataFrame.from_dict(data)"
   ],
   "metadata": {
    "collapsed": false,
    "ExecuteTime": {
     "end_time": "2023-08-06T19:59:08.704826400Z",
     "start_time": "2023-08-06T19:59:08.686291200Z"
    }
   }
  },
  {
   "cell_type": "code",
   "execution_count": 4,
   "outputs": [
    {
     "data": {
      "text/plain": "   bug_id                                       ground_truth            repo  \\\n0  289455  [org.eclipse.jdt.junit/src/org/eclipse/jdt/int...  eclipse.jdt.ui   \n1  165045  [ui/org.eclipse.pde.core/src/org/eclipse/pde/i...  eclipse.pde.ui   \n2   49030  [java/org/apache/catalina/core/StandardService...        tomcat70   \n3   55582  [java/org/apache/jasper/compiler/TagFileProces...        tomcat70   \n4  134483  [framework/bundles/org.eclipse.ecf/src/org/ecl...             ecf   \n\n                                      reformed_query  \\\n0  [start create JUnit active active Bug active s...   \n1  [icons actions importing created project build...   \n2  [listening situation uninitialized xml Server ...   \n3  [threads lines File TagFileProcessor wrapperUr...   \n4  [Application Container Standalone Factory Cont...   \n\n                                           bug_title  \\\n0           [JUnit] JUnit view not active after test   \n1   Import plugin with source leaves a warning ab...   \n2   Processing of Tomcat Connector configuration ...   \n3               Concurrent issue of TagFileProcessor   \n4   Standalone ClientApplication is breaks in lin...   \n\n                                     bug_description  \\\n0  I20090915-. JUnit view is not active after tes...   \n1  After exporting a plug-in project with source ...   \n2  If the Server part of the Tomcat  configuratio...   \n3  Created attachment  [details] Unsynchronized g...   \n4  The standalone org.eclipse.ecf.provider.app.Cl...   \n\n                                   effective_queries  \n0  [start create JUnit active active Bug active s...  \n1  [icons actions importing created project build...  \n2  [listening situation uninitialized xml Server ...  \n3  [threads lines File TagFileProcessor wrapperUr...  \n4  [Application Container Standalone Factory Cont...  ",
      "text/html": "<div>\n<style scoped>\n    .dataframe tbody tr th:only-of-type {\n        vertical-align: middle;\n    }\n\n    .dataframe tbody tr th {\n        vertical-align: top;\n    }\n\n    .dataframe thead th {\n        text-align: right;\n    }\n</style>\n<table border=\"1\" class=\"dataframe\">\n  <thead>\n    <tr style=\"text-align: right;\">\n      <th></th>\n      <th>bug_id</th>\n      <th>ground_truth</th>\n      <th>repo</th>\n      <th>reformed_query</th>\n      <th>bug_title</th>\n      <th>bug_description</th>\n      <th>effective_queries</th>\n    </tr>\n  </thead>\n  <tbody>\n    <tr>\n      <th>0</th>\n      <td>289455</td>\n      <td>[org.eclipse.jdt.junit/src/org/eclipse/jdt/int...</td>\n      <td>eclipse.jdt.ui</td>\n      <td>[start create JUnit active active Bug active s...</td>\n      <td>[JUnit] JUnit view not active after test</td>\n      <td>I20090915-. JUnit view is not active after tes...</td>\n      <td>[start create JUnit active active Bug active s...</td>\n    </tr>\n    <tr>\n      <th>1</th>\n      <td>165045</td>\n      <td>[ui/org.eclipse.pde.core/src/org/eclipse/pde/i...</td>\n      <td>eclipse.pde.ui</td>\n      <td>[icons actions importing created project build...</td>\n      <td>Import plugin with source leaves a warning ab...</td>\n      <td>After exporting a plug-in project with source ...</td>\n      <td>[icons actions importing created project build...</td>\n    </tr>\n    <tr>\n      <th>2</th>\n      <td>49030</td>\n      <td>[java/org/apache/catalina/core/StandardService...</td>\n      <td>tomcat70</td>\n      <td>[listening situation uninitialized xml Server ...</td>\n      <td>Processing of Tomcat Connector configuration ...</td>\n      <td>If the Server part of the Tomcat  configuratio...</td>\n      <td>[listening situation uninitialized xml Server ...</td>\n    </tr>\n    <tr>\n      <th>3</th>\n      <td>55582</td>\n      <td>[java/org/apache/jasper/compiler/TagFileProces...</td>\n      <td>tomcat70</td>\n      <td>[threads lines File TagFileProcessor wrapperUr...</td>\n      <td>Concurrent issue of TagFileProcessor</td>\n      <td>Created attachment  [details] Unsynchronized g...</td>\n      <td>[threads lines File TagFileProcessor wrapperUr...</td>\n    </tr>\n    <tr>\n      <th>4</th>\n      <td>134483</td>\n      <td>[framework/bundles/org.eclipse.ecf/src/org/ecl...</td>\n      <td>ecf</td>\n      <td>[Application Container Standalone Factory Cont...</td>\n      <td>Standalone ClientApplication is breaks in lin...</td>\n      <td>The standalone org.eclipse.ecf.provider.app.Cl...</td>\n      <td>[Application Container Standalone Factory Cont...</td>\n    </tr>\n  </tbody>\n</table>\n</div>"
     },
     "execution_count": 4,
     "metadata": {},
     "output_type": "execute_result"
    }
   ],
   "source": [
    "test_df.head()"
   ],
   "metadata": {
    "collapsed": false,
    "ExecuteTime": {
     "end_time": "2023-08-06T19:59:15.262295Z",
     "start_time": "2023-08-06T19:59:15.232261900Z"
    }
   }
  },
  {
   "cell_type": "markdown",
   "source": [
    "## Iterate over test data and get query recommendations"
   ],
   "metadata": {
    "collapsed": false
   }
  },
  {
   "cell_type": "code",
   "execution_count": 8,
   "outputs": [],
   "source": [
    "model_name = \"ml6team/keyphrase-generation-t5-small-inspec\"\n",
    "model_path = '../Models_Fine_Tuned/keyphrase-generation-t5-small-inspec-20230806_0305-50ep'\n",
    "# create instance of Recommender\n",
    "recommender = Recommmender(model_name=model_name, model_path=model_path)"
   ],
   "metadata": {
    "collapsed": false,
    "ExecuteTime": {
     "end_time": "2023-08-06T20:05:21.023245400Z",
     "start_time": "2023-08-06T20:05:20.044632900Z"
    }
   }
  },
  {
   "cell_type": "code",
   "execution_count": 9,
   "outputs": [],
   "source": [
    "searcher = Index_Searcher()"
   ],
   "metadata": {
    "collapsed": false,
    "ExecuteTime": {
     "end_time": "2023-08-06T20:06:49.645641100Z",
     "start_time": "2023-08-06T20:06:49.637642300Z"
    }
   }
  },
  {
   "cell_type": "code",
   "execution_count": 12,
   "outputs": [],
   "source": [
    "# create column 'query_recommendations' in test_df of type list of lists\n",
    "test_df['query_recommendations'] = test_df['bug_description'].apply(lambda x: [])"
   ],
   "metadata": {
    "collapsed": false,
    "ExecuteTime": {
     "end_time": "2023-08-06T20:10:34.125768900Z",
     "start_time": "2023-08-06T20:10:34.114249200Z"
    }
   }
  },
  {
   "cell_type": "code",
   "execution_count": 14,
   "outputs": [
    {
     "data": {
      "text/plain": "(100, 8)"
     },
     "execution_count": 14,
     "metadata": {},
     "output_type": "execute_result"
    }
   ],
   "source": [
    "test_df.shape"
   ],
   "metadata": {
    "collapsed": false,
    "ExecuteTime": {
     "end_time": "2023-08-06T20:13:01.096247100Z",
     "start_time": "2023-08-06T20:13:01.087246600Z"
    }
   }
  },
  {
   "cell_type": "code",
   "execution_count": 15,
   "outputs": [],
   "source": [
    "# iterate over test_df\n",
    "for index, row in test_df.iterrows():\n",
    "    # get query\n",
    "    bug_description = row['bug_description']\n",
    "\n",
    "    # get query recommendations: list\n",
    "    query_recommendations = recommender.get_recommendations(bug_description=bug_description, num_of_recommendations=5)\n",
    "\n",
    "    # print(query_recommendations)\n",
    "    # break\n",
    "\n",
    "    # save query recommendations in test_df as list in column 'query_recommendations'\n",
    "    test_df.at[index, 'query_recommendations'] = query_recommendations\n",
    "\n",
    "    # search_results_collection = []\n",
    "    #\n",
    "    # # iterate over query recommendations\n",
    "    # for recommendation in query_recommendations:\n",
    "    #     query = ' '.join(recommendation)\n",
    "    #\n",
    "    #     # get search results\n",
    "    #     search_results = searcher.search(query=query, num_of_results=10)\n",
    "    #\n",
    "    #     # append search results to search_results_collection\n",
    "    #     search_results_collection.append(search_results)\n",
    "    #\n",
    "    # # Majority Voting Scorer\n",
    "    # # Scoring: after each round of searches for recommended queries, score the results\n",
    "    # majority_scorer = MajorityVotingScorer(List_Collection=search_results_collection)\n",
    "    # scored_list = majority_scorer.score_items(do_sort=True, only_keys_array=True)\n",
    "\n",
    "\n"
   ],
   "metadata": {
    "collapsed": false,
    "ExecuteTime": {
     "end_time": "2023-08-06T20:24:10.071291300Z",
     "start_time": "2023-08-06T20:21:12.652807300Z"
    }
   }
  },
  {
   "cell_type": "code",
   "execution_count": null,
   "outputs": [],
   "source": [],
   "metadata": {
    "collapsed": false
   }
  },
  {
   "cell_type": "code",
   "execution_count": 16,
   "outputs": [
    {
     "data": {
      "text/plain": "   bug_id                                       ground_truth            repo  \\\n0  289455  [org.eclipse.jdt.junit/src/org/eclipse/jdt/int...  eclipse.jdt.ui   \n1  165045  [ui/org.eclipse.pde.core/src/org/eclipse/pde/i...  eclipse.pde.ui   \n2   49030  [java/org/apache/catalina/core/StandardService...        tomcat70   \n3   55582  [java/org/apache/jasper/compiler/TagFileProces...        tomcat70   \n4  134483  [framework/bundles/org.eclipse.ecf/src/org/ecl...             ecf   \n\n                                      reformed_query  \\\n0  [start create JUnit active active Bug active s...   \n1  [icons actions importing created project build...   \n2  [listening situation uninitialized xml Server ...   \n3  [threads lines File TagFileProcessor wrapperUr...   \n4  [Application Container Standalone Factory Cont...   \n\n                                           bug_title  \\\n0           [JUnit] JUnit view not active after test   \n1   Import plugin with source leaves a warning ab...   \n2   Processing of Tomcat Connector configuration ...   \n3               Concurrent issue of TagFileProcessor   \n4   Standalone ClientApplication is breaks in lin...   \n\n                                     bug_description  \\\n0  I20090915-. JUnit view is not active after tes...   \n1  After exporting a plug-in project with source ...   \n2  If the Server part of the Tomcat  configuratio...   \n3  Created attachment  [details] Unsynchronized g...   \n4  The standalone org.eclipse.ecf.provider.app.Cl...   \n\n                                   effective_queries  \\\n0  [start create JUnit active active Bug active s...   \n1  [icons actions importing created project build...   \n2  [listening situation uninitialized xml Server ...   \n3  [threads lines File TagFileProcessor wrapperUr...   \n4  [Application Container Standalone Factory Cont...   \n\n                               query_recommendations  \n0  [[JUnit, Java, fresh, Bug, view, Explorer], [J...  \n1  [[export, file, references, Export, files, exp...  \n2  [[problem, problem, wrong, wrong, incorrect, c...  \n3  [[issue, instance, Thread, Unsynchronized, Jsp...  \n4  [[Eclipse, ExceptionInInitializerError, Client...  ",
      "text/html": "<div>\n<style scoped>\n    .dataframe tbody tr th:only-of-type {\n        vertical-align: middle;\n    }\n\n    .dataframe tbody tr th {\n        vertical-align: top;\n    }\n\n    .dataframe thead th {\n        text-align: right;\n    }\n</style>\n<table border=\"1\" class=\"dataframe\">\n  <thead>\n    <tr style=\"text-align: right;\">\n      <th></th>\n      <th>bug_id</th>\n      <th>ground_truth</th>\n      <th>repo</th>\n      <th>reformed_query</th>\n      <th>bug_title</th>\n      <th>bug_description</th>\n      <th>effective_queries</th>\n      <th>query_recommendations</th>\n    </tr>\n  </thead>\n  <tbody>\n    <tr>\n      <th>0</th>\n      <td>289455</td>\n      <td>[org.eclipse.jdt.junit/src/org/eclipse/jdt/int...</td>\n      <td>eclipse.jdt.ui</td>\n      <td>[start create JUnit active active Bug active s...</td>\n      <td>[JUnit] JUnit view not active after test</td>\n      <td>I20090915-. JUnit view is not active after tes...</td>\n      <td>[start create JUnit active active Bug active s...</td>\n      <td>[[JUnit, Java, fresh, Bug, view, Explorer], [J...</td>\n    </tr>\n    <tr>\n      <th>1</th>\n      <td>165045</td>\n      <td>[ui/org.eclipse.pde.core/src/org/eclipse/pde/i...</td>\n      <td>eclipse.pde.ui</td>\n      <td>[icons actions importing created project build...</td>\n      <td>Import plugin with source leaves a warning ab...</td>\n      <td>After exporting a plug-in project with source ...</td>\n      <td>[icons actions importing created project build...</td>\n      <td>[[export, file, references, Export, files, exp...</td>\n    </tr>\n    <tr>\n      <th>2</th>\n      <td>49030</td>\n      <td>[java/org/apache/catalina/core/StandardService...</td>\n      <td>tomcat70</td>\n      <td>[listening situation uninitialized xml Server ...</td>\n      <td>Processing of Tomcat Connector configuration ...</td>\n      <td>If the Server part of the Tomcat  configuratio...</td>\n      <td>[listening situation uninitialized xml Server ...</td>\n      <td>[[problem, problem, wrong, wrong, incorrect, c...</td>\n    </tr>\n    <tr>\n      <th>3</th>\n      <td>55582</td>\n      <td>[java/org/apache/jasper/compiler/TagFileProces...</td>\n      <td>tomcat70</td>\n      <td>[threads lines File TagFileProcessor wrapperUr...</td>\n      <td>Concurrent issue of TagFileProcessor</td>\n      <td>Created attachment  [details] Unsynchronized g...</td>\n      <td>[threads lines File TagFileProcessor wrapperUr...</td>\n      <td>[[issue, instance, Thread, Unsynchronized, Jsp...</td>\n    </tr>\n    <tr>\n      <th>4</th>\n      <td>134483</td>\n      <td>[framework/bundles/org.eclipse.ecf/src/org/ecl...</td>\n      <td>ecf</td>\n      <td>[Application Container Standalone Factory Cont...</td>\n      <td>Standalone ClientApplication is breaks in lin...</td>\n      <td>The standalone org.eclipse.ecf.provider.app.Cl...</td>\n      <td>[Application Container Standalone Factory Cont...</td>\n      <td>[[Eclipse, ExceptionInInitializerError, Client...</td>\n    </tr>\n  </tbody>\n</table>\n</div>"
     },
     "execution_count": 16,
     "metadata": {},
     "output_type": "execute_result"
    }
   ],
   "source": [
    "test_df.head()"
   ],
   "metadata": {
    "collapsed": false,
    "ExecuteTime": {
     "end_time": "2023-08-06T20:24:11.056949Z",
     "start_time": "2023-08-06T20:24:11.027946800Z"
    }
   }
  },
  {
   "cell_type": "code",
   "execution_count": 17,
   "outputs": [],
   "source": [
    "# save the test_df as json\n",
    "test_df.to_json('../Data/Outputs/test_recommendations.json', orient='records')"
   ],
   "metadata": {
    "collapsed": false,
    "ExecuteTime": {
     "end_time": "2023-08-06T20:25:52.854747600Z",
     "start_time": "2023-08-06T20:25:52.838748900Z"
    }
   }
  },
  {
   "cell_type": "code",
   "execution_count": 18,
   "outputs": [],
   "source": [
    "# # load the test_df from json\n",
    "# with open('../Data/Outputs/test_recommendations.json', 'r') as file:\n",
    "#     data = file.read()\n",
    "#     data = json.loads(data)\n",
    "#\n",
    "# test_df = pd.DataFrame.from_dict(data)"
   ],
   "metadata": {
    "collapsed": false,
    "ExecuteTime": {
     "end_time": "2023-08-06T20:26:29.834619Z",
     "start_time": "2023-08-06T20:26:29.824609600Z"
    }
   }
  },
  {
   "cell_type": "code",
   "execution_count": 19,
   "outputs": [
    {
     "data": {
      "text/plain": "   bug_id                                       ground_truth            repo  \\\n0  289455  [org.eclipse.jdt.junit/src/org/eclipse/jdt/int...  eclipse.jdt.ui   \n1  165045  [ui/org.eclipse.pde.core/src/org/eclipse/pde/i...  eclipse.pde.ui   \n2   49030  [java/org/apache/catalina/core/StandardService...        tomcat70   \n3   55582  [java/org/apache/jasper/compiler/TagFileProces...        tomcat70   \n4  134483  [framework/bundles/org.eclipse.ecf/src/org/ecl...             ecf   \n\n                                      reformed_query  \\\n0  [start create JUnit active active Bug active s...   \n1  [icons actions importing created project build...   \n2  [listening situation uninitialized xml Server ...   \n3  [threads lines File TagFileProcessor wrapperUr...   \n4  [Application Container Standalone Factory Cont...   \n\n                                           bug_title  \\\n0           [JUnit] JUnit view not active after test   \n1   Import plugin with source leaves a warning ab...   \n2   Processing of Tomcat Connector configuration ...   \n3               Concurrent issue of TagFileProcessor   \n4   Standalone ClientApplication is breaks in lin...   \n\n                                     bug_description  \\\n0  I20090915-. JUnit view is not active after tes...   \n1  After exporting a plug-in project with source ...   \n2  If the Server part of the Tomcat  configuratio...   \n3  Created attachment  [details] Unsynchronized g...   \n4  The standalone org.eclipse.ecf.provider.app.Cl...   \n\n                                   effective_queries  \\\n0  [start create JUnit active active Bug active s...   \n1  [icons actions importing created project build...   \n2  [listening situation uninitialized xml Server ...   \n3  [threads lines File TagFileProcessor wrapperUr...   \n4  [Application Container Standalone Factory Cont...   \n\n                               query_recommendations  \n0  [[JUnit, Java, fresh, Bug, view, Explorer], [J...  \n1  [[export, file, references, Export, files, exp...  \n2  [[problem, problem, wrong, wrong, incorrect, c...  \n3  [[issue, instance, Thread, Unsynchronized, Jsp...  \n4  [[Eclipse, ExceptionInInitializerError, Client...  ",
      "text/html": "<div>\n<style scoped>\n    .dataframe tbody tr th:only-of-type {\n        vertical-align: middle;\n    }\n\n    .dataframe tbody tr th {\n        vertical-align: top;\n    }\n\n    .dataframe thead th {\n        text-align: right;\n    }\n</style>\n<table border=\"1\" class=\"dataframe\">\n  <thead>\n    <tr style=\"text-align: right;\">\n      <th></th>\n      <th>bug_id</th>\n      <th>ground_truth</th>\n      <th>repo</th>\n      <th>reformed_query</th>\n      <th>bug_title</th>\n      <th>bug_description</th>\n      <th>effective_queries</th>\n      <th>query_recommendations</th>\n    </tr>\n  </thead>\n  <tbody>\n    <tr>\n      <th>0</th>\n      <td>289455</td>\n      <td>[org.eclipse.jdt.junit/src/org/eclipse/jdt/int...</td>\n      <td>eclipse.jdt.ui</td>\n      <td>[start create JUnit active active Bug active s...</td>\n      <td>[JUnit] JUnit view not active after test</td>\n      <td>I20090915-. JUnit view is not active after tes...</td>\n      <td>[start create JUnit active active Bug active s...</td>\n      <td>[[JUnit, Java, fresh, Bug, view, Explorer], [J...</td>\n    </tr>\n    <tr>\n      <th>1</th>\n      <td>165045</td>\n      <td>[ui/org.eclipse.pde.core/src/org/eclipse/pde/i...</td>\n      <td>eclipse.pde.ui</td>\n      <td>[icons actions importing created project build...</td>\n      <td>Import plugin with source leaves a warning ab...</td>\n      <td>After exporting a plug-in project with source ...</td>\n      <td>[icons actions importing created project build...</td>\n      <td>[[export, file, references, Export, files, exp...</td>\n    </tr>\n    <tr>\n      <th>2</th>\n      <td>49030</td>\n      <td>[java/org/apache/catalina/core/StandardService...</td>\n      <td>tomcat70</td>\n      <td>[listening situation uninitialized xml Server ...</td>\n      <td>Processing of Tomcat Connector configuration ...</td>\n      <td>If the Server part of the Tomcat  configuratio...</td>\n      <td>[listening situation uninitialized xml Server ...</td>\n      <td>[[problem, problem, wrong, wrong, incorrect, c...</td>\n    </tr>\n    <tr>\n      <th>3</th>\n      <td>55582</td>\n      <td>[java/org/apache/jasper/compiler/TagFileProces...</td>\n      <td>tomcat70</td>\n      <td>[threads lines File TagFileProcessor wrapperUr...</td>\n      <td>Concurrent issue of TagFileProcessor</td>\n      <td>Created attachment  [details] Unsynchronized g...</td>\n      <td>[threads lines File TagFileProcessor wrapperUr...</td>\n      <td>[[issue, instance, Thread, Unsynchronized, Jsp...</td>\n    </tr>\n    <tr>\n      <th>4</th>\n      <td>134483</td>\n      <td>[framework/bundles/org.eclipse.ecf/src/org/ecl...</td>\n      <td>ecf</td>\n      <td>[Application Container Standalone Factory Cont...</td>\n      <td>Standalone ClientApplication is breaks in lin...</td>\n      <td>The standalone org.eclipse.ecf.provider.app.Cl...</td>\n      <td>[Application Container Standalone Factory Cont...</td>\n      <td>[[Eclipse, ExceptionInInitializerError, Client...</td>\n    </tr>\n  </tbody>\n</table>\n</div>"
     },
     "execution_count": 19,
     "metadata": {},
     "output_type": "execute_result"
    }
   ],
   "source": [
    "# test_df.head()"
   ],
   "metadata": {
    "collapsed": false,
    "ExecuteTime": {
     "end_time": "2023-08-06T20:26:38.384180100Z",
     "start_time": "2023-08-06T20:26:38.360178300Z"
    }
   }
  },
  {
   "cell_type": "markdown",
   "source": [],
   "metadata": {
    "collapsed": false
   }
  }
 ],
 "metadata": {
  "kernelspec": {
   "display_name": "Python 3",
   "language": "python",
   "name": "python3"
  },
  "language_info": {
   "codemirror_mode": {
    "name": "ipython",
    "version": 2
   },
   "file_extension": ".py",
   "mimetype": "text/x-python",
   "name": "python",
   "nbconvert_exporter": "python",
   "pygments_lexer": "ipython2",
   "version": "2.7.6"
  }
 },
 "nbformat": 4,
 "nbformat_minor": 0
}
