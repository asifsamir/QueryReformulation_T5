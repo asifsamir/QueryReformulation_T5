{
 "cells": [
  {
   "cell_type": "code",
   "execution_count": 1,
   "metadata": {
    "collapsed": true,
    "ExecuteTime": {
     "end_time": "2023-08-07T20:10:43.979560900Z",
     "start_time": "2023-08-07T20:10:43.379484900Z"
    }
   },
   "outputs": [],
   "source": [
    "import numpy as np\n",
    "import pandas as pd\n",
    "import json\n",
    "from IR.Searcher.Index_Searcher import Index_Searcher\n",
    "from Scorer.MajorityVotingScorer import MajorityVotingScorer"
   ]
  },
  {
   "cell_type": "code",
   "execution_count": 2,
   "outputs": [],
   "source": [
    "# load the test_df from json\n",
    "with open('../Data/Outputs/test_recommendations_baseline.json', 'r') as file:\n",
    "    data = file.read()\n",
    "    data = json.loads(data)\n",
    "\n",
    "test_df = pd.DataFrame.from_dict(data)"
   ],
   "metadata": {
    "collapsed": false,
    "ExecuteTime": {
     "end_time": "2023-08-07T20:10:43.995596200Z",
     "start_time": "2023-08-07T20:10:43.981575600Z"
    }
   }
  },
  {
   "cell_type": "code",
   "execution_count": 3,
   "outputs": [
    {
     "data": {
      "text/plain": "   bug_id                                       ground_truth            repo  \\\n0  289455  [org.eclipse.jdt.junit/src/org/eclipse/jdt/int...  eclipse.jdt.ui   \n1  165045  [ui/org.eclipse.pde.core/src/org/eclipse/pde/i...  eclipse.pde.ui   \n2   49030  [java/org/apache/catalina/core/StandardService...        tomcat70   \n3   55582  [java/org/apache/jasper/compiler/TagFileProces...        tomcat70   \n4  134483  [framework/bundles/org.eclipse.ecf/src/org/ecl...             ecf   \n\n                                      reformed_query  \\\n0  [start create JUnit active active Bug active s...   \n1  [icons actions importing created project build...   \n2  [listening situation uninitialized xml Server ...   \n3  [threads lines File TagFileProcessor wrapperUr...   \n4  [Application Container Standalone Factory Cont...   \n\n                                           bug_title  \\\n0           [JUnit] JUnit view not active after test   \n1   Import plugin with source leaves a warning ab...   \n2   Processing of Tomcat Connector configuration ...   \n3               Concurrent issue of TagFileProcessor   \n4   Standalone ClientApplication is breaks in lin...   \n\n                                     bug_description  \\\n0  I20090915-. JUnit view is not active after tes...   \n1  After exporting a plug-in project with source ...   \n2  If the Server part of the Tomcat  configuratio...   \n3  Created attachment  [details] Unsynchronized g...   \n4  The standalone org.eclipse.ecf.provider.app.Cl...   \n\n                                   effective_queries  \\\n0  [start create JUnit active active Bug active s...   \n1  [icons actions importing created project build...   \n2  [listening situation uninitialized xml Server ...   \n3  [threads lines File TagFileProcessor wrapperUr...   \n4  [Application Container Standalone Factory Cont...   \n\n                               query_recommendations  \\\n0  [[JUnit, Java, fresh, Bug, view, Explorer], [J...   \n1  [[export, file, references, Export, files, exp...   \n2  [[problem, problem, wrong, wrong, incorrect, c...   \n3  [[issue, instance, Thread, Unsynchronized, Jsp...   \n4  [[Eclipse, ExceptionInInitializerError, Client...   \n\n                                      baseline_query  \n0  Bug JUnit JUnit view active test JUnit view ac...  \n1  Bug plugin source leaves warning missing src z...  \n2  Processing Tomcat Connector configuration leav...  \n3  tagfileprocessor file issue tag processor conc...  \n4  ecfplugin factory clientapplication container ...  ",
      "text/html": "<div>\n<style scoped>\n    .dataframe tbody tr th:only-of-type {\n        vertical-align: middle;\n    }\n\n    .dataframe tbody tr th {\n        vertical-align: top;\n    }\n\n    .dataframe thead th {\n        text-align: right;\n    }\n</style>\n<table border=\"1\" class=\"dataframe\">\n  <thead>\n    <tr style=\"text-align: right;\">\n      <th></th>\n      <th>bug_id</th>\n      <th>ground_truth</th>\n      <th>repo</th>\n      <th>reformed_query</th>\n      <th>bug_title</th>\n      <th>bug_description</th>\n      <th>effective_queries</th>\n      <th>query_recommendations</th>\n      <th>baseline_query</th>\n    </tr>\n  </thead>\n  <tbody>\n    <tr>\n      <th>0</th>\n      <td>289455</td>\n      <td>[org.eclipse.jdt.junit/src/org/eclipse/jdt/int...</td>\n      <td>eclipse.jdt.ui</td>\n      <td>[start create JUnit active active Bug active s...</td>\n      <td>[JUnit] JUnit view not active after test</td>\n      <td>I20090915-. JUnit view is not active after tes...</td>\n      <td>[start create JUnit active active Bug active s...</td>\n      <td>[[JUnit, Java, fresh, Bug, view, Explorer], [J...</td>\n      <td>Bug JUnit JUnit view active test JUnit view ac...</td>\n    </tr>\n    <tr>\n      <th>1</th>\n      <td>165045</td>\n      <td>[ui/org.eclipse.pde.core/src/org/eclipse/pde/i...</td>\n      <td>eclipse.pde.ui</td>\n      <td>[icons actions importing created project build...</td>\n      <td>Import plugin with source leaves a warning ab...</td>\n      <td>After exporting a plug-in project with source ...</td>\n      <td>[icons actions importing created project build...</td>\n      <td>[[export, file, references, Export, files, exp...</td>\n      <td>Bug plugin source leaves warning missing src z...</td>\n    </tr>\n    <tr>\n      <th>2</th>\n      <td>49030</td>\n      <td>[java/org/apache/catalina/core/StandardService...</td>\n      <td>tomcat70</td>\n      <td>[listening situation uninitialized xml Server ...</td>\n      <td>Processing of Tomcat Connector configuration ...</td>\n      <td>If the Server part of the Tomcat  configuratio...</td>\n      <td>[listening situation uninitialized xml Server ...</td>\n      <td>[[problem, problem, wrong, wrong, incorrect, c...</td>\n      <td>Processing Tomcat Connector configuration leav...</td>\n    </tr>\n    <tr>\n      <th>3</th>\n      <td>55582</td>\n      <td>[java/org/apache/jasper/compiler/TagFileProces...</td>\n      <td>tomcat70</td>\n      <td>[threads lines File TagFileProcessor wrapperUr...</td>\n      <td>Concurrent issue of TagFileProcessor</td>\n      <td>Created attachment  [details] Unsynchronized g...</td>\n      <td>[threads lines File TagFileProcessor wrapperUr...</td>\n      <td>[[issue, instance, Thread, Unsynchronized, Jsp...</td>\n      <td>tagfileprocessor file issue tag processor conc...</td>\n    </tr>\n    <tr>\n      <th>4</th>\n      <td>134483</td>\n      <td>[framework/bundles/org.eclipse.ecf/src/org/ecl...</td>\n      <td>ecf</td>\n      <td>[Application Container Standalone Factory Cont...</td>\n      <td>Standalone ClientApplication is breaks in lin...</td>\n      <td>The standalone org.eclipse.ecf.provider.app.Cl...</td>\n      <td>[Application Container Standalone Factory Cont...</td>\n      <td>[[Eclipse, ExceptionInInitializerError, Client...</td>\n      <td>ecfplugin factory clientapplication container ...</td>\n    </tr>\n  </tbody>\n</table>\n</div>"
     },
     "execution_count": 3,
     "metadata": {},
     "output_type": "execute_result"
    }
   ],
   "source": [
    "# print the test_df\n",
    "test_df.head()"
   ],
   "metadata": {
    "collapsed": false,
    "ExecuteTime": {
     "end_time": "2023-08-07T20:10:44.156171100Z",
     "start_time": "2023-08-07T20:10:44.120638100Z"
    }
   }
  },
  {
   "cell_type": "markdown",
   "source": [
    "## Now Evaluation"
   ],
   "metadata": {
    "collapsed": false
   }
  },
  {
   "cell_type": "code",
   "execution_count": 4,
   "outputs": [],
   "source": [
    "# load the index searcher\n",
    "searcher = Index_Searcher()"
   ],
   "metadata": {
    "collapsed": false,
    "ExecuteTime": {
     "end_time": "2023-08-07T20:10:47.315796500Z",
     "start_time": "2023-08-07T20:10:47.297303300Z"
    }
   }
  },
  {
   "cell_type": "code",
   "execution_count": 5,
   "outputs": [],
   "source": [
    "all_ground_truths = []\n",
    "all_search_results = []"
   ],
   "metadata": {
    "collapsed": false,
    "ExecuteTime": {
     "end_time": "2023-08-07T20:10:51.051247600Z",
     "start_time": "2023-08-07T20:10:51.027243900Z"
    }
   }
  },
  {
   "cell_type": "markdown",
   "source": [
    "### first collect all the search results for each bug description"
   ],
   "metadata": {
    "collapsed": false
   }
  },
  {
   "cell_type": "code",
   "execution_count": 6,
   "outputs": [],
   "source": [
    "# iterate over the test_df\n",
    "for index, row in test_df.iterrows():\n",
    "    # get query\n",
    "    ground_truth = row['ground_truth']\n",
    "    bug_description = row['baseline_query']\n",
    "\n",
    "    search_results_collection = []\n",
    "\n",
    "    search_results = searcher.search(query=bug_description, top_K_results=10)\n",
    "\n",
    "\n",
    "    all_ground_truths.append(ground_truth)\n",
    "    all_search_results.append(search_results)"
   ],
   "metadata": {
    "collapsed": false,
    "ExecuteTime": {
     "end_time": "2023-08-07T20:11:04.210287600Z",
     "start_time": "2023-08-07T20:10:55.109867200Z"
    }
   }
  },
  {
   "cell_type": "markdown",
   "source": [
    "### Now evaluate the results"
   ],
   "metadata": {
    "collapsed": false
   }
  },
  {
   "cell_type": "code",
   "execution_count": 7,
   "outputs": [],
   "source": [
    "from Performance.Performance_Evaluator import Performance_Evaluator\n",
    "\n",
    "performance_evaluator = Performance_Evaluator()"
   ],
   "metadata": {
    "collapsed": false,
    "ExecuteTime": {
     "end_time": "2023-08-07T20:11:08.907468600Z",
     "start_time": "2023-08-07T20:11:08.891486700Z"
    }
   }
  },
  {
   "cell_type": "markdown",
   "source": [
    "### Evaluate the results for K = 1, 5, 10"
   ],
   "metadata": {
    "collapsed": false
   }
  },
  {
   "cell_type": "markdown",
   "source": [
    "#### K = 1"
   ],
   "metadata": {
    "collapsed": false
   }
  },
  {
   "cell_type": "code",
   "execution_count": 8,
   "outputs": [],
   "source": [
    "at_1 = performance_evaluator.evaluate(ground_truths=all_ground_truths, search_results=all_search_results, K=1)"
   ],
   "metadata": {
    "collapsed": false,
    "ExecuteTime": {
     "end_time": "2023-08-07T20:11:13.645723300Z",
     "start_time": "2023-08-07T20:11:13.633729900Z"
    }
   }
  },
  {
   "cell_type": "markdown",
   "source": [
    "#### K = 5"
   ],
   "metadata": {
    "collapsed": false
   }
  },
  {
   "cell_type": "code",
   "execution_count": 9,
   "outputs": [],
   "source": [
    "at_5 = performance_evaluator.evaluate(ground_truths=all_ground_truths, search_results=all_search_results, K=5)"
   ],
   "metadata": {
    "collapsed": false,
    "ExecuteTime": {
     "end_time": "2023-08-07T20:11:16.296556700Z",
     "start_time": "2023-08-07T20:11:16.276696100Z"
    }
   }
  },
  {
   "cell_type": "markdown",
   "source": [
    "#### K = 10"
   ],
   "metadata": {
    "collapsed": false
   }
  },
  {
   "cell_type": "code",
   "execution_count": 10,
   "outputs": [],
   "source": [
    "at_10 = performance_evaluator.evaluate(ground_truths=all_ground_truths, search_results=all_search_results, K=10)"
   ],
   "metadata": {
    "collapsed": false,
    "ExecuteTime": {
     "end_time": "2023-08-07T20:11:18.513755300Z",
     "start_time": "2023-08-07T20:11:18.501757Z"
    }
   }
  },
  {
   "cell_type": "code",
   "execution_count": 11,
   "outputs": [],
   "source": [
    "# create dictionary for the results\n",
    "results = {\n",
    "    'at_1': at_1,\n",
    "    'at_5': at_5,\n",
    "    'at_10': at_10\n",
    "}"
   ],
   "metadata": {
    "collapsed": false,
    "ExecuteTime": {
     "end_time": "2023-08-07T20:11:20.790319Z",
     "start_time": "2023-08-07T20:11:20.781315600Z"
    }
   }
  },
  {
   "cell_type": "code",
   "execution_count": 12,
   "outputs": [
    {
     "name": "stdout",
     "output_type": "stream",
     "text": [
      "{'at_1': {'map': 0.3819642857142857, 'mrr': 0.38196428571428565, 'recall@1': 0.17160256410256408, 'hit@1': 0.27}, 'at_5': {'map': 0.3819642857142857, 'mrr': 0.38196428571428565, 'recall@5': 0.3732692307692308, 'hit@5': 0.55}, 'at_10': {'map': 0.3819642857142857, 'mrr': 0.38196428571428565, 'recall@10': 0.42760256410256403, 'hit@10': 0.65}}\n"
     ]
    }
   ],
   "source": [
    "# print the results\n",
    "print(results)"
   ],
   "metadata": {
    "collapsed": false,
    "ExecuteTime": {
     "end_time": "2023-08-07T20:11:23.070433Z",
     "start_time": "2023-08-07T20:11:23.054351600Z"
    }
   }
  },
  {
   "cell_type": "code",
   "execution_count": 15,
   "outputs": [],
   "source": [
    "baseline_data = {\n",
    "    'at_1': at_1,\n",
    "    'at_5': at_5,\n",
    "    'at_10': at_10\n",
    "}"
   ],
   "metadata": {
    "collapsed": false,
    "ExecuteTime": {
     "end_time": "2023-08-07T20:25:43.452186Z",
     "start_time": "2023-08-07T20:25:43.430423700Z"
    }
   }
  },
  {
   "cell_type": "code",
   "execution_count": 16,
   "outputs": [
    {
     "name": "stdout",
     "output_type": "stream",
     "text": [
      "{'at_1': {'recall@1': 0.17160256410256408, 'hit@1': 0.27}, 'at_5': {'recall@5': 0.3732692307692308, 'hit@5': 0.55}, 'at_10': {'recall@10': 0.42760256410256403, 'hit@10': 0.65}}\n"
     ]
    }
   ],
   "source": [
    "for key in baseline_data:\n",
    "    baseline_data[key].pop('mrr', None)\n",
    "    baseline_data[key].pop('map', None)\n",
    "\n",
    "print(baseline_data)"
   ],
   "metadata": {
    "collapsed": false,
    "ExecuteTime": {
     "end_time": "2023-08-07T20:25:47.314598200Z",
     "start_time": "2023-08-07T20:25:47.304589600Z"
    }
   }
  },
  {
   "cell_type": "code",
   "execution_count": 18,
   "outputs": [
    {
     "data": {
      "text/plain": "<Figure size 1200x600 with 2 Axes>",
      "image/png": "[encoded data removed]"
     },
     "metadata": {},
     "output_type": "display_data"
    }
   ],
   "source": [
    "import matplotlib.pyplot as plt\n",
    "\n",
    "# Data for Baseline\n",
    "blizzard_recall = [0.17160256410256408, 0.3732692307692308, 0.42760256410256403]\n",
    "blizzard_hit = [0.27, 0.55, 0.65]\n",
    "\n",
    "baseline_recall = [0.0891025641025641, 0.23576923076923076, 0.28076923076923077]\n",
    "baseline_hit = [0.16, 0.37, 0.43]\n",
    "\n",
    "# Data for T5\n",
    "t5_recall = [0.045, 0.12576923076923077, 0.17326923076923076]\n",
    "t5_hit = [0.07, 0.21, 0.28]\n",
    "\n",
    "# Create a figure and axis for Recall comparison\n",
    "fig, (ax1, ax2) = plt.subplots(1, 2, figsize=(12, 6))\n",
    "\n",
    "# Width of the bars\n",
    "bar_width = 0.35\n",
    "\n",
    "# Bar positions\n",
    "bar_positions1 = [1, 2, 3]\n",
    "bar_positions2 = [x + bar_width for x in bar_positions1]\n",
    "\n",
    "# Create bar plots for Recall comparison\n",
    "ax1.bar(bar_positions1, blizzard_recall, bar_width, label='Blizzard')\n",
    "ax1.bar(bar_positions2, baseline_recall, bar_width, label='Baseline')\n",
    "ax1.bar([x + 2 * bar_width for x in bar_positions1], t5_recall, bar_width, label='T5')\n",
    "\n",
    "# Set axis labels and title for Recall comparison\n",
    "ax1.set_xlabel('K')\n",
    "ax1.set_ylabel('Recall Values')\n",
    "ax1.set_title('Comparison of Recall at Different K for Blizzard, Baseline, and T5')\n",
    "ax1.set_xticks([x + bar_width for x in bar_positions1])\n",
    "ax1.set_xticklabels(['1', '5', '10'])\n",
    "ax1.legend()\n",
    "\n",
    "# Create bar plots for Hit comparison\n",
    "ax2.bar(bar_positions1, blizzard_hit, bar_width, label='Blizzard')\n",
    "ax2.bar(bar_positions2, baseline_hit, bar_width, label='Baseline')\n",
    "ax2.bar([x + 2 * bar_width for x in bar_positions1], t5_hit, bar_width, label='T5')\n",
    "\n",
    "# Set axis labels and title for Hit comparison\n",
    "ax2.set_xlabel('K')\n",
    "ax2.set_ylabel('Hit Values')\n",
    "ax2.set_title('Comparison of Hit at Different K for Blizzard, Baseline, and T5')\n",
    "ax2.set_xticks([x + bar_width for x in bar_positions1])\n",
    "ax2.set_xticklabels(['1', '5', '10'])\n",
    "ax2.legend()\n",
    "\n",
    "# Display the plots\n",
    "plt.tight_layout()\n",
    "plt.show()\n"
   ],
   "metadata": {
    "collapsed": false,
    "ExecuteTime": {
     "end_time": "2023-08-07T20:27:51.435660400Z",
     "start_time": "2023-08-07T20:27:51.140311300Z"
    }
   }
  }
 ],
 "metadata": {
  "kernelspec": {
   "display_name": "Python 3",
   "language": "python",
   "name": "python3"
  },
  "language_info": {
   "codemirror_mode": {
    "name": "ipython",
    "version": 2
   },
   "file_extension": ".py",
   "mimetype": "text/x-python",
   "name": "python",
   "nbconvert_exporter": "python",
   "pygments_lexer": "ipython2",
   "version": "2.7.6"
  }
 },
 "nbformat": 4,
 "nbformat_minor": 0
}
