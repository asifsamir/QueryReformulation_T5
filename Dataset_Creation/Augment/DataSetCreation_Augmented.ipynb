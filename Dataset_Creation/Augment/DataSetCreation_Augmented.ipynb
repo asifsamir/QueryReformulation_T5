{
 "cells": [
  {
   "cell_type": "code",
   "execution_count": 16,
   "metadata": {
    "collapsed": true,
    "ExecuteTime": {
     "end_time": "2023-07-31T20:19:52.758319700Z",
     "start_time": "2023-07-31T20:19:52.572657Z"
    }
   },
   "outputs": [],
   "source": [
    "import pandas as pd\n",
    "import os"
   ]
  },
  {
   "cell_type": "code",
   "execution_count": 17,
   "outputs": [],
   "source": [
    "base_path = 'D:\\Research\\Data\\QueryReformulaiton\\Forgotten_rule_query_reformulation-master\\\\'\n",
    "ground_truth_path = base_path + '\\GroundTruth'\n",
    "reformulated_query_path = base_path + 'NrOptimal-GA\\Query'\n",
    "bug_report_path = base_path + '\\BugReports\\ALL'"
   ],
   "metadata": {
    "collapsed": false,
    "ExecuteTime": {
     "end_time": "2023-07-31T20:19:52.792340600Z",
     "start_time": "2023-07-31T20:19:52.590657900Z"
    }
   }
  },
  {
   "cell_type": "code",
   "execution_count": 18,
   "outputs": [],
   "source": [
    "# read folder names from bug report folder\n",
    "bug_report_folders = os.listdir(bug_report_path)\n",
    "# repositories ="
   ],
   "metadata": {
    "collapsed": false,
    "ExecuteTime": {
     "end_time": "2023-07-31T20:19:52.812348100Z",
     "start_time": "2023-07-31T20:19:52.607660400Z"
    }
   }
  },
  {
   "cell_type": "code",
   "execution_count": 19,
   "outputs": [],
   "source": [
    "bug_repos = bug_report_folders"
   ],
   "metadata": {
    "collapsed": false,
    "ExecuteTime": {
     "end_time": "2023-07-31T20:19:52.812348100Z",
     "start_time": "2023-07-31T20:19:52.623168200Z"
    }
   }
  },
  {
   "cell_type": "code",
   "execution_count": 20,
   "outputs": [],
   "source": [
    "# from ground truth, based on bug repos, read the ground truth. for each bug repo, there are multiple ground truth files\n",
    "# for each repo create a dataframe with columns: bug_id, which is the file name, and the file associated with it as ground truth\n",
    "\n",
    "\n"
   ],
   "metadata": {
    "collapsed": false,
    "ExecuteTime": {
     "end_time": "2023-07-31T20:19:52.813349500Z",
     "start_time": "2023-07-31T20:19:52.639169400Z"
    }
   }
  },
  {
   "cell_type": "markdown",
   "source": [
    "## Step: 1 first dataframe with bug_id and ground truth"
   ],
   "metadata": {
    "collapsed": false
   }
  },
  {
   "cell_type": "code",
   "execution_count": 21,
   "outputs": [],
   "source": [
    "# iterate over bug_repos and read the ground truth files\n",
    "ground_truth_df = pd.DataFrame(columns=['bug_id', 'ground_truth', 'repo'])\n",
    "for repo in bug_repos:\n",
    "    cur_repo_path = ground_truth_path + '\\\\' + repo\n",
    "    ground_truth_files = os.listdir(cur_repo_path)\n",
    "    for file in ground_truth_files:\n",
    "        cur_file_path = cur_repo_path + '\\\\' + file\n",
    "        bug_id, _ = os.path.splitext(file)\n",
    "        # read the content of the file as a string as ground truth\n",
    "        with open(cur_file_path, 'r') as f:\n",
    "            # one bug can have multiple ground truths. each line is a ground truth. read line wise add to a list\n",
    "            ground_truth = f.readlines()\n",
    "            # remove the new line character from the end of each line\n",
    "            ground_truth = [x.strip() for x in ground_truth]\n",
    "\n",
    "\n",
    "        # Creating a new DataFrame for the new row\n",
    "        new_row = pd.DataFrame({'bug_id': [bug_id], 'ground_truth': [ground_truth], 'repo': [repo]})\n",
    "\n",
    "        # Concatenate the new row DataFrame with the existing DataFrame\n",
    "        ground_truth_df = pd.concat([ground_truth_df, new_row], ignore_index=True)"
   ],
   "metadata": {
    "collapsed": false,
    "ExecuteTime": {
     "end_time": "2023-07-31T20:19:53.951301200Z",
     "start_time": "2023-07-31T20:19:52.656172400Z"
    }
   }
  },
  {
   "cell_type": "code",
   "execution_count": 22,
   "outputs": [
    {
     "data": {
      "text/plain": "   bug_id                                       ground_truth repo\n0  112599  [providers/bundles/org.eclipse.ecf.provider.xm...  ecf\n1  125572  [framework/bundles/org.eclipse.ecf.provider/sr...  ecf\n2  134483  [framework/bundles/org.eclipse.ecf/src/org/ecl...  ecf\n3  146622  [framework/bundles/org.eclipse.ecf.provider/sr...  ecf\n4  147269  [framework/bundles/org.eclipse.ecf.provider/sr...  ecf",
      "text/html": "<div>\n<style scoped>\n    .dataframe tbody tr th:only-of-type {\n        vertical-align: middle;\n    }\n\n    .dataframe tbody tr th {\n        vertical-align: top;\n    }\n\n    .dataframe thead th {\n        text-align: right;\n    }\n</style>\n<table border=\"1\" class=\"dataframe\">\n  <thead>\n    <tr style=\"text-align: right;\">\n      <th></th>\n      <th>bug_id</th>\n      <th>ground_truth</th>\n      <th>repo</th>\n    </tr>\n  </thead>\n  <tbody>\n    <tr>\n      <th>0</th>\n      <td>112599</td>\n      <td>[providers/bundles/org.eclipse.ecf.provider.xm...</td>\n      <td>ecf</td>\n    </tr>\n    <tr>\n      <th>1</th>\n      <td>125572</td>\n      <td>[framework/bundles/org.eclipse.ecf.provider/sr...</td>\n      <td>ecf</td>\n    </tr>\n    <tr>\n      <th>2</th>\n      <td>134483</td>\n      <td>[framework/bundles/org.eclipse.ecf/src/org/ecl...</td>\n      <td>ecf</td>\n    </tr>\n    <tr>\n      <th>3</th>\n      <td>146622</td>\n      <td>[framework/bundles/org.eclipse.ecf.provider/sr...</td>\n      <td>ecf</td>\n    </tr>\n    <tr>\n      <th>4</th>\n      <td>147269</td>\n      <td>[framework/bundles/org.eclipse.ecf.provider/sr...</td>\n      <td>ecf</td>\n    </tr>\n  </tbody>\n</table>\n</div>"
     },
     "execution_count": 22,
     "metadata": {},
     "output_type": "execute_result"
    }
   ],
   "source": [
    "ground_truth_df.head()"
   ],
   "metadata": {
    "collapsed": false,
    "ExecuteTime": {
     "end_time": "2023-07-31T20:19:53.987290500Z",
     "start_time": "2023-07-31T20:19:53.958304400Z"
    }
   }
  },
  {
   "cell_type": "markdown",
   "source": [
    "## Step-2: Second dataframe with bug_id and reformulated query"
   ],
   "metadata": {
    "collapsed": false
   }
  },
  {
   "cell_type": "code",
   "execution_count": 23,
   "outputs": [],
   "source": [
    "# all_reformed_query_files = os.listdir(reformulated_query_path)\n",
    "# dict_bug_id_query = {}\n",
    "\n",
    "which_file = 'GA-ALL-QE-K10-1.txt'\n",
    "reformed_query_df = pd.DataFrame(columns=['bug_id', 'reformed_query', 'repo'])\n",
    "for repo in bug_repos:\n",
    "\n",
    "    all_reformed_query_files = os.listdir(os.path.join(reformulated_query_path, repo))\n",
    "    dict_bug_id_query = {}\n",
    "\n",
    "    # now, iterate through all the reformed query file\n",
    "    for reformed_query_file in all_reformed_query_files:\n",
    "        which_file = reformed_query_file\n",
    "        cur_query_file = reformulated_query_path + '\\\\' + repo + '\\\\' + which_file\n",
    "        # read the file line by line. each line first few characters are the bug id separated by a tab; then the query\n",
    "        with open(cur_query_file, 'r') as f:\n",
    "            for line in f:\n",
    "                bug_id = line.split('\\t')[0]\n",
    "                query = line.split('\\t')[1]\n",
    "\n",
    "                # remove the new line character from the end of each line\n",
    "                query = query.strip()\n",
    "\n",
    "                # check if bug_id exists in the dictionary\n",
    "                if bug_id not in dict_bug_id_query:\n",
    "                    reformed_query_array = [query]\n",
    "                    dict_bug_id_query[bug_id] = reformed_query_array\n",
    "                else:\n",
    "                    reformed_query_array = dict_bug_id_query[bug_id]\n",
    "                    reformed_query_array.append(query)\n",
    "                    dict_bug_id_query[bug_id] = reformed_query_array\n",
    "\n",
    "    # now, iterate through the dictionary\n",
    "    for key, value in dict_bug_id_query.items():\n",
    "        # Creating a new DataFrame for the new row\n",
    "        new_row = pd.DataFrame({'bug_id': [key], 'reformed_query': [value], 'repo': [repo]})\n",
    "\n",
    "        # Concatenate the new row DataFrame with the existing DataFrame\n",
    "        reformed_query_df = pd.concat([reformed_query_df, new_row], ignore_index=True)"
   ],
   "metadata": {
    "collapsed": false,
    "ExecuteTime": {
     "end_time": "2023-07-31T20:19:54.906089400Z",
     "start_time": "2023-07-31T20:19:53.987290500Z"
    }
   }
  },
  {
   "cell_type": "code",
   "execution_count": 24,
   "outputs": [
    {
     "data": {
      "text/plain": "   bug_id                                     reformed_query repo\n0  209410  [TODOs Bug properties comments HTMLified Bug c...  ecf\n1  211585  [service parsing stumbles code type, parsing D...  ecf\n2  318086  [build moment project build ecf tests org mome...  ecf\n3  238976  [Editor modifications editor remote shared rem...  ecf\n4  193415  [contacts Account accounts disconnect chevron ...  ecf",
      "text/html": "<div>\n<style scoped>\n    .dataframe tbody tr th:only-of-type {\n        vertical-align: middle;\n    }\n\n    .dataframe tbody tr th {\n        vertical-align: top;\n    }\n\n    .dataframe thead th {\n        text-align: right;\n    }\n</style>\n<table border=\"1\" class=\"dataframe\">\n  <thead>\n    <tr style=\"text-align: right;\">\n      <th></th>\n      <th>bug_id</th>\n      <th>reformed_query</th>\n      <th>repo</th>\n    </tr>\n  </thead>\n  <tbody>\n    <tr>\n      <th>0</th>\n      <td>209410</td>\n      <td>[TODOs Bug properties comments HTMLified Bug c...</td>\n      <td>ecf</td>\n    </tr>\n    <tr>\n      <th>1</th>\n      <td>211585</td>\n      <td>[service parsing stumbles code type, parsing D...</td>\n      <td>ecf</td>\n    </tr>\n    <tr>\n      <th>2</th>\n      <td>318086</td>\n      <td>[build moment project build ecf tests org mome...</td>\n      <td>ecf</td>\n    </tr>\n    <tr>\n      <th>3</th>\n      <td>238976</td>\n      <td>[Editor modifications editor remote shared rem...</td>\n      <td>ecf</td>\n    </tr>\n    <tr>\n      <th>4</th>\n      <td>193415</td>\n      <td>[contacts Account accounts disconnect chevron ...</td>\n      <td>ecf</td>\n    </tr>\n  </tbody>\n</table>\n</div>"
     },
     "execution_count": 24,
     "metadata": {},
     "output_type": "execute_result"
    }
   ],
   "source": [
    "reformed_query_df.head()"
   ],
   "metadata": {
    "collapsed": false,
    "ExecuteTime": {
     "end_time": "2023-07-31T20:19:54.954814300Z",
     "start_time": "2023-07-31T20:19:54.916094900Z"
    }
   }
  },
  {
   "cell_type": "code",
   "execution_count": 25,
   "outputs": [
    {
     "data": {
      "text/plain": "['TODOs Bug properties comments HTMLified Bug commands feedback improved bot',\n 'handling HTMLified Bug comments properties bot file TODOs Bug documentation',\n 'HTMLified HTMLified details simply Bug documentation improved commands Bug bot',\n 'attachment commands fixes documentation improved Bug feedback Bug improve regexes',\n 'Created attached bot details HTMLified documentation improved Created properties documentation attachment commands attached Bug patch',\n 'simply patch misc TODOs Bug HTMLified simply commands Bug TODOs feedback properties improved bot misc properties Created feedback Bug attached',\n 'fixes Bug feedback simply commands']"
     },
     "execution_count": 25,
     "metadata": {},
     "output_type": "execute_result"
    }
   ],
   "source": [
    "reformed_query_df['reformed_query'][0]"
   ],
   "metadata": {
    "collapsed": false,
    "ExecuteTime": {
     "end_time": "2023-07-31T20:19:54.962814100Z",
     "start_time": "2023-07-31T20:19:54.950837200Z"
    }
   }
  },
  {
   "cell_type": "markdown",
   "source": [
    "## Step-3: Third dataframe with bug_id and bug report"
   ],
   "metadata": {
    "collapsed": false
   }
  },
  {
   "cell_type": "code",
   "execution_count": 26,
   "outputs": [],
   "source": [
    "# iterate over bug_repos and read the ground truth files\n",
    "bug_report_df = pd.DataFrame(columns=['bug_id', 'bug_title', 'bug_description', 'repo'])\n",
    "for repo in bug_repos:\n",
    "    cur_repo_path = bug_report_path + '\\\\' + repo\n",
    "    bug_report_files = os.listdir(cur_repo_path)\n",
    "    for file in bug_report_files:\n",
    "        cur_file_path = cur_repo_path + '\\\\' + file\n",
    "        bug_id, _ = os.path.splitext(file)\n",
    "        # read the content of the file as a string as ground truth\n",
    "        with open(cur_file_path, 'r') as f:\n",
    "            bug_title = f.readline()\n",
    "            # remove the new line character from the end of each line\n",
    "            bug_title = bug_title.strip()\n",
    "\n",
    "            # replace the string format 'Bug+space+bug_id' from the beginning of the title\n",
    "            bug_title = bug_title.replace('Bug ' + bug_id, '')\n",
    "            bug_title = bug_title.replace(bug_id, '')\n",
    "\n",
    "            bug_description = f.read()\n",
    "\n",
    "        # Creating a new DataFrame for the new row\n",
    "        new_row = pd.DataFrame({'bug_id': [bug_id], 'bug_title': [bug_title], 'bug_description': [bug_description], 'repo': [repo]})\n",
    "\n",
    "        # Concatenate the new row DataFrame with the existing DataFrame\n",
    "        bug_report_df = pd.concat([bug_report_df, new_row], ignore_index=True)"
   ],
   "metadata": {
    "collapsed": false,
    "ExecuteTime": {
     "end_time": "2023-07-31T20:20:06.168763400Z",
     "start_time": "2023-07-31T20:19:54.967818Z"
    }
   }
  },
  {
   "cell_type": "code",
   "execution_count": 27,
   "outputs": [
    {
     "data": {
      "text/plain": "   bug_id                                          bug_title  \\\n0  112599   – [XMPP] Room subject does not get updated in...   \n1  125572            – ECF Generic provider thread interlock   \n2  134483   – Standalone ClientApplication is breaks in l...   \n3  146622   – deserializeSharedObjectMessage with custom ...   \n4  147269   – The \"send file\" functionality fails and lau...   \n\n                                     bug_description repo  \n0  When updated remotely by xmpp server title of ...  ecf  \n1  We see the following problem while running an ...  ecf  \n2  The standalone org.eclipse.ecf.provider.app.Cl...  ecf  \n3  when sending a instance of a custom Class in a...  ecf  \n4  >>> Environment: WinXP + Java 1.5.0_06 + Eclip...  ecf  ",
      "text/html": "<div>\n<style scoped>\n    .dataframe tbody tr th:only-of-type {\n        vertical-align: middle;\n    }\n\n    .dataframe tbody tr th {\n        vertical-align: top;\n    }\n\n    .dataframe thead th {\n        text-align: right;\n    }\n</style>\n<table border=\"1\" class=\"dataframe\">\n  <thead>\n    <tr style=\"text-align: right;\">\n      <th></th>\n      <th>bug_id</th>\n      <th>bug_title</th>\n      <th>bug_description</th>\n      <th>repo</th>\n    </tr>\n  </thead>\n  <tbody>\n    <tr>\n      <th>0</th>\n      <td>112599</td>\n      <td>– [XMPP] Room subject does not get updated in...</td>\n      <td>When updated remotely by xmpp server title of ...</td>\n      <td>ecf</td>\n    </tr>\n    <tr>\n      <th>1</th>\n      <td>125572</td>\n      <td>– ECF Generic provider thread interlock</td>\n      <td>We see the following problem while running an ...</td>\n      <td>ecf</td>\n    </tr>\n    <tr>\n      <th>2</th>\n      <td>134483</td>\n      <td>– Standalone ClientApplication is breaks in l...</td>\n      <td>The standalone org.eclipse.ecf.provider.app.Cl...</td>\n      <td>ecf</td>\n    </tr>\n    <tr>\n      <th>3</th>\n      <td>146622</td>\n      <td>– deserializeSharedObjectMessage with custom ...</td>\n      <td>when sending a instance of a custom Class in a...</td>\n      <td>ecf</td>\n    </tr>\n    <tr>\n      <th>4</th>\n      <td>147269</td>\n      <td>– The \"send file\" functionality fails and lau...</td>\n      <td>&gt;&gt;&gt; Environment: WinXP + Java 1.5.0_06 + Eclip...</td>\n      <td>ecf</td>\n    </tr>\n  </tbody>\n</table>\n</div>"
     },
     "execution_count": 27,
     "metadata": {},
     "output_type": "execute_result"
    }
   ],
   "source": [
    "bug_report_df.head()"
   ],
   "metadata": {
    "collapsed": false,
    "ExecuteTime": {
     "end_time": "2023-07-31T20:20:06.184788800Z",
     "start_time": "2023-07-31T20:20:06.171782700Z"
    }
   }
  },
  {
   "cell_type": "markdown",
   "source": [
    "## Step 4: Merge the three dataframes"
   ],
   "metadata": {
    "collapsed": false
   }
  },
  {
   "cell_type": "code",
   "execution_count": 28,
   "outputs": [],
   "source": [
    "# merge the three dataframes based on 'bug_id'"
   ],
   "metadata": {
    "collapsed": false,
    "ExecuteTime": {
     "end_time": "2023-07-31T20:20:06.227553800Z",
     "start_time": "2023-07-31T20:20:06.186790800Z"
    }
   }
  },
  {
   "cell_type": "code",
   "execution_count": 29,
   "outputs": [],
   "source": [
    "merged_df = pd.merge(ground_truth_df, reformed_query_df, on=['bug_id', 'repo'])"
   ],
   "metadata": {
    "collapsed": false,
    "ExecuteTime": {
     "end_time": "2023-07-31T20:20:06.260153200Z",
     "start_time": "2023-07-31T20:20:06.217910500Z"
    }
   }
  },
  {
   "cell_type": "code",
   "execution_count": 30,
   "outputs": [],
   "source": [
    "merged_df = pd.merge(merged_df, bug_report_df, on=['bug_id', 'repo'])"
   ],
   "metadata": {
    "collapsed": false,
    "ExecuteTime": {
     "end_time": "2023-07-31T20:20:06.337406600Z",
     "start_time": "2023-07-31T20:20:06.233068Z"
    }
   }
  },
  {
   "cell_type": "code",
   "execution_count": 31,
   "outputs": [
    {
     "data": {
      "text/plain": "   bug_id                                       ground_truth repo  \\\n0  112599  [providers/bundles/org.eclipse.ecf.provider.xm...  ecf   \n1  125572  [framework/bundles/org.eclipse.ecf.provider/sr...  ecf   \n2  134483  [framework/bundles/org.eclipse.ecf/src/org/ecl...  ecf   \n3  146622  [framework/bundles/org.eclipse.ecf.provider/sr...  ecf   \n4  147269  [framework/bundles/org.eclipse.ecf.provider/sr...  ecf   \n\n                                      reformed_query  \\\n0  [updated xmpp xmpp chat updated updated room x...   \n1  [Suspended Context client Connection Container...   \n2  [Application Container Standalone Factory Cont...   \n3  [handleAsynchEvent bins handleSharedObjectMess...   \n4  [group Group Thread SOManager crash load share...   \n\n                                           bug_title  \\\n0   – [XMPP] Room subject does not get updated in...   \n1            – ECF Generic provider thread interlock   \n2   – Standalone ClientApplication is breaks in l...   \n3   – deserializeSharedObjectMessage with custom ...   \n4   – The \"send file\" functionality fails and lau...   \n\n                                     bug_description  \n0  When updated remotely by xmpp server title of ...  \n1  We see the following problem while running an ...  \n2  The standalone org.eclipse.ecf.provider.app.Cl...  \n3  when sending a instance of a custom Class in a...  \n4  >>> Environment: WinXP + Java 1.5.0_06 + Eclip...  ",
      "text/html": "<div>\n<style scoped>\n    .dataframe tbody tr th:only-of-type {\n        vertical-align: middle;\n    }\n\n    .dataframe tbody tr th {\n        vertical-align: top;\n    }\n\n    .dataframe thead th {\n        text-align: right;\n    }\n</style>\n<table border=\"1\" class=\"dataframe\">\n  <thead>\n    <tr style=\"text-align: right;\">\n      <th></th>\n      <th>bug_id</th>\n      <th>ground_truth</th>\n      <th>repo</th>\n      <th>reformed_query</th>\n      <th>bug_title</th>\n      <th>bug_description</th>\n    </tr>\n  </thead>\n  <tbody>\n    <tr>\n      <th>0</th>\n      <td>112599</td>\n      <td>[providers/bundles/org.eclipse.ecf.provider.xm...</td>\n      <td>ecf</td>\n      <td>[updated xmpp xmpp chat updated updated room x...</td>\n      <td>– [XMPP] Room subject does not get updated in...</td>\n      <td>When updated remotely by xmpp server title of ...</td>\n    </tr>\n    <tr>\n      <th>1</th>\n      <td>125572</td>\n      <td>[framework/bundles/org.eclipse.ecf.provider/sr...</td>\n      <td>ecf</td>\n      <td>[Suspended Context client Connection Container...</td>\n      <td>– ECF Generic provider thread interlock</td>\n      <td>We see the following problem while running an ...</td>\n    </tr>\n    <tr>\n      <th>2</th>\n      <td>134483</td>\n      <td>[framework/bundles/org.eclipse.ecf/src/org/ecl...</td>\n      <td>ecf</td>\n      <td>[Application Container Standalone Factory Cont...</td>\n      <td>– Standalone ClientApplication is breaks in l...</td>\n      <td>The standalone org.eclipse.ecf.provider.app.Cl...</td>\n    </tr>\n    <tr>\n      <th>3</th>\n      <td>146622</td>\n      <td>[framework/bundles/org.eclipse.ecf.provider/sr...</td>\n      <td>ecf</td>\n      <td>[handleAsynchEvent bins handleSharedObjectMess...</td>\n      <td>– deserializeSharedObjectMessage with custom ...</td>\n      <td>when sending a instance of a custom Class in a...</td>\n    </tr>\n    <tr>\n      <th>4</th>\n      <td>147269</td>\n      <td>[framework/bundles/org.eclipse.ecf.provider/sr...</td>\n      <td>ecf</td>\n      <td>[group Group Thread SOManager crash load share...</td>\n      <td>– The \"send file\" functionality fails and lau...</td>\n      <td>&gt;&gt;&gt; Environment: WinXP + Java 1.5.0_06 + Eclip...</td>\n    </tr>\n  </tbody>\n</table>\n</div>"
     },
     "execution_count": 31,
     "metadata": {},
     "output_type": "execute_result"
    }
   ],
   "source": [
    "merged_df.head()"
   ],
   "metadata": {
    "collapsed": false,
    "ExecuteTime": {
     "end_time": "2023-07-31T20:20:06.360342200Z",
     "start_time": "2023-07-31T20:20:06.260153200Z"
    }
   }
  },
  {
   "cell_type": "markdown",
   "source": [
    "### Check stats"
   ],
   "metadata": {
    "collapsed": false
   }
  },
  {
   "cell_type": "code",
   "execution_count": 32,
   "outputs": [
    {
     "data": {
      "text/plain": "(2320, 6)"
     },
     "execution_count": 32,
     "metadata": {},
     "output_type": "execute_result"
    }
   ],
   "source": [
    "merged_df.shape"
   ],
   "metadata": {
    "collapsed": false,
    "ExecuteTime": {
     "end_time": "2023-07-31T20:20:06.360342200Z",
     "start_time": "2023-07-31T20:20:06.264169100Z"
    }
   }
  },
  {
   "cell_type": "code",
   "execution_count": 33,
   "outputs": [
    {
     "data": {
      "text/plain": "2318"
     },
     "execution_count": 33,
     "metadata": {},
     "output_type": "execute_result"
    }
   ],
   "source": [
    "len(merged_df['bug_id'].unique())\n"
   ],
   "metadata": {
    "collapsed": false,
    "ExecuteTime": {
     "end_time": "2023-07-31T20:20:06.360342200Z",
     "start_time": "2023-07-31T20:20:06.281165600Z"
    }
   }
  },
  {
   "cell_type": "code",
   "execution_count": 34,
   "outputs": [
    {
     "data": {
      "text/plain": "Empty DataFrame\nColumns: [bug_id, ground_truth, repo, reformed_query, bug_title, bug_description]\nIndex: []",
      "text/html": "<div>\n<style scoped>\n    .dataframe tbody tr th:only-of-type {\n        vertical-align: middle;\n    }\n\n    .dataframe tbody tr th {\n        vertical-align: top;\n    }\n\n    .dataframe thead th {\n        text-align: right;\n    }\n</style>\n<table border=\"1\" class=\"dataframe\">\n  <thead>\n    <tr style=\"text-align: right;\">\n      <th></th>\n      <th>bug_id</th>\n      <th>ground_truth</th>\n      <th>repo</th>\n      <th>reformed_query</th>\n      <th>bug_title</th>\n      <th>bug_description</th>\n    </tr>\n  </thead>\n  <tbody>\n  </tbody>\n</table>\n</div>"
     },
     "execution_count": 34,
     "metadata": {},
     "output_type": "execute_result"
    }
   ],
   "source": [
    "merged_df[merged_df.duplicated(['bug_id', 'repo'])]"
   ],
   "metadata": {
    "collapsed": false,
    "ExecuteTime": {
     "end_time": "2023-07-31T20:20:06.361349200Z",
     "start_time": "2023-07-31T20:20:06.299171400Z"
    }
   }
  },
  {
   "cell_type": "markdown",
   "source": [
    "## Step 5: Save the merged dataframe as a json file"
   ],
   "metadata": {
    "collapsed": false
   }
  },
  {
   "cell_type": "code",
   "execution_count": 49,
   "outputs": [],
   "source": [
    "# convert each row of the dataframe to a json object and save it in a json file\n"
   ],
   "metadata": {
    "collapsed": false,
    "ExecuteTime": {
     "end_time": "2023-07-21T05:01:24.504355500Z",
     "start_time": "2023-07-21T05:01:24.490975700Z"
    }
   }
  },
  {
   "cell_type": "code",
   "execution_count": 36,
   "outputs": [],
   "source": [
    "import json\n"
   ],
   "metadata": {
    "collapsed": false,
    "ExecuteTime": {
     "end_time": "2023-07-31T20:21:44.113199500Z",
     "start_time": "2023-07-31T20:21:44.107195400Z"
    }
   }
  },
  {
   "cell_type": "code",
   "execution_count": 37,
   "outputs": [],
   "source": [
    "# convert the dataframe to a list of dictionaries\n",
    "merged_df_dict = merged_df.to_dict('records')"
   ],
   "metadata": {
    "collapsed": false,
    "ExecuteTime": {
     "end_time": "2023-07-31T20:21:51.236217500Z",
     "start_time": "2023-07-31T20:21:51.207210500Z"
    }
   }
  },
  {
   "cell_type": "code",
   "execution_count": 38,
   "outputs": [],
   "source": [
    "# save the list of dictionaries as a json file\n",
    "with open('../../Data/Augmented/All_Data.json', 'w') as f:\n",
    "    json.dump(merged_df_dict, f)"
   ],
   "metadata": {
    "collapsed": false,
    "ExecuteTime": {
     "end_time": "2023-07-31T20:21:52.887405200Z",
     "start_time": "2023-07-31T20:21:52.786881400Z"
    }
   }
  },
  {
   "cell_type": "code",
   "execution_count": null,
   "outputs": [],
   "source": [],
   "metadata": {
    "collapsed": false
   }
  },
  {
   "cell_type": "markdown",
   "source": [
    "#### read the json file and convert it to a dataframe"
   ],
   "metadata": {
    "collapsed": false
   }
  },
  {
   "cell_type": "code",
   "execution_count": 39,
   "outputs": [],
   "source": [
    "import json\n",
    "\n",
    "file_path = '../../Data/Augmented/All_Data.json'\n",
    "\n",
    "try:\n",
    "    with open(file_path, 'r') as f:\n",
    "        file_contents = f.read()\n",
    "        # print(file_contents)  # Print the contents of the file\n",
    "\n",
    "    data = json.loads(file_contents)\n",
    "    # Process the JSON data here\n",
    "\n",
    "except json.JSONDecodeError as e:\n",
    "    print(\"Error decoding JSON:\", e)\n",
    "except FileNotFoundError:\n",
    "    print(f\"File not found: '{file_path}'\")\n",
    "except Exception as e:\n",
    "    print(\"Error:\", e)"
   ],
   "metadata": {
    "collapsed": false,
    "ExecuteTime": {
     "end_time": "2023-07-31T20:22:46.490536700Z",
     "start_time": "2023-07-31T20:22:46.450424100Z"
    }
   }
  },
  {
   "cell_type": "markdown",
   "source": [
    "#### convert the list of dictionaries to a dataframe"
   ],
   "metadata": {
    "collapsed": false
   }
  },
  {
   "cell_type": "code",
   "execution_count": 40,
   "outputs": [],
   "source": [
    "# convert the list of dictionaries to a dataframe\n",
    "df = pd.DataFrame.from_dict(data)"
   ],
   "metadata": {
    "collapsed": false,
    "ExecuteTime": {
     "end_time": "2023-07-31T20:22:50.428991600Z",
     "start_time": "2023-07-31T20:22:50.407596900Z"
    }
   }
  },
  {
   "cell_type": "code",
   "execution_count": 41,
   "outputs": [
    {
     "data": {
      "text/plain": "   bug_id                                       ground_truth repo  \\\n0  112599  [providers/bundles/org.eclipse.ecf.provider.xm...  ecf   \n1  125572  [framework/bundles/org.eclipse.ecf.provider/sr...  ecf   \n2  134483  [framework/bundles/org.eclipse.ecf/src/org/ecl...  ecf   \n3  146622  [framework/bundles/org.eclipse.ecf.provider/sr...  ecf   \n4  147269  [framework/bundles/org.eclipse.ecf.provider/sr...  ecf   \n\n                                      reformed_query  \\\n0  [updated xmpp xmpp chat updated updated room x...   \n1  [Suspended Context client Connection Container...   \n2  [Application Container Standalone Factory Cont...   \n3  [handleAsynchEvent bins handleSharedObjectMess...   \n4  [group Group Thread SOManager crash load share...   \n\n                                           bug_title  \\\n0   – [XMPP] Room subject does not get updated in...   \n1            – ECF Generic provider thread interlock   \n2   – Standalone ClientApplication is breaks in l...   \n3   – deserializeSharedObjectMessage with custom ...   \n4   – The \"send file\" functionality fails and lau...   \n\n                                     bug_description  \n0  When updated remotely by xmpp server title of ...  \n1  We see the following problem while running an ...  \n2  The standalone org.eclipse.ecf.provider.app.Cl...  \n3  when sending a instance of a custom Class in a...  \n4  >>> Environment: WinXP + Java 1.5.0_06 + Eclip...  ",
      "text/html": "<div>\n<style scoped>\n    .dataframe tbody tr th:only-of-type {\n        vertical-align: middle;\n    }\n\n    .dataframe tbody tr th {\n        vertical-align: top;\n    }\n\n    .dataframe thead th {\n        text-align: right;\n    }\n</style>\n<table border=\"1\" class=\"dataframe\">\n  <thead>\n    <tr style=\"text-align: right;\">\n      <th></th>\n      <th>bug_id</th>\n      <th>ground_truth</th>\n      <th>repo</th>\n      <th>reformed_query</th>\n      <th>bug_title</th>\n      <th>bug_description</th>\n    </tr>\n  </thead>\n  <tbody>\n    <tr>\n      <th>0</th>\n      <td>112599</td>\n      <td>[providers/bundles/org.eclipse.ecf.provider.xm...</td>\n      <td>ecf</td>\n      <td>[updated xmpp xmpp chat updated updated room x...</td>\n      <td>– [XMPP] Room subject does not get updated in...</td>\n      <td>When updated remotely by xmpp server title of ...</td>\n    </tr>\n    <tr>\n      <th>1</th>\n      <td>125572</td>\n      <td>[framework/bundles/org.eclipse.ecf.provider/sr...</td>\n      <td>ecf</td>\n      <td>[Suspended Context client Connection Container...</td>\n      <td>– ECF Generic provider thread interlock</td>\n      <td>We see the following problem while running an ...</td>\n    </tr>\n    <tr>\n      <th>2</th>\n      <td>134483</td>\n      <td>[framework/bundles/org.eclipse.ecf/src/org/ecl...</td>\n      <td>ecf</td>\n      <td>[Application Container Standalone Factory Cont...</td>\n      <td>– Standalone ClientApplication is breaks in l...</td>\n      <td>The standalone org.eclipse.ecf.provider.app.Cl...</td>\n    </tr>\n    <tr>\n      <th>3</th>\n      <td>146622</td>\n      <td>[framework/bundles/org.eclipse.ecf.provider/sr...</td>\n      <td>ecf</td>\n      <td>[handleAsynchEvent bins handleSharedObjectMess...</td>\n      <td>– deserializeSharedObjectMessage with custom ...</td>\n      <td>when sending a instance of a custom Class in a...</td>\n    </tr>\n    <tr>\n      <th>4</th>\n      <td>147269</td>\n      <td>[framework/bundles/org.eclipse.ecf.provider/sr...</td>\n      <td>ecf</td>\n      <td>[group Group Thread SOManager crash load share...</td>\n      <td>– The \"send file\" functionality fails and lau...</td>\n      <td>&gt;&gt;&gt; Environment: WinXP + Java 1.5.0_06 + Eclip...</td>\n    </tr>\n  </tbody>\n</table>\n</div>"
     },
     "execution_count": 41,
     "metadata": {},
     "output_type": "execute_result"
    }
   ],
   "source": [
    "df.head()"
   ],
   "metadata": {
    "collapsed": false,
    "ExecuteTime": {
     "end_time": "2023-07-31T20:22:55.604187900Z",
     "start_time": "2023-07-31T20:22:55.577130500Z"
    }
   }
  },
  {
   "cell_type": "code",
   "execution_count": 56,
   "outputs": [
    {
     "data": {
      "text/plain": "(2320, 6)"
     },
     "execution_count": 56,
     "metadata": {},
     "output_type": "execute_result"
    }
   ],
   "source": [
    "# df.shape"
   ],
   "metadata": {
    "collapsed": false,
    "ExecuteTime": {
     "end_time": "2023-07-21T05:01:44.073203500Z",
     "start_time": "2023-07-21T05:01:44.057814900Z"
    }
   }
  },
  {
   "cell_type": "code",
   "execution_count": 58,
   "outputs": [
    {
     "data": {
      "text/plain": "2318"
     },
     "execution_count": 58,
     "metadata": {},
     "output_type": "execute_result"
    }
   ],
   "source": [
    "# # check if there are any duplicates in the bug_id column\n",
    "# len(df['bug_id'].unique())\n",
    "#"
   ],
   "metadata": {
    "collapsed": false,
    "ExecuteTime": {
     "end_time": "2023-07-21T05:02:00.129930900Z",
     "start_time": "2023-07-21T05:02:00.114924600Z"
    }
   }
  },
  {
   "cell_type": "code",
   "execution_count": 60,
   "outputs": [
    {
     "data": {
      "text/plain": "Empty DataFrame\nColumns: [bug_id, ground_truth, repo, reformed_query, bug_title, bug_description]\nIndex: []",
      "text/html": "<div>\n<style scoped>\n    .dataframe tbody tr th:only-of-type {\n        vertical-align: middle;\n    }\n\n    .dataframe tbody tr th {\n        vertical-align: top;\n    }\n\n    .dataframe thead th {\n        text-align: right;\n    }\n</style>\n<table border=\"1\" class=\"dataframe\">\n  <thead>\n    <tr style=\"text-align: right;\">\n      <th></th>\n      <th>bug_id</th>\n      <th>ground_truth</th>\n      <th>repo</th>\n      <th>reformed_query</th>\n      <th>bug_title</th>\n      <th>bug_description</th>\n    </tr>\n  </thead>\n  <tbody>\n  </tbody>\n</table>\n</div>"
     },
     "execution_count": 60,
     "metadata": {},
     "output_type": "execute_result"
    }
   ],
   "source": [
    "# df[df.duplicated(['bug_id', 'repo'])]"
   ],
   "metadata": {
    "collapsed": false,
    "ExecuteTime": {
     "end_time": "2023-07-21T05:03:22.017618900Z",
     "start_time": "2023-07-21T05:03:22.007307700Z"
    }
   }
  },
  {
   "cell_type": "markdown",
   "source": [
    "Some repo has same bug id. So, merging based on bug_id and repo worked."
   ],
   "metadata": {
    "collapsed": false
   }
  }
 ],
 "metadata": {
  "kernelspec": {
   "display_name": "Python 3",
   "language": "python",
   "name": "python3"
  },
  "language_info": {
   "codemirror_mode": {
    "name": "ipython",
    "version": 2
   },
   "file_extension": ".py",
   "mimetype": "text/x-python",
   "name": "python",
   "nbconvert_exporter": "python",
   "pygments_lexer": "ipython2",
   "version": "2.7.6"
  }
 },
 "nbformat": 4,
 "nbformat_minor": 0
}
