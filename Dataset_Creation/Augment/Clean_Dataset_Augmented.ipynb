{
 "cells": [
  {
   "cell_type": "code",
   "execution_count": 1,
   "metadata": {
    "collapsed": true,
    "ExecuteTime": {
     "end_time": "2023-07-31T20:25:10.074857Z",
     "start_time": "2023-07-31T20:25:08.524959900Z"
    }
   },
   "outputs": [],
   "source": [
    "import numpy\n",
    "import pandas as pd\n",
    "import nltk\n",
    "import re\n",
    "import json"
   ]
  },
  {
   "cell_type": "code",
   "execution_count": 2,
   "outputs": [],
   "source": [
    "file_path = '../../Data/Augmented/All_Data.json'\n",
    "\n",
    "try:\n",
    "    with open(file_path, 'r') as f:\n",
    "        file_contents = f.read()\n",
    "        # print(file_contents)  # Print the contents of the file\n",
    "\n",
    "    data = json.loads(file_contents)\n",
    "    # Process the JSON data here\n",
    "\n",
    "except json.JSONDecodeError as e:\n",
    "    print(\"Error decoding JSON:\", e)\n",
    "except FileNotFoundError:\n",
    "    print(f\"File not found: '{file_path}'\")\n",
    "except Exception as e:\n",
    "    print(\"Error:\", e)"
   ],
   "metadata": {
    "collapsed": false,
    "ExecuteTime": {
     "end_time": "2023-07-31T20:25:10.132137500Z",
     "start_time": "2023-07-31T20:25:10.078856600Z"
    }
   }
  },
  {
   "cell_type": "code",
   "execution_count": 3,
   "outputs": [],
   "source": [
    "dataset_df = pd.DataFrame.from_dict(data)"
   ],
   "metadata": {
    "collapsed": false,
    "ExecuteTime": {
     "end_time": "2023-07-31T20:25:13.994599Z",
     "start_time": "2023-07-31T20:25:13.974972800Z"
    }
   }
  },
  {
   "cell_type": "code",
   "execution_count": 4,
   "outputs": [
    {
     "data": {
      "text/plain": "   bug_id                                       ground_truth repo  \\\n0  112599  [providers/bundles/org.eclipse.ecf.provider.xm...  ecf   \n1  125572  [framework/bundles/org.eclipse.ecf.provider/sr...  ecf   \n2  134483  [framework/bundles/org.eclipse.ecf/src/org/ecl...  ecf   \n3  146622  [framework/bundles/org.eclipse.ecf.provider/sr...  ecf   \n4  147269  [framework/bundles/org.eclipse.ecf.provider/sr...  ecf   \n\n                                      reformed_query  \\\n0  [updated xmpp xmpp chat updated updated room x...   \n1  [Suspended Context client Connection Container...   \n2  [Application Container Standalone Factory Cont...   \n3  [handleAsynchEvent bins handleSharedObjectMess...   \n4  [group Group Thread SOManager crash load share...   \n\n                                           bug_title  \\\n0   – [XMPP] Room subject does not get updated in...   \n1            – ECF Generic provider thread interlock   \n2   – Standalone ClientApplication is breaks in l...   \n3   – deserializeSharedObjectMessage with custom ...   \n4   – The \"send file\" functionality fails and lau...   \n\n                                     bug_description  \n0  When updated remotely by xmpp server title of ...  \n1  We see the following problem while running an ...  \n2  The standalone org.eclipse.ecf.provider.app.Cl...  \n3  when sending a instance of a custom Class in a...  \n4  >>> Environment: WinXP + Java 1.5.0_06 + Eclip...  ",
      "text/html": "<div>\n<style scoped>\n    .dataframe tbody tr th:only-of-type {\n        vertical-align: middle;\n    }\n\n    .dataframe tbody tr th {\n        vertical-align: top;\n    }\n\n    .dataframe thead th {\n        text-align: right;\n    }\n</style>\n<table border=\"1\" class=\"dataframe\">\n  <thead>\n    <tr style=\"text-align: right;\">\n      <th></th>\n      <th>bug_id</th>\n      <th>ground_truth</th>\n      <th>repo</th>\n      <th>reformed_query</th>\n      <th>bug_title</th>\n      <th>bug_description</th>\n    </tr>\n  </thead>\n  <tbody>\n    <tr>\n      <th>0</th>\n      <td>112599</td>\n      <td>[providers/bundles/org.eclipse.ecf.provider.xm...</td>\n      <td>ecf</td>\n      <td>[updated xmpp xmpp chat updated updated room x...</td>\n      <td>– [XMPP] Room subject does not get updated in...</td>\n      <td>When updated remotely by xmpp server title of ...</td>\n    </tr>\n    <tr>\n      <th>1</th>\n      <td>125572</td>\n      <td>[framework/bundles/org.eclipse.ecf.provider/sr...</td>\n      <td>ecf</td>\n      <td>[Suspended Context client Connection Container...</td>\n      <td>– ECF Generic provider thread interlock</td>\n      <td>We see the following problem while running an ...</td>\n    </tr>\n    <tr>\n      <th>2</th>\n      <td>134483</td>\n      <td>[framework/bundles/org.eclipse.ecf/src/org/ecl...</td>\n      <td>ecf</td>\n      <td>[Application Container Standalone Factory Cont...</td>\n      <td>– Standalone ClientApplication is breaks in l...</td>\n      <td>The standalone org.eclipse.ecf.provider.app.Cl...</td>\n    </tr>\n    <tr>\n      <th>3</th>\n      <td>146622</td>\n      <td>[framework/bundles/org.eclipse.ecf.provider/sr...</td>\n      <td>ecf</td>\n      <td>[handleAsynchEvent bins handleSharedObjectMess...</td>\n      <td>– deserializeSharedObjectMessage with custom ...</td>\n      <td>when sending a instance of a custom Class in a...</td>\n    </tr>\n    <tr>\n      <th>4</th>\n      <td>147269</td>\n      <td>[framework/bundles/org.eclipse.ecf.provider/sr...</td>\n      <td>ecf</td>\n      <td>[group Group Thread SOManager crash load share...</td>\n      <td>– The \"send file\" functionality fails and lau...</td>\n      <td>&gt;&gt;&gt; Environment: WinXP + Java 1.5.0_06 + Eclip...</td>\n    </tr>\n  </tbody>\n</table>\n</div>"
     },
     "execution_count": 4,
     "metadata": {},
     "output_type": "execute_result"
    }
   ],
   "source": [
    "dataset_df.head()"
   ],
   "metadata": {
    "collapsed": false,
    "ExecuteTime": {
     "end_time": "2023-07-31T20:25:15.039106700Z",
     "start_time": "2023-07-31T20:25:14.986071Z"
    }
   }
  },
  {
   "cell_type": "code",
   "execution_count": 6,
   "outputs": [
    {
     "data": {
      "text/plain": "     bug_id                                       ground_truth      repo  \\\n2315  59908  [java/org/apache/tomcat/websocket/FutureToSend...  tomcat70   \n2316  59923  [modules/jdbc-pool/src/main/java/org/apache/to...  tomcat70   \n2317  60008  [java/org/apache/catalina/filters/CorsFilter.j...  tomcat70   \n2318  60041  [java/org/apache/catalina/loader/LocalStrings....  tomcat70   \n2319  60043  [modules/jdbc-pool/src/main/java/org/apache/to...  tomcat70   \n\n                                         reformed_query  \\\n2315  [Unit Close TimeUnit websoket TimeoutException...   \n2316  [Queue fair problems problems fairQueue invali...   \n2317  [CORS Content POST View server Origin access f...   \n2318  [entry Failed lastJarAccessed Manifest getJarE...   \n2319  [log care closing documentation suspectTimeout...   \n\n                                              bug_title  \\\n2315   – Tomcat reports empty(null) close reason if ...   \n2316   – The default value of validationInterval att...   \n2317   – Tomcat CORS filter not allowing origin with...   \n2318                     – NPE in WebappClassLoaderBase   \n2319   – suspectTimeout does not work as expected wi...   \n\n                                        bug_description  \n2315  If Tomcat tryes to send large enough message t...  \n2316  The validationInterval attribute is 30 seconds...  \n2317  The CORS filter not allowing request and retur...  \n2318  After deploy war in tomcat, delete the jar in ...  \n2319  Already posted this to the mailinglist here:\\n...  ",
      "text/html": "<div>\n<style scoped>\n    .dataframe tbody tr th:only-of-type {\n        vertical-align: middle;\n    }\n\n    .dataframe tbody tr th {\n        vertical-align: top;\n    }\n\n    .dataframe thead th {\n        text-align: right;\n    }\n</style>\n<table border=\"1\" class=\"dataframe\">\n  <thead>\n    <tr style=\"text-align: right;\">\n      <th></th>\n      <th>bug_id</th>\n      <th>ground_truth</th>\n      <th>repo</th>\n      <th>reformed_query</th>\n      <th>bug_title</th>\n      <th>bug_description</th>\n    </tr>\n  </thead>\n  <tbody>\n    <tr>\n      <th>2315</th>\n      <td>59908</td>\n      <td>[java/org/apache/tomcat/websocket/FutureToSend...</td>\n      <td>tomcat70</td>\n      <td>[Unit Close TimeUnit websoket TimeoutException...</td>\n      <td>– Tomcat reports empty(null) close reason if ...</td>\n      <td>If Tomcat tryes to send large enough message t...</td>\n    </tr>\n    <tr>\n      <th>2316</th>\n      <td>59923</td>\n      <td>[modules/jdbc-pool/src/main/java/org/apache/to...</td>\n      <td>tomcat70</td>\n      <td>[Queue fair problems problems fairQueue invali...</td>\n      <td>– The default value of validationInterval att...</td>\n      <td>The validationInterval attribute is 30 seconds...</td>\n    </tr>\n    <tr>\n      <th>2317</th>\n      <td>60008</td>\n      <td>[java/org/apache/catalina/filters/CorsFilter.j...</td>\n      <td>tomcat70</td>\n      <td>[CORS Content POST View server Origin access f...</td>\n      <td>– Tomcat CORS filter not allowing origin with...</td>\n      <td>The CORS filter not allowing request and retur...</td>\n    </tr>\n    <tr>\n      <th>2318</th>\n      <td>60041</td>\n      <td>[java/org/apache/catalina/loader/LocalStrings....</td>\n      <td>tomcat70</td>\n      <td>[entry Failed lastJarAccessed Manifest getJarE...</td>\n      <td>– NPE in WebappClassLoaderBase</td>\n      <td>After deploy war in tomcat, delete the jar in ...</td>\n    </tr>\n    <tr>\n      <th>2319</th>\n      <td>60043</td>\n      <td>[modules/jdbc-pool/src/main/java/org/apache/to...</td>\n      <td>tomcat70</td>\n      <td>[log care closing documentation suspectTimeout...</td>\n      <td>– suspectTimeout does not work as expected wi...</td>\n      <td>Already posted this to the mailinglist here:\\n...</td>\n    </tr>\n  </tbody>\n</table>\n</div>"
     },
     "execution_count": 6,
     "metadata": {},
     "output_type": "execute_result"
    }
   ],
   "source": [
    "dataset_df.tail()"
   ],
   "metadata": {
    "collapsed": false,
    "ExecuteTime": {
     "end_time": "2023-07-31T20:25:28.930127200Z",
     "start_time": "2023-07-31T20:25:28.905809700Z"
    }
   }
  },
  {
   "cell_type": "markdown",
   "source": [
    "# Data Cleaning"
   ],
   "metadata": {
    "collapsed": false
   }
  },
  {
   "cell_type": "code",
   "execution_count": 7,
   "outputs": [
    {
     "name": "stderr",
     "output_type": "stream",
     "text": [
      "[nltk_data] Downloading package stopwords to\n",
      "[nltk_data]     C:\\Users\\asifs\\AppData\\Roaming\\nltk_data...\n",
      "[nltk_data]   Package stopwords is already up-to-date!\n",
      "[nltk_data] Downloading package punkt to\n",
      "[nltk_data]     C:\\Users\\asifs\\AppData\\Roaming\\nltk_data...\n",
      "[nltk_data]   Package punkt is already up-to-date!\n"
     ]
    }
   ],
   "source": [
    "# load stopwords from nltk\n",
    "nltk.download('stopwords')\n",
    "nltk.download('punkt')\n",
    "from nltk.corpus import stopwords\n",
    "from nltk.tokenize import word_tokenize\n",
    "stops_words = set(stopwords.words(\"english\"))"
   ],
   "metadata": {
    "collapsed": false,
    "ExecuteTime": {
     "end_time": "2023-07-31T20:25:31.179489200Z",
     "start_time": "2023-07-31T20:25:31.000049800Z"
    }
   }
  },
  {
   "cell_type": "code",
   "execution_count": 8,
   "outputs": [],
   "source": [
    "def replace_words(arr, old_words, new_word):\n",
    "    return [new_word if word in old_words else word for word in arr]\n",
    "\n"
   ],
   "metadata": {
    "collapsed": false,
    "ExecuteTime": {
     "end_time": "2023-07-31T20:25:35.739968700Z",
     "start_time": "2023-07-31T20:25:35.727968300Z"
    }
   }
  },
  {
   "cell_type": "code",
   "execution_count": 9,
   "outputs": [],
   "source": [
    "# define a function to clean the text\n",
    "# def clean_text(text, remove_stop_words=False):\n",
    "#    # Replace newlines with spaces\n",
    "#     text = text.replace('\\n', ' ')\n",
    "#\n",
    "#     # Tokenize the text into words\n",
    "#     words = word_tokenize(text)\n",
    "#\n",
    "#     if(remove_stop_words):\n",
    "#         words_without_stopwords = [word for word in words if word.lower() not in stops_words]\n",
    "#     else:\n",
    "#         words_without_stopwords = words\n",
    "#\n",
    "#     old_words = ['``', \"''\"]\n",
    "#     words_without_stopwords = replace_words(words_without_stopwords, old_words, '\"')\n",
    "#     # Remove words that are only numbers\n",
    "#     words_cleaned = [word for word in words_without_stopwords if not word.isdigit()]\n",
    "#\n",
    "#     # Join the words back into a cleaned sentence by iterating;\n",
    "#     # this also removes any extra spaces\n",
    "#     cleaned_text = ' '.join(words_cleaned)\n",
    "#\n",
    "#     return cleaned_text"
   ],
   "metadata": {
    "collapsed": false,
    "ExecuteTime": {
     "end_time": "2023-07-31T20:25:36.975332200Z",
     "start_time": "2023-07-31T20:25:36.953131400Z"
    }
   }
  },
  {
   "cell_type": "code",
   "execution_count": 10,
   "outputs": [],
   "source": [
    "def remove_number_tokens(text):\n",
    "    # Use regular expression to remove tokens made up of only numbers\n",
    "    pattern = r'\\b[0-9]+\\b'  # Matches one or more digits (numbers) only\n",
    "    return re.sub(pattern, '', text)"
   ],
   "metadata": {
    "collapsed": false,
    "ExecuteTime": {
     "end_time": "2023-07-31T20:25:40.588888700Z",
     "start_time": "2023-07-31T20:25:40.574890100Z"
    }
   }
  },
  {
   "cell_type": "code",
   "execution_count": 11,
   "outputs": [],
   "source": [
    "def clean_text(text, remove_stop_words=False):\n",
    "   # Replace newlines with spaces\n",
    "    cleaned_text = text.replace('\\n', ' ')\n",
    "\n",
    "    cleaned_text = remove_number_tokens(cleaned_text)\n",
    "    # Tokenize the text into words\n",
    "    # words = word_tokenize(text)\n",
    "    #\n",
    "    # if(remove_stop_words):\n",
    "    #     words_without_stopwords = [word for word in words if word.lower() not in stops_words]\n",
    "    # else:\n",
    "    #     words_without_stopwords = words\n",
    "    #\n",
    "    # old_words = ['``', \"''\"]\n",
    "    # words_without_stopwords = replace_words(words_without_stopwords, old_words, '\"')\n",
    "    # # Remove words that are only numbers\n",
    "    # words_cleaned = [word for word in words_without_stopwords if not word.isdigit()]\n",
    "    #\n",
    "    # # Join the words back into a cleaned sentence by iterating;\n",
    "    # # this also removes any extra spaces\n",
    "    # cleaned_text = ' '.join(words_cleaned)\n",
    "\n",
    "    return cleaned_text"
   ],
   "metadata": {
    "collapsed": false,
    "ExecuteTime": {
     "end_time": "2023-07-31T20:25:50.632522300Z",
     "start_time": "2023-07-31T20:25:50.605275400Z"
    }
   }
  },
  {
   "cell_type": "code",
   "execution_count": 12,
   "outputs": [],
   "source": [
    "# clean the text on the dataset_df dataframe column 'bug_description'\n",
    "dataset_df['bug_description'] = dataset_df['bug_description'].apply(clean_text)"
   ],
   "metadata": {
    "collapsed": false,
    "ExecuteTime": {
     "end_time": "2023-07-31T20:25:56.256330100Z",
     "start_time": "2023-07-31T20:25:56.224237200Z"
    }
   }
  },
  {
   "cell_type": "code",
   "execution_count": 13,
   "outputs": [
    {
     "data": {
      "text/plain": "   bug_id                                       ground_truth repo  \\\n0  112599  [providers/bundles/org.eclipse.ecf.provider.xm...  ecf   \n1  125572  [framework/bundles/org.eclipse.ecf.provider/sr...  ecf   \n2  134483  [framework/bundles/org.eclipse.ecf/src/org/ecl...  ecf   \n3  146622  [framework/bundles/org.eclipse.ecf.provider/sr...  ecf   \n4  147269  [framework/bundles/org.eclipse.ecf.provider/sr...  ecf   \n\n                                      reformed_query  \\\n0  [updated xmpp xmpp chat updated updated room x...   \n1  [Suspended Context client Connection Container...   \n2  [Application Container Standalone Factory Cont...   \n3  [handleAsynchEvent bins handleSharedObjectMess...   \n4  [group Group Thread SOManager crash load share...   \n\n                                           bug_title  \\\n0   – [XMPP] Room subject does not get updated in...   \n1            – ECF Generic provider thread interlock   \n2   – Standalone ClientApplication is breaks in l...   \n3   – deserializeSharedObjectMessage with custom ...   \n4   – The \"send file\" functionality fails and lau...   \n\n                                     bug_description  \n0  When updated remotely by xmpp server title of ...  \n1  We see the following problem while running an ...  \n2  The standalone org.eclipse.ecf.provider.app.Cl...  \n3  when sending a instance of a custom Class in a...  \n4  >>> Environment: WinXP + Java ..0_06 + Eclipse...  ",
      "text/html": "<div>\n<style scoped>\n    .dataframe tbody tr th:only-of-type {\n        vertical-align: middle;\n    }\n\n    .dataframe tbody tr th {\n        vertical-align: top;\n    }\n\n    .dataframe thead th {\n        text-align: right;\n    }\n</style>\n<table border=\"1\" class=\"dataframe\">\n  <thead>\n    <tr style=\"text-align: right;\">\n      <th></th>\n      <th>bug_id</th>\n      <th>ground_truth</th>\n      <th>repo</th>\n      <th>reformed_query</th>\n      <th>bug_title</th>\n      <th>bug_description</th>\n    </tr>\n  </thead>\n  <tbody>\n    <tr>\n      <th>0</th>\n      <td>112599</td>\n      <td>[providers/bundles/org.eclipse.ecf.provider.xm...</td>\n      <td>ecf</td>\n      <td>[updated xmpp xmpp chat updated updated room x...</td>\n      <td>– [XMPP] Room subject does not get updated in...</td>\n      <td>When updated remotely by xmpp server title of ...</td>\n    </tr>\n    <tr>\n      <th>1</th>\n      <td>125572</td>\n      <td>[framework/bundles/org.eclipse.ecf.provider/sr...</td>\n      <td>ecf</td>\n      <td>[Suspended Context client Connection Container...</td>\n      <td>– ECF Generic provider thread interlock</td>\n      <td>We see the following problem while running an ...</td>\n    </tr>\n    <tr>\n      <th>2</th>\n      <td>134483</td>\n      <td>[framework/bundles/org.eclipse.ecf/src/org/ecl...</td>\n      <td>ecf</td>\n      <td>[Application Container Standalone Factory Cont...</td>\n      <td>– Standalone ClientApplication is breaks in l...</td>\n      <td>The standalone org.eclipse.ecf.provider.app.Cl...</td>\n    </tr>\n    <tr>\n      <th>3</th>\n      <td>146622</td>\n      <td>[framework/bundles/org.eclipse.ecf.provider/sr...</td>\n      <td>ecf</td>\n      <td>[handleAsynchEvent bins handleSharedObjectMess...</td>\n      <td>– deserializeSharedObjectMessage with custom ...</td>\n      <td>when sending a instance of a custom Class in a...</td>\n    </tr>\n    <tr>\n      <th>4</th>\n      <td>147269</td>\n      <td>[framework/bundles/org.eclipse.ecf.provider/sr...</td>\n      <td>ecf</td>\n      <td>[group Group Thread SOManager crash load share...</td>\n      <td>– The \"send file\" functionality fails and lau...</td>\n      <td>&gt;&gt;&gt; Environment: WinXP + Java ..0_06 + Eclipse...</td>\n    </tr>\n  </tbody>\n</table>\n</div>"
     },
     "execution_count": 13,
     "metadata": {},
     "output_type": "execute_result"
    }
   ],
   "source": [
    "dataset_df.head()"
   ],
   "metadata": {
    "collapsed": false,
    "ExecuteTime": {
     "end_time": "2023-07-31T20:25:57.577983900Z",
     "start_time": "2023-07-31T20:25:57.559648Z"
    }
   }
  },
  {
   "cell_type": "code",
   "execution_count": 14,
   "outputs": [
    {
     "data": {
      "text/plain": "     bug_id                                       ground_truth      repo  \\\n2315  59908  [java/org/apache/tomcat/websocket/FutureToSend...  tomcat70   \n2316  59923  [modules/jdbc-pool/src/main/java/org/apache/to...  tomcat70   \n2317  60008  [java/org/apache/catalina/filters/CorsFilter.j...  tomcat70   \n2318  60041  [java/org/apache/catalina/loader/LocalStrings....  tomcat70   \n2319  60043  [modules/jdbc-pool/src/main/java/org/apache/to...  tomcat70   \n\n                                         reformed_query  \\\n2315  [Unit Close TimeUnit websoket TimeoutException...   \n2316  [Queue fair problems problems fairQueue invali...   \n2317  [CORS Content POST View server Origin access f...   \n2318  [entry Failed lastJarAccessed Manifest getJarE...   \n2319  [log care closing documentation suspectTimeout...   \n\n                                              bug_title  \\\n2315   – Tomcat reports empty(null) close reason if ...   \n2316   – The default value of validationInterval att...   \n2317   – Tomcat CORS filter not allowing origin with...   \n2318                     – NPE in WebappClassLoaderBase   \n2319   – suspectTimeout does not work as expected wi...   \n\n                                        bug_description  \n2315  If Tomcat tryes to send large enough message t...  \n2316  The validationInterval attribute is  seconds b...  \n2317  The CORS filter not allowing request and retur...  \n2318  After deploy war in tomcat, delete the jar in ...  \n2319  Already posted this to the mailinglist here: h...  ",
      "text/html": "<div>\n<style scoped>\n    .dataframe tbody tr th:only-of-type {\n        vertical-align: middle;\n    }\n\n    .dataframe tbody tr th {\n        vertical-align: top;\n    }\n\n    .dataframe thead th {\n        text-align: right;\n    }\n</style>\n<table border=\"1\" class=\"dataframe\">\n  <thead>\n    <tr style=\"text-align: right;\">\n      <th></th>\n      <th>bug_id</th>\n      <th>ground_truth</th>\n      <th>repo</th>\n      <th>reformed_query</th>\n      <th>bug_title</th>\n      <th>bug_description</th>\n    </tr>\n  </thead>\n  <tbody>\n    <tr>\n      <th>2315</th>\n      <td>59908</td>\n      <td>[java/org/apache/tomcat/websocket/FutureToSend...</td>\n      <td>tomcat70</td>\n      <td>[Unit Close TimeUnit websoket TimeoutException...</td>\n      <td>– Tomcat reports empty(null) close reason if ...</td>\n      <td>If Tomcat tryes to send large enough message t...</td>\n    </tr>\n    <tr>\n      <th>2316</th>\n      <td>59923</td>\n      <td>[modules/jdbc-pool/src/main/java/org/apache/to...</td>\n      <td>tomcat70</td>\n      <td>[Queue fair problems problems fairQueue invali...</td>\n      <td>– The default value of validationInterval att...</td>\n      <td>The validationInterval attribute is  seconds b...</td>\n    </tr>\n    <tr>\n      <th>2317</th>\n      <td>60008</td>\n      <td>[java/org/apache/catalina/filters/CorsFilter.j...</td>\n      <td>tomcat70</td>\n      <td>[CORS Content POST View server Origin access f...</td>\n      <td>– Tomcat CORS filter not allowing origin with...</td>\n      <td>The CORS filter not allowing request and retur...</td>\n    </tr>\n    <tr>\n      <th>2318</th>\n      <td>60041</td>\n      <td>[java/org/apache/catalina/loader/LocalStrings....</td>\n      <td>tomcat70</td>\n      <td>[entry Failed lastJarAccessed Manifest getJarE...</td>\n      <td>– NPE in WebappClassLoaderBase</td>\n      <td>After deploy war in tomcat, delete the jar in ...</td>\n    </tr>\n    <tr>\n      <th>2319</th>\n      <td>60043</td>\n      <td>[modules/jdbc-pool/src/main/java/org/apache/to...</td>\n      <td>tomcat70</td>\n      <td>[log care closing documentation suspectTimeout...</td>\n      <td>– suspectTimeout does not work as expected wi...</td>\n      <td>Already posted this to the mailinglist here: h...</td>\n    </tr>\n  </tbody>\n</table>\n</div>"
     },
     "execution_count": 14,
     "metadata": {},
     "output_type": "execute_result"
    }
   ],
   "source": [
    "dataset_df.tail()"
   ],
   "metadata": {
    "collapsed": false,
    "ExecuteTime": {
     "end_time": "2023-07-31T20:25:59.037210300Z",
     "start_time": "2023-07-31T20:25:59.010063400Z"
    }
   }
  },
  {
   "cell_type": "code",
   "execution_count": 15,
   "outputs": [],
   "source": [
    "def remove_dash(text):\n",
    "    if (text.startswith(' –')):\n",
    "        return text[2:]\n",
    "    if (text.startswith('–')):\n",
    "        return text[1:]"
   ],
   "metadata": {
    "collapsed": false,
    "ExecuteTime": {
     "end_time": "2023-07-31T20:26:01.795953Z",
     "start_time": "2023-07-31T20:26:01.778788600Z"
    }
   }
  },
  {
   "cell_type": "code",
   "execution_count": 16,
   "outputs": [],
   "source": [
    "# Replace dash at the starting of the 'bug_title' column\n",
    "dataset_df['bug_title'] = dataset_df['bug_title'].apply(remove_dash)"
   ],
   "metadata": {
    "collapsed": false,
    "ExecuteTime": {
     "end_time": "2023-07-31T20:26:03.342945700Z",
     "start_time": "2023-07-31T20:26:03.310288300Z"
    }
   }
  },
  {
   "cell_type": "code",
   "execution_count": 17,
   "outputs": [
    {
     "data": {
      "text/plain": "   bug_id                                       ground_truth repo  \\\n0  112599  [providers/bundles/org.eclipse.ecf.provider.xm...  ecf   \n1  125572  [framework/bundles/org.eclipse.ecf.provider/sr...  ecf   \n2  134483  [framework/bundles/org.eclipse.ecf/src/org/ecl...  ecf   \n3  146622  [framework/bundles/org.eclipse.ecf.provider/sr...  ecf   \n4  147269  [framework/bundles/org.eclipse.ecf.provider/sr...  ecf   \n\n                                      reformed_query  \\\n0  [updated xmpp xmpp chat updated updated room x...   \n1  [Suspended Context client Connection Container...   \n2  [Application Container Standalone Factory Cont...   \n3  [handleAsynchEvent bins handleSharedObjectMess...   \n4  [group Group Thread SOManager crash load share...   \n\n                                           bug_title  \\\n0   [XMPP] Room subject does not get updated in x...   \n1              ECF Generic provider thread interlock   \n2   Standalone ClientApplication is breaks in lin...   \n3   deserializeSharedObjectMessage with custom Cl...   \n4   The \"send file\" functionality fails and launc...   \n\n                                     bug_description  \n0  When updated remotely by xmpp server title of ...  \n1  We see the following problem while running an ...  \n2  The standalone org.eclipse.ecf.provider.app.Cl...  \n3  when sending a instance of a custom Class in a...  \n4  >>> Environment: WinXP + Java ..0_06 + Eclipse...  ",
      "text/html": "<div>\n<style scoped>\n    .dataframe tbody tr th:only-of-type {\n        vertical-align: middle;\n    }\n\n    .dataframe tbody tr th {\n        vertical-align: top;\n    }\n\n    .dataframe thead th {\n        text-align: right;\n    }\n</style>\n<table border=\"1\" class=\"dataframe\">\n  <thead>\n    <tr style=\"text-align: right;\">\n      <th></th>\n      <th>bug_id</th>\n      <th>ground_truth</th>\n      <th>repo</th>\n      <th>reformed_query</th>\n      <th>bug_title</th>\n      <th>bug_description</th>\n    </tr>\n  </thead>\n  <tbody>\n    <tr>\n      <th>0</th>\n      <td>112599</td>\n      <td>[providers/bundles/org.eclipse.ecf.provider.xm...</td>\n      <td>ecf</td>\n      <td>[updated xmpp xmpp chat updated updated room x...</td>\n      <td>[XMPP] Room subject does not get updated in x...</td>\n      <td>When updated remotely by xmpp server title of ...</td>\n    </tr>\n    <tr>\n      <th>1</th>\n      <td>125572</td>\n      <td>[framework/bundles/org.eclipse.ecf.provider/sr...</td>\n      <td>ecf</td>\n      <td>[Suspended Context client Connection Container...</td>\n      <td>ECF Generic provider thread interlock</td>\n      <td>We see the following problem while running an ...</td>\n    </tr>\n    <tr>\n      <th>2</th>\n      <td>134483</td>\n      <td>[framework/bundles/org.eclipse.ecf/src/org/ecl...</td>\n      <td>ecf</td>\n      <td>[Application Container Standalone Factory Cont...</td>\n      <td>Standalone ClientApplication is breaks in lin...</td>\n      <td>The standalone org.eclipse.ecf.provider.app.Cl...</td>\n    </tr>\n    <tr>\n      <th>3</th>\n      <td>146622</td>\n      <td>[framework/bundles/org.eclipse.ecf.provider/sr...</td>\n      <td>ecf</td>\n      <td>[handleAsynchEvent bins handleSharedObjectMess...</td>\n      <td>deserializeSharedObjectMessage with custom Cl...</td>\n      <td>when sending a instance of a custom Class in a...</td>\n    </tr>\n    <tr>\n      <th>4</th>\n      <td>147269</td>\n      <td>[framework/bundles/org.eclipse.ecf.provider/sr...</td>\n      <td>ecf</td>\n      <td>[group Group Thread SOManager crash load share...</td>\n      <td>The \"send file\" functionality fails and launc...</td>\n      <td>&gt;&gt;&gt; Environment: WinXP + Java ..0_06 + Eclipse...</td>\n    </tr>\n  </tbody>\n</table>\n</div>"
     },
     "execution_count": 17,
     "metadata": {},
     "output_type": "execute_result"
    }
   ],
   "source": [
    "dataset_df.head()"
   ],
   "metadata": {
    "collapsed": false,
    "ExecuteTime": {
     "end_time": "2023-07-31T20:26:05.432877500Z",
     "start_time": "2023-07-31T20:26:05.401021600Z"
    }
   }
  },
  {
   "cell_type": "code",
   "execution_count": 18,
   "outputs": [
    {
     "data": {
      "text/plain": "     bug_id                                       ground_truth      repo  \\\n2315  59908  [java/org/apache/tomcat/websocket/FutureToSend...  tomcat70   \n2316  59923  [modules/jdbc-pool/src/main/java/org/apache/to...  tomcat70   \n2317  60008  [java/org/apache/catalina/filters/CorsFilter.j...  tomcat70   \n2318  60041  [java/org/apache/catalina/loader/LocalStrings....  tomcat70   \n2319  60043  [modules/jdbc-pool/src/main/java/org/apache/to...  tomcat70   \n\n                                         reformed_query  \\\n2315  [Unit Close TimeUnit websoket TimeoutException...   \n2316  [Queue fair problems problems fairQueue invali...   \n2317  [CORS Content POST View server Origin access f...   \n2318  [entry Failed lastJarAccessed Manifest getJarE...   \n2319  [log care closing documentation suspectTimeout...   \n\n                                              bug_title  \\\n2315   Tomcat reports empty(null) close reason if se...   \n2316   The default value of validationInterval attri...   \n2317   Tomcat CORS filter not allowing origin with f...   \n2318                       NPE in WebappClassLoaderBase   \n2319   suspectTimeout does not work as expected with...   \n\n                                        bug_description  \n2315  If Tomcat tryes to send large enough message t...  \n2316  The validationInterval attribute is  seconds b...  \n2317  The CORS filter not allowing request and retur...  \n2318  After deploy war in tomcat, delete the jar in ...  \n2319  Already posted this to the mailinglist here: h...  ",
      "text/html": "<div>\n<style scoped>\n    .dataframe tbody tr th:only-of-type {\n        vertical-align: middle;\n    }\n\n    .dataframe tbody tr th {\n        vertical-align: top;\n    }\n\n    .dataframe thead th {\n        text-align: right;\n    }\n</style>\n<table border=\"1\" class=\"dataframe\">\n  <thead>\n    <tr style=\"text-align: right;\">\n      <th></th>\n      <th>bug_id</th>\n      <th>ground_truth</th>\n      <th>repo</th>\n      <th>reformed_query</th>\n      <th>bug_title</th>\n      <th>bug_description</th>\n    </tr>\n  </thead>\n  <tbody>\n    <tr>\n      <th>2315</th>\n      <td>59908</td>\n      <td>[java/org/apache/tomcat/websocket/FutureToSend...</td>\n      <td>tomcat70</td>\n      <td>[Unit Close TimeUnit websoket TimeoutException...</td>\n      <td>Tomcat reports empty(null) close reason if se...</td>\n      <td>If Tomcat tryes to send large enough message t...</td>\n    </tr>\n    <tr>\n      <th>2316</th>\n      <td>59923</td>\n      <td>[modules/jdbc-pool/src/main/java/org/apache/to...</td>\n      <td>tomcat70</td>\n      <td>[Queue fair problems problems fairQueue invali...</td>\n      <td>The default value of validationInterval attri...</td>\n      <td>The validationInterval attribute is  seconds b...</td>\n    </tr>\n    <tr>\n      <th>2317</th>\n      <td>60008</td>\n      <td>[java/org/apache/catalina/filters/CorsFilter.j...</td>\n      <td>tomcat70</td>\n      <td>[CORS Content POST View server Origin access f...</td>\n      <td>Tomcat CORS filter not allowing origin with f...</td>\n      <td>The CORS filter not allowing request and retur...</td>\n    </tr>\n    <tr>\n      <th>2318</th>\n      <td>60041</td>\n      <td>[java/org/apache/catalina/loader/LocalStrings....</td>\n      <td>tomcat70</td>\n      <td>[entry Failed lastJarAccessed Manifest getJarE...</td>\n      <td>NPE in WebappClassLoaderBase</td>\n      <td>After deploy war in tomcat, delete the jar in ...</td>\n    </tr>\n    <tr>\n      <th>2319</th>\n      <td>60043</td>\n      <td>[modules/jdbc-pool/src/main/java/org/apache/to...</td>\n      <td>tomcat70</td>\n      <td>[log care closing documentation suspectTimeout...</td>\n      <td>suspectTimeout does not work as expected with...</td>\n      <td>Already posted this to the mailinglist here: h...</td>\n    </tr>\n  </tbody>\n</table>\n</div>"
     },
     "execution_count": 18,
     "metadata": {},
     "output_type": "execute_result"
    }
   ],
   "source": [
    "dataset_df.tail()"
   ],
   "metadata": {
    "collapsed": false,
    "ExecuteTime": {
     "end_time": "2023-07-31T20:26:30.005572200Z",
     "start_time": "2023-07-31T20:26:29.971830700Z"
    }
   }
  },
  {
   "cell_type": "code",
   "execution_count": 19,
   "outputs": [
    {
     "data": {
      "text/plain": "pandas.core.frame.DataFrame"
     },
     "execution_count": 19,
     "metadata": {},
     "output_type": "execute_result"
    }
   ],
   "source": [
    "type(dataset_df)"
   ],
   "metadata": {
    "collapsed": false,
    "ExecuteTime": {
     "end_time": "2023-07-31T20:26:35.234584Z",
     "start_time": "2023-07-31T20:26:35.210585400Z"
    }
   }
  },
  {
   "cell_type": "code",
   "execution_count": 20,
   "outputs": [],
   "source": [
    "copy_dataset_df = dataset_df.copy()"
   ],
   "metadata": {
    "collapsed": false,
    "ExecuteTime": {
     "end_time": "2023-07-31T20:26:37.198145900Z",
     "start_time": "2023-07-31T20:26:37.175148700Z"
    }
   }
  },
  {
   "cell_type": "code",
   "execution_count": 21,
   "outputs": [],
   "source": [
    "# convert the dataframe to a list of dictionaries\n",
    "dataset_df = dataset_df.to_dict('records')\n",
    "\n"
   ],
   "metadata": {
    "collapsed": false,
    "ExecuteTime": {
     "end_time": "2023-07-31T20:26:38.671555300Z",
     "start_time": "2023-07-31T20:26:38.642508700Z"
    }
   }
  },
  {
   "cell_type": "code",
   "execution_count": 22,
   "outputs": [
    {
     "data": {
      "text/plain": "list"
     },
     "execution_count": 22,
     "metadata": {},
     "output_type": "execute_result"
    }
   ],
   "source": [
    "type(dataset_df)"
   ],
   "metadata": {
    "collapsed": false,
    "ExecuteTime": {
     "end_time": "2023-07-31T20:26:39.813256100Z",
     "start_time": "2023-07-31T20:26:39.798256Z"
    }
   }
  },
  {
   "cell_type": "code",
   "execution_count": 23,
   "outputs": [],
   "source": [
    "# save the list of dictionaries as a json file\n",
    "with open('../../Data/Augmented/Cleaned_newLine_Data.json', 'w') as f:\n",
    "    json.dump(dataset_df, f)"
   ],
   "metadata": {
    "collapsed": false,
    "ExecuteTime": {
     "end_time": "2023-07-31T20:27:05.249512Z",
     "start_time": "2023-07-31T20:27:05.159451300Z"
    }
   }
  },
  {
   "cell_type": "code",
   "execution_count": null,
   "outputs": [],
   "source": [],
   "metadata": {
    "collapsed": false
   }
  }
 ],
 "metadata": {
  "kernelspec": {
   "display_name": "Python 3",
   "language": "python",
   "name": "python3"
  },
  "language_info": {
   "codemirror_mode": {
    "name": "ipython",
    "version": 2
   },
   "file_extension": ".py",
   "mimetype": "text/x-python",
   "name": "python",
   "nbconvert_exporter": "python",
   "pygments_lexer": "ipython2",
   "version": "2.7.6"
  }
 },
 "nbformat": 4,
 "nbformat_minor": 0
}
