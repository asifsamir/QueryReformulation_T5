{
 "cells": [
  {
   "cell_type": "code",
   "execution_count": 1,
   "metadata": {
    "collapsed": true,
    "ExecuteTime": {
     "end_time": "2023-08-06T04:14:17.905947200Z",
     "start_time": "2023-08-06T04:14:17.245358100Z"
    }
   },
   "outputs": [],
   "source": [
    "import pandas as pd\n",
    "import json"
   ]
  },
  {
   "cell_type": "code",
   "execution_count": 2,
   "outputs": [],
   "source": [
    "# read text file from disk. not pandas\n",
    "with open('../../Data/Augmented/cleaned_effective.json') as f:\n",
    "    data = f.read()\n",
    "    data = json.loads(data)\n",
    "\n",
    "df = pd.DataFrame.from_dict(data)"
   ],
   "metadata": {
    "collapsed": false,
    "ExecuteTime": {
     "end_time": "2023-08-06T04:14:17.949481800Z",
     "start_time": "2023-08-06T04:14:17.906951Z"
    }
   }
  },
  {
   "cell_type": "code",
   "execution_count": 3,
   "outputs": [
    {
     "data": {
      "text/plain": "   bug_id                                       ground_truth repo  \\\n0  125572  [framework/bundles/org.eclipse.ecf.provider/sr...  ecf   \n1  134483  [framework/bundles/org.eclipse.ecf/src/org/ecl...  ecf   \n2  146622  [framework/bundles/org.eclipse.ecf.provider/sr...  ecf   \n3  147269  [framework/bundles/org.eclipse.ecf.provider/sr...  ecf   \n4  168382  [framework/bundles/org.eclipse.ecf.remoteservi...  ecf   \n\n                                      reformed_query  \\\n0  [Suspended Context client Connection Container...   \n1  [Application Container Standalone Factory Cont...   \n2  [handleAsynchEvent bins handleSharedObjectMess...   \n3  [group Group Thread SOManager crash load share...   \n4  [runIt executor Actual Render Executor Prepare...   \n\n                                           bug_title  \\\n0              ECF Generic provider thread interlock   \n1   Standalone ClientApplication is breaks in lin...   \n2   deserializeSharedObjectMessage with custom Cl...   \n3   The \"send file\" functionality fails and launc...   \n4   [Regression] Exception is thrown out when pre...   \n\n                                     bug_description  \\\n0  We see the following problem while running an ...   \n1  The standalone org.eclipse.ecf.provider.app.Cl...   \n2  when sending a instance of a custom Class in a...   \n3  >>> Environment: WinXP + Java ..0_06 + Eclipse...   \n4  Description: Exception is thrown out when prev...   \n\n                                   effective_queries  \n0  [IConnectContext Message IConnection SOContain...  \n1  [Application Container Standalone Factory Cont...  \n2  [handleAsynchEvent bins handleSharedObjectMess...  \n3  [group Group Thread SOManager crash load share...  \n4  [prepare report Tcp executor StandardContext A...  ",
      "text/html": "<div>\n<style scoped>\n    .dataframe tbody tr th:only-of-type {\n        vertical-align: middle;\n    }\n\n    .dataframe tbody tr th {\n        vertical-align: top;\n    }\n\n    .dataframe thead th {\n        text-align: right;\n    }\n</style>\n<table border=\"1\" class=\"dataframe\">\n  <thead>\n    <tr style=\"text-align: right;\">\n      <th></th>\n      <th>bug_id</th>\n      <th>ground_truth</th>\n      <th>repo</th>\n      <th>reformed_query</th>\n      <th>bug_title</th>\n      <th>bug_description</th>\n      <th>effective_queries</th>\n    </tr>\n  </thead>\n  <tbody>\n    <tr>\n      <th>0</th>\n      <td>125572</td>\n      <td>[framework/bundles/org.eclipse.ecf.provider/sr...</td>\n      <td>ecf</td>\n      <td>[Suspended Context client Connection Container...</td>\n      <td>ECF Generic provider thread interlock</td>\n      <td>We see the following problem while running an ...</td>\n      <td>[IConnectContext Message IConnection SOContain...</td>\n    </tr>\n    <tr>\n      <th>1</th>\n      <td>134483</td>\n      <td>[framework/bundles/org.eclipse.ecf/src/org/ecl...</td>\n      <td>ecf</td>\n      <td>[Application Container Standalone Factory Cont...</td>\n      <td>Standalone ClientApplication is breaks in lin...</td>\n      <td>The standalone org.eclipse.ecf.provider.app.Cl...</td>\n      <td>[Application Container Standalone Factory Cont...</td>\n    </tr>\n    <tr>\n      <th>2</th>\n      <td>146622</td>\n      <td>[framework/bundles/org.eclipse.ecf.provider/sr...</td>\n      <td>ecf</td>\n      <td>[handleAsynchEvent bins handleSharedObjectMess...</td>\n      <td>deserializeSharedObjectMessage with custom Cl...</td>\n      <td>when sending a instance of a custom Class in a...</td>\n      <td>[handleAsynchEvent bins handleSharedObjectMess...</td>\n    </tr>\n    <tr>\n      <th>3</th>\n      <td>147269</td>\n      <td>[framework/bundles/org.eclipse.ecf.provider/sr...</td>\n      <td>ecf</td>\n      <td>[group Group Thread SOManager crash load share...</td>\n      <td>The \"send file\" functionality fails and launc...</td>\n      <td>&gt;&gt;&gt; Environment: WinXP + Java ..0_06 + Eclipse...</td>\n      <td>[group Group Thread SOManager crash load share...</td>\n    </tr>\n    <tr>\n      <th>4</th>\n      <td>168382</td>\n      <td>[framework/bundles/org.eclipse.ecf.remoteservi...</td>\n      <td>ecf</td>\n      <td>[runIt executor Actual Render Executor Prepare...</td>\n      <td>[Regression] Exception is thrown out when pre...</td>\n      <td>Description: Exception is thrown out when prev...</td>\n      <td>[prepare report Tcp executor StandardContext A...</td>\n    </tr>\n  </tbody>\n</table>\n</div>"
     },
     "execution_count": 3,
     "metadata": {},
     "output_type": "execute_result"
    }
   ],
   "source": [
    "df.head()"
   ],
   "metadata": {
    "collapsed": false,
    "ExecuteTime": {
     "end_time": "2023-08-06T04:14:24.426305600Z",
     "start_time": "2023-08-06T04:14:24.392548400Z"
    }
   }
  },
  {
   "cell_type": "code",
   "execution_count": 4,
   "outputs": [],
   "source": [
    "# split into train and test\n",
    "from sklearn.model_selection import train_test_split\n",
    "train, test = train_test_split(df, test_size=0.15, random_state=42)"
   ],
   "metadata": {
    "collapsed": false,
    "ExecuteTime": {
     "end_time": "2023-08-06T04:14:29.348053200Z",
     "start_time": "2023-08-06T04:14:28.481124100Z"
    }
   }
  },
  {
   "cell_type": "code",
   "execution_count": 5,
   "outputs": [],
   "source": [
    "def prepare_data( dataset_df):\n",
    "    # create an empty dataframe to return\n",
    "    prepared_df = pd.DataFrame(columns=['reformed_query', 'bug_description', 'bug_title', 'bug_id', 'repo'])\n",
    "\n",
    "    # iterate over the dataframe\n",
    "    for index, row in dataset_df.iterrows():\n",
    "        # get the list from 'effective_queries' column and iterate over it\n",
    "        for i in range(len(row['effective_queries'])):\n",
    "            # add a row to the prepared_df dataframe.\n",
    "            prepared_df.loc[len(prepared_df)] = [row['effective_queries'][i], row['bug_description'], row['bug_title'], row['bug_id'], row['repo']]\n",
    "    return prepared_df"
   ],
   "metadata": {
    "collapsed": false,
    "ExecuteTime": {
     "end_time": "2023-08-06T04:14:35.538332400Z",
     "start_time": "2023-08-06T04:14:35.524356600Z"
    }
   }
  },
  {
   "cell_type": "code",
   "execution_count": 6,
   "outputs": [],
   "source": [
    "# prepare the train and test data\n",
    "train_prepared = prepare_data( train)\n",
    "test_prepared = prepare_data( test)"
   ],
   "metadata": {
    "collapsed": false,
    "ExecuteTime": {
     "end_time": "2023-08-06T04:14:45.017731600Z",
     "start_time": "2023-08-06T04:14:36.480315300Z"
    }
   }
  },
  {
   "cell_type": "code",
   "execution_count": 7,
   "outputs": [
    {
     "name": "stdout",
     "output_type": "stream",
     "text": [
      "(7634, 5)\n",
      "(1333, 5)\n"
     ]
    }
   ],
   "source": [
    "# check shape\n",
    "print( train_prepared.shape)\n",
    "print( test_prepared.shape)"
   ],
   "metadata": {
    "collapsed": false,
    "ExecuteTime": {
     "end_time": "2023-08-06T04:14:51.320880200Z",
     "start_time": "2023-08-06T04:14:51.276359800Z"
    }
   }
  },
  {
   "cell_type": "code",
   "execution_count": null,
   "outputs": [],
   "source": [],
   "metadata": {
    "collapsed": false
   }
  }
 ],
 "metadata": {
  "kernelspec": {
   "display_name": "Python 3",
   "language": "python",
   "name": "python3"
  },
  "language_info": {
   "codemirror_mode": {
    "name": "ipython",
    "version": 2
   },
   "file_extension": ".py",
   "mimetype": "text/x-python",
   "name": "python",
   "nbconvert_exporter": "python",
   "pygments_lexer": "ipython2",
   "version": "2.7.6"
  }
 },
 "nbformat": 4,
 "nbformat_minor": 0
}
