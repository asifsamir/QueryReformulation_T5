{
 "cells": [
  {
   "cell_type": "code",
   "execution_count": 1,
   "outputs": [],
   "source": [
    "import json\n",
    "import pandas as pd"
   ],
   "metadata": {
    "collapsed": false,
    "ExecuteTime": {
     "end_time": "2023-08-03T15:44:36.557665400Z",
     "start_time": "2023-08-03T15:44:35.868289600Z"
    }
   }
  },
  {
   "cell_type": "code",
   "execution_count": 6,
   "metadata": {
    "collapsed": true,
    "ExecuteTime": {
     "end_time": "2023-08-03T15:48:04.634945500Z",
     "start_time": "2023-08-03T15:48:04.597690400Z"
    }
   },
   "outputs": [],
   "source": [
    "# load json dictionary from file\n",
    "file_path = '../../../Data/Augmented/Cleaned_newLine_Data.json'\n",
    "try:\n",
    "    with open(file_path, 'r') as f:\n",
    "        file_contents = f.read()\n",
    "        # print(file_contents)  # Print the contents of the file\n",
    "\n",
    "    data = json.loads(file_contents)\n",
    "    # Process the JSON data here\n",
    "\n",
    "except json.JSONDecodeError as e:\n",
    "    print(\"Error decoding JSON:\", e)\n",
    "except FileNotFoundError:\n",
    "    print(f\"File not found: '{file_path}'\")\n",
    "except Exception as e:\n",
    "    print(\"Error:\", e)"
   ]
  },
  {
   "cell_type": "code",
   "execution_count": 8,
   "outputs": [],
   "source": [
    "# convert dictionary to dataframe\n",
    "dataset = pd.DataFrame.from_dict(data)"
   ],
   "metadata": {
    "collapsed": false,
    "ExecuteTime": {
     "end_time": "2023-08-03T15:48:41.846666500Z",
     "start_time": "2023-08-03T15:48:41.828663900Z"
    }
   }
  },
  {
   "cell_type": "code",
   "execution_count": 9,
   "outputs": [
    {
     "data": {
      "text/plain": "   bug_id                                       ground_truth repo  \\\n0  112599  [providers/bundles/org.eclipse.ecf.provider.xm...  ecf   \n1  125572  [framework/bundles/org.eclipse.ecf.provider/sr...  ecf   \n2  134483  [framework/bundles/org.eclipse.ecf/src/org/ecl...  ecf   \n3  146622  [framework/bundles/org.eclipse.ecf.provider/sr...  ecf   \n4  147269  [framework/bundles/org.eclipse.ecf.provider/sr...  ecf   \n\n                                      reformed_query  \\\n0  [updated xmpp xmpp chat updated updated room x...   \n1  [Suspended Context client Connection Container...   \n2  [Application Container Standalone Factory Cont...   \n3  [handleAsynchEvent bins handleSharedObjectMess...   \n4  [group Group Thread SOManager crash load share...   \n\n                                           bug_title  \\\n0   [XMPP] Room subject does not get updated in x...   \n1              ECF Generic provider thread interlock   \n2   Standalone ClientApplication is breaks in lin...   \n3   deserializeSharedObjectMessage with custom Cl...   \n4   The \"send file\" functionality fails and launc...   \n\n                                     bug_description  \n0  When updated remotely by xmpp server title of ...  \n1  We see the following problem while running an ...  \n2  The standalone org.eclipse.ecf.provider.app.Cl...  \n3  when sending a instance of a custom Class in a...  \n4  >>> Environment: WinXP + Java ..0_06 + Eclipse...  ",
      "text/html": "<div>\n<style scoped>\n    .dataframe tbody tr th:only-of-type {\n        vertical-align: middle;\n    }\n\n    .dataframe tbody tr th {\n        vertical-align: top;\n    }\n\n    .dataframe thead th {\n        text-align: right;\n    }\n</style>\n<table border=\"1\" class=\"dataframe\">\n  <thead>\n    <tr style=\"text-align: right;\">\n      <th></th>\n      <th>bug_id</th>\n      <th>ground_truth</th>\n      <th>repo</th>\n      <th>reformed_query</th>\n      <th>bug_title</th>\n      <th>bug_description</th>\n    </tr>\n  </thead>\n  <tbody>\n    <tr>\n      <th>0</th>\n      <td>112599</td>\n      <td>[providers/bundles/org.eclipse.ecf.provider.xm...</td>\n      <td>ecf</td>\n      <td>[updated xmpp xmpp chat updated updated room x...</td>\n      <td>[XMPP] Room subject does not get updated in x...</td>\n      <td>When updated remotely by xmpp server title of ...</td>\n    </tr>\n    <tr>\n      <th>1</th>\n      <td>125572</td>\n      <td>[framework/bundles/org.eclipse.ecf.provider/sr...</td>\n      <td>ecf</td>\n      <td>[Suspended Context client Connection Container...</td>\n      <td>ECF Generic provider thread interlock</td>\n      <td>We see the following problem while running an ...</td>\n    </tr>\n    <tr>\n      <th>2</th>\n      <td>134483</td>\n      <td>[framework/bundles/org.eclipse.ecf/src/org/ecl...</td>\n      <td>ecf</td>\n      <td>[Application Container Standalone Factory Cont...</td>\n      <td>Standalone ClientApplication is breaks in lin...</td>\n      <td>The standalone org.eclipse.ecf.provider.app.Cl...</td>\n    </tr>\n    <tr>\n      <th>3</th>\n      <td>146622</td>\n      <td>[framework/bundles/org.eclipse.ecf.provider/sr...</td>\n      <td>ecf</td>\n      <td>[handleAsynchEvent bins handleSharedObjectMess...</td>\n      <td>deserializeSharedObjectMessage with custom Cl...</td>\n      <td>when sending a instance of a custom Class in a...</td>\n    </tr>\n    <tr>\n      <th>4</th>\n      <td>147269</td>\n      <td>[framework/bundles/org.eclipse.ecf.provider/sr...</td>\n      <td>ecf</td>\n      <td>[group Group Thread SOManager crash load share...</td>\n      <td>The \"send file\" functionality fails and launc...</td>\n      <td>&gt;&gt;&gt; Environment: WinXP + Java ..0_06 + Eclipse...</td>\n    </tr>\n  </tbody>\n</table>\n</div>"
     },
     "execution_count": 9,
     "metadata": {},
     "output_type": "execute_result"
    }
   ],
   "source": [
    "dataset.head()"
   ],
   "metadata": {
    "collapsed": false,
    "ExecuteTime": {
     "end_time": "2023-08-03T15:48:44.158150100Z",
     "start_time": "2023-08-03T15:48:44.127965Z"
    }
   }
  },
  {
   "cell_type": "markdown",
   "source": [
    "## Now check query effectiveness and add to a new column effective queries"
   ],
   "metadata": {
    "collapsed": false
   }
  },
  {
   "cell_type": "code",
   "execution_count": 11,
   "outputs": [],
   "source": [
    "# create new empty column of list type for effective queries\n",
    "dataset['effective_queries'] = [[] for _ in range(len(dataset))]"
   ],
   "metadata": {
    "collapsed": false,
    "ExecuteTime": {
     "end_time": "2023-08-03T15:51:38.836698700Z",
     "start_time": "2023-08-03T15:51:38.820075700Z"
    }
   }
  },
  {
   "cell_type": "code",
   "execution_count": 12,
   "outputs": [
    {
     "data": {
      "text/plain": "   bug_id                                       ground_truth repo  \\\n0  112599  [providers/bundles/org.eclipse.ecf.provider.xm...  ecf   \n1  125572  [framework/bundles/org.eclipse.ecf.provider/sr...  ecf   \n2  134483  [framework/bundles/org.eclipse.ecf/src/org/ecl...  ecf   \n3  146622  [framework/bundles/org.eclipse.ecf.provider/sr...  ecf   \n4  147269  [framework/bundles/org.eclipse.ecf.provider/sr...  ecf   \n\n                                      reformed_query  \\\n0  [updated xmpp xmpp chat updated updated room x...   \n1  [Suspended Context client Connection Container...   \n2  [Application Container Standalone Factory Cont...   \n3  [handleAsynchEvent bins handleSharedObjectMess...   \n4  [group Group Thread SOManager crash load share...   \n\n                                           bug_title  \\\n0   [XMPP] Room subject does not get updated in x...   \n1              ECF Generic provider thread interlock   \n2   Standalone ClientApplication is breaks in lin...   \n3   deserializeSharedObjectMessage with custom Cl...   \n4   The \"send file\" functionality fails and launc...   \n\n                                     bug_description effective_queries  \n0  When updated remotely by xmpp server title of ...                []  \n1  We see the following problem while running an ...                []  \n2  The standalone org.eclipse.ecf.provider.app.Cl...                []  \n3  when sending a instance of a custom Class in a...                []  \n4  >>> Environment: WinXP + Java ..0_06 + Eclipse...                []  ",
      "text/html": "<div>\n<style scoped>\n    .dataframe tbody tr th:only-of-type {\n        vertical-align: middle;\n    }\n\n    .dataframe tbody tr th {\n        vertical-align: top;\n    }\n\n    .dataframe thead th {\n        text-align: right;\n    }\n</style>\n<table border=\"1\" class=\"dataframe\">\n  <thead>\n    <tr style=\"text-align: right;\">\n      <th></th>\n      <th>bug_id</th>\n      <th>ground_truth</th>\n      <th>repo</th>\n      <th>reformed_query</th>\n      <th>bug_title</th>\n      <th>bug_description</th>\n      <th>effective_queries</th>\n    </tr>\n  </thead>\n  <tbody>\n    <tr>\n      <th>0</th>\n      <td>112599</td>\n      <td>[providers/bundles/org.eclipse.ecf.provider.xm...</td>\n      <td>ecf</td>\n      <td>[updated xmpp xmpp chat updated updated room x...</td>\n      <td>[XMPP] Room subject does not get updated in x...</td>\n      <td>When updated remotely by xmpp server title of ...</td>\n      <td>[]</td>\n    </tr>\n    <tr>\n      <th>1</th>\n      <td>125572</td>\n      <td>[framework/bundles/org.eclipse.ecf.provider/sr...</td>\n      <td>ecf</td>\n      <td>[Suspended Context client Connection Container...</td>\n      <td>ECF Generic provider thread interlock</td>\n      <td>We see the following problem while running an ...</td>\n      <td>[]</td>\n    </tr>\n    <tr>\n      <th>2</th>\n      <td>134483</td>\n      <td>[framework/bundles/org.eclipse.ecf/src/org/ecl...</td>\n      <td>ecf</td>\n      <td>[Application Container Standalone Factory Cont...</td>\n      <td>Standalone ClientApplication is breaks in lin...</td>\n      <td>The standalone org.eclipse.ecf.provider.app.Cl...</td>\n      <td>[]</td>\n    </tr>\n    <tr>\n      <th>3</th>\n      <td>146622</td>\n      <td>[framework/bundles/org.eclipse.ecf.provider/sr...</td>\n      <td>ecf</td>\n      <td>[handleAsynchEvent bins handleSharedObjectMess...</td>\n      <td>deserializeSharedObjectMessage with custom Cl...</td>\n      <td>when sending a instance of a custom Class in a...</td>\n      <td>[]</td>\n    </tr>\n    <tr>\n      <th>4</th>\n      <td>147269</td>\n      <td>[framework/bundles/org.eclipse.ecf.provider/sr...</td>\n      <td>ecf</td>\n      <td>[group Group Thread SOManager crash load share...</td>\n      <td>The \"send file\" functionality fails and launc...</td>\n      <td>&gt;&gt;&gt; Environment: WinXP + Java ..0_06 + Eclipse...</td>\n      <td>[]</td>\n    </tr>\n  </tbody>\n</table>\n</div>"
     },
     "execution_count": 12,
     "metadata": {},
     "output_type": "execute_result"
    }
   ],
   "source": [
    "dataset.head()"
   ],
   "metadata": {
    "collapsed": false,
    "ExecuteTime": {
     "end_time": "2023-08-03T15:51:46.212052100Z",
     "start_time": "2023-08-03T15:51:46.169522600Z"
    }
   }
  },
  {
   "cell_type": "code",
   "execution_count": 16,
   "outputs": [],
   "source": [
    "from IR.Searcher.Index_Searcher import Index_Searcher\n",
    "\n",
    "# to check effective query, we need to search with the each reformed_query and if the result is within the top 10 results, then it is effective\n",
    "searcher = Index_Searcher()"
   ],
   "metadata": {
    "collapsed": false,
    "ExecuteTime": {
     "end_time": "2023-08-03T16:05:22.125928500Z",
     "start_time": "2023-08-03T16:05:21.847200500Z"
    }
   }
  },
  {
   "cell_type": "code",
   "execution_count": 31,
   "outputs": [
    {
     "name": "stdout",
     "output_type": "stream",
     "text": [
      "count_effective: 0\n",
      "index: 0 - count_each_row_effective: 0\n",
      "\n",
      "count_effective: 20\n",
      "index: 4 - count_each_row_effective: 4\n",
      "\n",
      "count_effective: 20\n",
      "index: 5 - count_each_row_effective: 4\n",
      "\n",
      "count_effective: 60\n",
      "index: 17 - count_each_row_effective: 12\n",
      "\n",
      "count_effective: 80\n",
      "index: 28 - count_each_row_effective: 17\n",
      "\n",
      "count_effective: 80\n",
      "index: 29 - count_each_row_effective: 17\n",
      "\n",
      "count_effective: 80\n",
      "index: 30 - count_each_row_effective: 17\n",
      "\n",
      "count_effective: 80\n",
      "index: 31 - count_each_row_effective: 17\n",
      "\n",
      "count_effective: 120\n",
      "index: 38 - count_each_row_effective: 24\n",
      "\n",
      "count_effective: 260\n",
      "index: 79 - count_each_row_effective: 54\n",
      "\n",
      "count_effective: 320\n",
      "index: 92 - count_each_row_effective: 65\n",
      "\n",
      "count_effective: 440\n",
      "index: 122 - count_each_row_effective: 89\n",
      "\n",
      "count_effective: 580\n",
      "index: 145 - count_each_row_effective: 109\n",
      "\n",
      "count_effective: 600\n",
      "index: 149 - count_each_row_effective: 113\n",
      "\n",
      "count_effective: 620\n",
      "index: 153 - count_each_row_effective: 117\n",
      "\n",
      "count_effective: 640\n",
      "index: 157 - count_each_row_effective: 121\n",
      "\n",
      "count_effective: 840\n",
      "index: 196 - count_each_row_effective: 157\n",
      "\n",
      "count_effective: 860\n",
      "index: 203 - count_each_row_effective: 161\n",
      "\n",
      "count_effective: 860\n",
      "index: 204 - count_each_row_effective: 161\n",
      "\n",
      "count_effective: 900\n",
      "index: 218 - count_each_row_effective: 170\n",
      "\n",
      "count_effective: 1340\n",
      "index: 310 - count_each_row_effective: 242\n",
      "\n",
      "count_effective: 1720\n",
      "index: 410 - count_each_row_effective: 313\n",
      "\n",
      "count_effective: 1720\n",
      "index: 411 - count_each_row_effective: 313\n",
      "\n",
      "count_effective: 1840\n",
      "index: 436 - count_each_row_effective: 336\n",
      "\n",
      "count_effective: 1880\n",
      "index: 447 - count_each_row_effective: 343\n",
      "\n",
      "count_effective: 2000\n",
      "index: 480 - count_each_row_effective: 369\n",
      "\n",
      "count_effective: 2120\n",
      "index: 500 - count_each_row_effective: 388\n",
      "\n",
      "count_effective: 2160\n",
      "index: 511 - count_each_row_effective: 398\n",
      "\n",
      "count_effective: 2320\n",
      "index: 551 - count_each_row_effective: 430\n",
      "\n",
      "count_effective: 2360\n",
      "index: 563 - count_each_row_effective: 438\n",
      "\n",
      "count_effective: 2560\n",
      "index: 633 - count_each_row_effective: 484\n",
      "\n",
      "count_effective: 2560\n",
      "index: 634 - count_each_row_effective: 484\n",
      "\n",
      "count_effective: 2560\n",
      "index: 635 - count_each_row_effective: 484\n",
      "\n",
      "count_effective: 2640\n",
      "index: 652 - count_each_row_effective: 498\n",
      "\n",
      "count_effective: 2740\n",
      "index: 690 - count_each_row_effective: 519\n",
      "\n",
      "count_effective: 2780\n",
      "index: 708 - count_each_row_effective: 527\n",
      "\n",
      "count_effective: 2940\n",
      "index: 761 - count_each_row_effective: 563\n",
      "\n",
      "count_effective: 3100\n",
      "index: 806 - count_each_row_effective: 599\n",
      "\n",
      "count_effective: 3120\n",
      "index: 814 - count_each_row_effective: 606\n",
      "\n",
      "count_effective: 3200\n",
      "index: 836 - count_each_row_effective: 618\n",
      "\n",
      "count_effective: 3300\n",
      "index: 864 - count_each_row_effective: 639\n",
      "\n",
      "count_effective: 3400\n",
      "index: 889 - count_each_row_effective: 658\n",
      "\n",
      "count_effective: 3400\n",
      "index: 890 - count_each_row_effective: 658\n",
      "\n",
      "count_effective: 3400\n",
      "index: 891 - count_each_row_effective: 658\n",
      "\n",
      "count_effective: 3500\n",
      "index: 919 - count_each_row_effective: 680\n",
      "\n",
      "count_effective: 3500\n",
      "index: 920 - count_each_row_effective: 680\n",
      "\n",
      "count_effective: 3560\n",
      "index: 934 - count_each_row_effective: 690\n",
      "\n",
      "count_effective: 3560\n",
      "index: 935 - count_each_row_effective: 690\n",
      "\n",
      "count_effective: 3580\n",
      "index: 944 - count_each_row_effective: 695\n",
      "\n",
      "count_effective: 3600\n",
      "index: 951 - count_each_row_effective: 700\n",
      "\n",
      "count_effective: 3600\n",
      "index: 952 - count_each_row_effective: 700\n",
      "\n",
      "count_effective: 3720\n",
      "index: 994 - count_each_row_effective: 728\n",
      "\n",
      "count_effective: 3720\n",
      "index: 995 - count_each_row_effective: 728\n",
      "\n",
      "count_effective: 3780\n",
      "index: 1010 - count_each_row_effective: 740\n",
      "\n",
      "count_effective: 3780\n",
      "index: 1011 - count_each_row_effective: 740\n",
      "\n",
      "count_effective: 3780\n",
      "index: 1012 - count_each_row_effective: 740\n",
      "\n",
      "count_effective: 3820\n",
      "index: 1026 - count_each_row_effective: 750\n",
      "\n",
      "count_effective: 3820\n",
      "index: 1027 - count_each_row_effective: 750\n",
      "\n",
      "count_effective: 3820\n",
      "index: 1028 - count_each_row_effective: 750\n",
      "\n",
      "count_effective: 3820\n",
      "index: 1029 - count_each_row_effective: 750\n",
      "\n",
      "count_effective: 3860\n",
      "index: 1044 - count_each_row_effective: 761\n",
      "\n",
      "count_effective: 4000\n",
      "index: 1092 - count_each_row_effective: 791\n",
      "\n",
      "count_effective: 4040\n",
      "index: 1100 - count_each_row_effective: 799\n",
      "\n",
      "count_effective: 4120\n",
      "index: 1125 - count_each_row_effective: 813\n",
      "\n",
      "count_effective: 4200\n",
      "index: 1153 - count_each_row_effective: 833\n",
      "\n",
      "count_effective: 4220\n",
      "index: 1162 - count_each_row_effective: 838\n",
      "\n",
      "count_effective: 4220\n",
      "index: 1163 - count_each_row_effective: 838\n",
      "\n",
      "count_effective: 4260\n",
      "index: 1172 - count_each_row_effective: 844\n",
      "\n",
      "count_effective: 4260\n",
      "index: 1173 - count_each_row_effective: 844\n",
      "\n",
      "count_effective: 4340\n",
      "index: 1210 - count_each_row_effective: 859\n",
      "\n",
      "count_effective: 4340\n",
      "index: 1211 - count_each_row_effective: 859\n",
      "\n",
      "count_effective: 4560\n",
      "index: 1294 - count_each_row_effective: 902\n",
      "\n",
      "count_effective: 4620\n",
      "index: 1324 - count_each_row_effective: 919\n",
      "\n",
      "count_effective: 4620\n",
      "index: 1325 - count_each_row_effective: 919\n",
      "\n",
      "count_effective: 4620\n",
      "index: 1326 - count_each_row_effective: 919\n",
      "\n",
      "count_effective: 4700\n",
      "index: 1355 - count_each_row_effective: 935\n",
      "\n",
      "count_effective: 4700\n",
      "index: 1356 - count_each_row_effective: 935\n",
      "\n",
      "count_effective: 4820\n",
      "index: 1392 - count_each_row_effective: 958\n",
      "\n",
      "count_effective: 4940\n",
      "index: 1418 - count_each_row_effective: 980\n",
      "\n",
      "count_effective: 5020\n",
      "index: 1442 - count_each_row_effective: 997\n",
      "\n",
      "count_effective: 5040\n",
      "index: 1447 - count_each_row_effective: 1001\n",
      "\n",
      "count_effective: 5220\n",
      "index: 1503 - count_each_row_effective: 1040\n",
      "\n",
      "count_effective: 5380\n",
      "index: 1547 - count_each_row_effective: 1071\n",
      "\n",
      "count_effective: 5380\n",
      "index: 1548 - count_each_row_effective: 1071\n",
      "\n",
      "count_effective: 5440\n",
      "index: 1569 - count_each_row_effective: 1084\n",
      "\n",
      "count_effective: 5480\n",
      "index: 1573 - count_each_row_effective: 1088\n",
      "\n",
      "count_effective: 5500\n",
      "index: 1579 - count_each_row_effective: 1092\n",
      "\n",
      "count_effective: 5500\n",
      "index: 1580 - count_each_row_effective: 1092\n",
      "\n",
      "count_effective: 5600\n",
      "index: 1613 - count_each_row_effective: 1113\n",
      "\n",
      "count_effective: 5620\n",
      "index: 1619 - count_each_row_effective: 1118\n",
      "\n",
      "count_effective: 5720\n",
      "index: 1648 - count_each_row_effective: 1140\n",
      "\n",
      "count_effective: 5720\n",
      "index: 1649 - count_each_row_effective: 1140\n",
      "\n",
      "count_effective: 5720\n",
      "index: 1650 - count_each_row_effective: 1140\n",
      "\n",
      "count_effective: 5820\n",
      "index: 1676 - count_each_row_effective: 1159\n",
      "\n",
      "count_effective: 5860\n",
      "index: 1689 - count_each_row_effective: 1170\n",
      "\n",
      "count_effective: 5980\n",
      "index: 1719 - count_each_row_effective: 1192\n",
      "\n",
      "count_effective: 6040\n",
      "index: 1737 - count_each_row_effective: 1205\n",
      "\n",
      "count_effective: 6040\n",
      "index: 1738 - count_each_row_effective: 1205\n",
      "\n",
      "count_effective: 6260\n",
      "index: 1800 - count_each_row_effective: 1254\n",
      "\n",
      "count_effective: 6300\n",
      "index: 1809 - count_each_row_effective: 1263\n",
      "\n",
      "count_effective: 6340\n",
      "index: 1817 - count_each_row_effective: 1271\n",
      "\n",
      "count_effective: 6440\n",
      "index: 1834 - count_each_row_effective: 1288\n",
      "\n",
      "count_effective: 6640\n",
      "index: 1875 - count_each_row_effective: 1326\n",
      "\n",
      "count_effective: 6760\n",
      "index: 1897 - count_each_row_effective: 1345\n",
      "\n",
      "count_effective: 6880\n",
      "index: 1924 - count_each_row_effective: 1368\n",
      "\n",
      "count_effective: 6880\n",
      "index: 1925 - count_each_row_effective: 1368\n",
      "\n",
      "count_effective: 6940\n",
      "index: 1936 - count_each_row_effective: 1377\n",
      "\n",
      "count_effective: 7020\n",
      "index: 1951 - count_each_row_effective: 1391\n",
      "\n",
      "count_effective: 7160\n",
      "index: 1984 - count_each_row_effective: 1417\n",
      "\n",
      "count_effective: 7160\n",
      "index: 1985 - count_each_row_effective: 1417\n",
      "\n",
      "count_effective: 7220\n",
      "index: 1995 - count_each_row_effective: 1427\n",
      "\n",
      "count_effective: 7240\n",
      "index: 2000 - count_each_row_effective: 1432\n",
      "\n",
      "count_effective: 7260\n",
      "index: 2003 - count_each_row_effective: 1435\n",
      "\n",
      "count_effective: 7420\n",
      "index: 2031 - count_each_row_effective: 1462\n",
      "\n",
      "count_effective: 7500\n",
      "index: 2045 - count_each_row_effective: 1475\n",
      "\n",
      "count_effective: 7560\n",
      "index: 2057 - count_each_row_effective: 1487\n",
      "\n",
      "count_effective: 7660\n",
      "index: 2075 - count_each_row_effective: 1505\n",
      "\n",
      "count_effective: 7760\n",
      "index: 2098 - count_each_row_effective: 1527\n",
      "\n",
      "count_effective: 8220\n",
      "index: 2186 - count_each_row_effective: 1612\n",
      "\n",
      "count_effective: 8240\n",
      "index: 2189 - count_each_row_effective: 1615\n",
      "\n",
      "count_effective: 8260\n",
      "index: 2193 - count_each_row_effective: 1618\n",
      "\n",
      "count_effective: 8500\n",
      "index: 2234 - count_each_row_effective: 1657\n",
      "\n",
      "count_effective: 8680\n",
      "index: 2265 - count_each_row_effective: 1688\n",
      "\n",
      "count_effective: 8720\n",
      "index: 2274 - count_each_row_effective: 1696\n",
      "\n",
      "count_effective: 8820\n",
      "index: 2290 - count_each_row_effective: 1712\n",
      "\n",
      "count_effective: 8820\n",
      "index: 2291 - count_each_row_effective: 1712\n",
      "\n"
     ]
    }
   ],
   "source": [
    "count_effective = 0\n",
    "count_each_row_effective = 0\n",
    "\n",
    "# iterate over each row and check if query is effective\n",
    "for index, row in dataset.iterrows():\n",
    "    queries = row['reformed_query']\n",
    "    ground_truths = row['ground_truth'] # ground truth answer(s). it's a list\n",
    "\n",
    "    row_effective = False\n",
    "\n",
    "    effective_queries = []\n",
    "    for query in queries:\n",
    "        # print(f'query: {query}')\n",
    "        # print(type(query))\n",
    "        # search with the query\n",
    "        results = searcher.search(query, top_K_results=10)\n",
    "        # check if the query is effective. it is effective if the ground truth answer(s) is within the top 10 results\n",
    "        for ground_truth in ground_truths:\n",
    "            if ground_truth in results:\n",
    "                # print('Ground truths')\n",
    "                # print(ground_truth)\n",
    "                #\n",
    "                # print('Results:')\n",
    "                # print(results)\n",
    "\n",
    "                # if effective, add the query to the effective_queries column\n",
    "                effective_queries.append(query)\n",
    "\n",
    "                count_effective += 1\n",
    "\n",
    "                if(row_effective == False):\n",
    "                    count_each_row_effective += 1\n",
    "                    row_effective = True\n",
    "\n",
    "    # add the effective queries to the effective_queries column\n",
    "    dataset.at[index, 'effective_queries'] = effective_queries\n",
    "\n",
    "    if(count_effective % 20 == 0):\n",
    "        print(f'count_effective: {count_effective}')\n",
    "        print(f'index: {index} - count_each_row_effective: {count_each_row_effective}\\n')\n",
    "\n",
    "# create a log file and print the results\n",
    "with open('../../../Data/Augmented/effective_queries_log_top_10.txt', 'a') as f:\n",
    "    f.write(f'Total Dataset Size: {len(dataset)}\\n')\n",
    "    f.write(f'count_effective: {count_effective} - count_each_row_effective: {count_each_row_effective}\\n\\n')\n",
    "    f.write(f'Data with effective queries: {count_effective}\\n')\n",
    "    f.write(f'Data with not effective queries: {len(dataset) - count_each_row_effective}\\n\\n')\n",
    "    f.write(f'Mean effective query per data point: {count_effective / len(dataset)}\\n')\n",
    "    f.write(f'Percentage of effective queries in each row: {count_each_row_effective / len(dataset)}\\n')\n",
    "    f.write(f'Percentage of not effective queries in each row: {(len(dataset) - count_each_row_effective) / len(dataset)}\\n')\n",
    "\n"
   ],
   "metadata": {
    "collapsed": false,
    "ExecuteTime": {
     "end_time": "2023-08-03T16:38:01.930363200Z",
     "start_time": "2023-08-03T16:35:47.088104100Z"
    }
   }
  },
  {
   "cell_type": "code",
   "execution_count": 32,
   "outputs": [
    {
     "data": {
      "text/plain": "   bug_id                                       ground_truth repo  \\\n0  112599  [providers/bundles/org.eclipse.ecf.provider.xm...  ecf   \n1  125572  [framework/bundles/org.eclipse.ecf.provider/sr...  ecf   \n2  134483  [framework/bundles/org.eclipse.ecf/src/org/ecl...  ecf   \n3  146622  [framework/bundles/org.eclipse.ecf.provider/sr...  ecf   \n4  147269  [framework/bundles/org.eclipse.ecf.provider/sr...  ecf   \n\n                                      reformed_query  \\\n0  [updated xmpp xmpp chat updated updated room x...   \n1  [Suspended Context client Connection Container...   \n2  [Application Container Standalone Factory Cont...   \n3  [handleAsynchEvent bins handleSharedObjectMess...   \n4  [group Group Thread SOManager crash load share...   \n\n                                           bug_title  \\\n0   [XMPP] Room subject does not get updated in x...   \n1              ECF Generic provider thread interlock   \n2   Standalone ClientApplication is breaks in lin...   \n3   deserializeSharedObjectMessage with custom Cl...   \n4   The \"send file\" functionality fails and launc...   \n\n                                     bug_description  \\\n0  When updated remotely by xmpp server title of ...   \n1  We see the following problem while running an ...   \n2  The standalone org.eclipse.ecf.provider.app.Cl...   \n3  when sending a instance of a custom Class in a...   \n4  >>> Environment: WinXP + Java ..0_06 + Eclipse...   \n\n                                   effective_queries  \n0                                                 []  \n1  [IConnectContext Message IConnection SOContain...  \n2  [Application Container Standalone Factory Cont...  \n3  [handleAsynchEvent bins handleSharedObjectMess...  \n4  [group Group Thread SOManager crash load share...  ",
      "text/html": "<div>\n<style scoped>\n    .dataframe tbody tr th:only-of-type {\n        vertical-align: middle;\n    }\n\n    .dataframe tbody tr th {\n        vertical-align: top;\n    }\n\n    .dataframe thead th {\n        text-align: right;\n    }\n</style>\n<table border=\"1\" class=\"dataframe\">\n  <thead>\n    <tr style=\"text-align: right;\">\n      <th></th>\n      <th>bug_id</th>\n      <th>ground_truth</th>\n      <th>repo</th>\n      <th>reformed_query</th>\n      <th>bug_title</th>\n      <th>bug_description</th>\n      <th>effective_queries</th>\n    </tr>\n  </thead>\n  <tbody>\n    <tr>\n      <th>0</th>\n      <td>112599</td>\n      <td>[providers/bundles/org.eclipse.ecf.provider.xm...</td>\n      <td>ecf</td>\n      <td>[updated xmpp xmpp chat updated updated room x...</td>\n      <td>[XMPP] Room subject does not get updated in x...</td>\n      <td>When updated remotely by xmpp server title of ...</td>\n      <td>[]</td>\n    </tr>\n    <tr>\n      <th>1</th>\n      <td>125572</td>\n      <td>[framework/bundles/org.eclipse.ecf.provider/sr...</td>\n      <td>ecf</td>\n      <td>[Suspended Context client Connection Container...</td>\n      <td>ECF Generic provider thread interlock</td>\n      <td>We see the following problem while running an ...</td>\n      <td>[IConnectContext Message IConnection SOContain...</td>\n    </tr>\n    <tr>\n      <th>2</th>\n      <td>134483</td>\n      <td>[framework/bundles/org.eclipse.ecf/src/org/ecl...</td>\n      <td>ecf</td>\n      <td>[Application Container Standalone Factory Cont...</td>\n      <td>Standalone ClientApplication is breaks in lin...</td>\n      <td>The standalone org.eclipse.ecf.provider.app.Cl...</td>\n      <td>[Application Container Standalone Factory Cont...</td>\n    </tr>\n    <tr>\n      <th>3</th>\n      <td>146622</td>\n      <td>[framework/bundles/org.eclipse.ecf.provider/sr...</td>\n      <td>ecf</td>\n      <td>[handleAsynchEvent bins handleSharedObjectMess...</td>\n      <td>deserializeSharedObjectMessage with custom Cl...</td>\n      <td>when sending a instance of a custom Class in a...</td>\n      <td>[handleAsynchEvent bins handleSharedObjectMess...</td>\n    </tr>\n    <tr>\n      <th>4</th>\n      <td>147269</td>\n      <td>[framework/bundles/org.eclipse.ecf.provider/sr...</td>\n      <td>ecf</td>\n      <td>[group Group Thread SOManager crash load share...</td>\n      <td>The \"send file\" functionality fails and launc...</td>\n      <td>&gt;&gt;&gt; Environment: WinXP + Java ..0_06 + Eclipse...</td>\n      <td>[group Group Thread SOManager crash load share...</td>\n    </tr>\n  </tbody>\n</table>\n</div>"
     },
     "execution_count": 32,
     "metadata": {},
     "output_type": "execute_result"
    }
   ],
   "source": [
    "dataset.head()"
   ],
   "metadata": {
    "collapsed": false,
    "ExecuteTime": {
     "end_time": "2023-08-03T16:38:01.945351300Z",
     "start_time": "2023-08-03T16:38:01.932364700Z"
    }
   }
  },
  {
   "cell_type": "code",
   "execution_count": 33,
   "outputs": [
    {
     "data": {
      "text/plain": "     bug_id                                       ground_truth      repo  \\\n2315  59908  [java/org/apache/tomcat/websocket/FutureToSend...  tomcat70   \n2316  59923  [modules/jdbc-pool/src/main/java/org/apache/to...  tomcat70   \n2317  60008  [java/org/apache/catalina/filters/CorsFilter.j...  tomcat70   \n2318  60041  [java/org/apache/catalina/loader/LocalStrings....  tomcat70   \n2319  60043  [modules/jdbc-pool/src/main/java/org/apache/to...  tomcat70   \n\n                                         reformed_query  \\\n2315  [Unit Close TimeUnit websoket TimeoutException...   \n2316  [Queue fair problems problems fairQueue invali...   \n2317  [CORS Content POST View server Origin access f...   \n2318  [entry Failed lastJarAccessed Manifest getJarE...   \n2319  [log care closing documentation suspectTimeout...   \n\n                                              bug_title  \\\n2315   Tomcat reports empty(null) close reason if se...   \n2316   The default value of validationInterval attri...   \n2317   Tomcat CORS filter not allowing origin with f...   \n2318                       NPE in WebappClassLoaderBase   \n2319   suspectTimeout does not work as expected with...   \n\n                                        bug_description  \\\n2315  If Tomcat tryes to send large enough message t...   \n2316  The validationInterval attribute is  seconds b...   \n2317  The CORS filter not allowing request and retur...   \n2318  After deploy war in tomcat, delete the jar in ...   \n2319  Already posted this to the mailinglist here: h...   \n\n                                      effective_queries  \n2315  [Unit Close TimeUnit websoket TimeoutException...  \n2316  [Queue fair problems problems fairQueue invali...  \n2317  [CORS Content POST View server Origin access f...  \n2318  [entry Failed lastJarAccessed Manifest getJarE...  \n2319  [log care closing documentation suspectTimeout...  ",
      "text/html": "<div>\n<style scoped>\n    .dataframe tbody tr th:only-of-type {\n        vertical-align: middle;\n    }\n\n    .dataframe tbody tr th {\n        vertical-align: top;\n    }\n\n    .dataframe thead th {\n        text-align: right;\n    }\n</style>\n<table border=\"1\" class=\"dataframe\">\n  <thead>\n    <tr style=\"text-align: right;\">\n      <th></th>\n      <th>bug_id</th>\n      <th>ground_truth</th>\n      <th>repo</th>\n      <th>reformed_query</th>\n      <th>bug_title</th>\n      <th>bug_description</th>\n      <th>effective_queries</th>\n    </tr>\n  </thead>\n  <tbody>\n    <tr>\n      <th>2315</th>\n      <td>59908</td>\n      <td>[java/org/apache/tomcat/websocket/FutureToSend...</td>\n      <td>tomcat70</td>\n      <td>[Unit Close TimeUnit websoket TimeoutException...</td>\n      <td>Tomcat reports empty(null) close reason if se...</td>\n      <td>If Tomcat tryes to send large enough message t...</td>\n      <td>[Unit Close TimeUnit websoket TimeoutException...</td>\n    </tr>\n    <tr>\n      <th>2316</th>\n      <td>59923</td>\n      <td>[modules/jdbc-pool/src/main/java/org/apache/to...</td>\n      <td>tomcat70</td>\n      <td>[Queue fair problems problems fairQueue invali...</td>\n      <td>The default value of validationInterval attri...</td>\n      <td>The validationInterval attribute is  seconds b...</td>\n      <td>[Queue fair problems problems fairQueue invali...</td>\n    </tr>\n    <tr>\n      <th>2317</th>\n      <td>60008</td>\n      <td>[java/org/apache/catalina/filters/CorsFilter.j...</td>\n      <td>tomcat70</td>\n      <td>[CORS Content POST View server Origin access f...</td>\n      <td>Tomcat CORS filter not allowing origin with f...</td>\n      <td>The CORS filter not allowing request and retur...</td>\n      <td>[CORS Content POST View server Origin access f...</td>\n    </tr>\n    <tr>\n      <th>2318</th>\n      <td>60041</td>\n      <td>[java/org/apache/catalina/loader/LocalStrings....</td>\n      <td>tomcat70</td>\n      <td>[entry Failed lastJarAccessed Manifest getJarE...</td>\n      <td>NPE in WebappClassLoaderBase</td>\n      <td>After deploy war in tomcat, delete the jar in ...</td>\n      <td>[entry Failed lastJarAccessed Manifest getJarE...</td>\n    </tr>\n    <tr>\n      <th>2319</th>\n      <td>60043</td>\n      <td>[modules/jdbc-pool/src/main/java/org/apache/to...</td>\n      <td>tomcat70</td>\n      <td>[log care closing documentation suspectTimeout...</td>\n      <td>suspectTimeout does not work as expected with...</td>\n      <td>Already posted this to the mailinglist here: h...</td>\n      <td>[log care closing documentation suspectTimeout...</td>\n    </tr>\n  </tbody>\n</table>\n</div>"
     },
     "execution_count": 33,
     "metadata": {},
     "output_type": "execute_result"
    }
   ],
   "source": [
    "dataset.tail()"
   ],
   "metadata": {
    "collapsed": false,
    "ExecuteTime": {
     "end_time": "2023-08-03T16:38:01.971262200Z",
     "start_time": "2023-08-03T16:38:01.947351500Z"
    }
   }
  },
  {
   "cell_type": "markdown",
   "source": [
    "# save the dataset to a json file"
   ],
   "metadata": {
    "collapsed": false
   }
  },
  {
   "cell_type": "code",
   "execution_count": 34,
   "outputs": [],
   "source": [
    "# copy the dataframe to a new dataframe\n",
    "dataset_copy = dataset.copy()"
   ],
   "metadata": {
    "collapsed": false,
    "ExecuteTime": {
     "end_time": "2023-08-03T16:38:12.162533700Z",
     "start_time": "2023-08-03T16:38:12.152019200Z"
    }
   }
  },
  {
   "cell_type": "code",
   "execution_count": 35,
   "outputs": [],
   "source": [
    "# drop the rows with empty effective_queries\n",
    "dataset_copy = dataset_copy[dataset_copy['effective_queries'].map(lambda d: len(d)) > 0]"
   ],
   "metadata": {
    "collapsed": false,
    "ExecuteTime": {
     "end_time": "2023-08-03T16:38:14.472824300Z",
     "start_time": "2023-08-03T16:38:14.457321700Z"
    }
   }
  },
  {
   "cell_type": "code",
   "execution_count": 36,
   "outputs": [
    {
     "data": {
      "text/plain": "   bug_id                                       ground_truth repo  \\\n1  125572  [framework/bundles/org.eclipse.ecf.provider/sr...  ecf   \n2  134483  [framework/bundles/org.eclipse.ecf/src/org/ecl...  ecf   \n3  146622  [framework/bundles/org.eclipse.ecf.provider/sr...  ecf   \n4  147269  [framework/bundles/org.eclipse.ecf.provider/sr...  ecf   \n6  168382  [framework/bundles/org.eclipse.ecf.remoteservi...  ecf   \n\n                                      reformed_query  \\\n1  [Suspended Context client Connection Container...   \n2  [Application Container Standalone Factory Cont...   \n3  [handleAsynchEvent bins handleSharedObjectMess...   \n4  [group Group Thread SOManager crash load share...   \n6  [runIt executor Actual Render Executor Prepare...   \n\n                                           bug_title  \\\n1              ECF Generic provider thread interlock   \n2   Standalone ClientApplication is breaks in lin...   \n3   deserializeSharedObjectMessage with custom Cl...   \n4   The \"send file\" functionality fails and launc...   \n6   [Regression] Exception is thrown out when pre...   \n\n                                     bug_description  \\\n1  We see the following problem while running an ...   \n2  The standalone org.eclipse.ecf.provider.app.Cl...   \n3  when sending a instance of a custom Class in a...   \n4  >>> Environment: WinXP + Java ..0_06 + Eclipse...   \n6  Description: Exception is thrown out when prev...   \n\n                                   effective_queries  \n1  [IConnectContext Message IConnection SOContain...  \n2  [Application Container Standalone Factory Cont...  \n3  [handleAsynchEvent bins handleSharedObjectMess...  \n4  [group Group Thread SOManager crash load share...  \n6  [prepare report Tcp executor StandardContext A...  ",
      "text/html": "<div>\n<style scoped>\n    .dataframe tbody tr th:only-of-type {\n        vertical-align: middle;\n    }\n\n    .dataframe tbody tr th {\n        vertical-align: top;\n    }\n\n    .dataframe thead th {\n        text-align: right;\n    }\n</style>\n<table border=\"1\" class=\"dataframe\">\n  <thead>\n    <tr style=\"text-align: right;\">\n      <th></th>\n      <th>bug_id</th>\n      <th>ground_truth</th>\n      <th>repo</th>\n      <th>reformed_query</th>\n      <th>bug_title</th>\n      <th>bug_description</th>\n      <th>effective_queries</th>\n    </tr>\n  </thead>\n  <tbody>\n    <tr>\n      <th>1</th>\n      <td>125572</td>\n      <td>[framework/bundles/org.eclipse.ecf.provider/sr...</td>\n      <td>ecf</td>\n      <td>[Suspended Context client Connection Container...</td>\n      <td>ECF Generic provider thread interlock</td>\n      <td>We see the following problem while running an ...</td>\n      <td>[IConnectContext Message IConnection SOContain...</td>\n    </tr>\n    <tr>\n      <th>2</th>\n      <td>134483</td>\n      <td>[framework/bundles/org.eclipse.ecf/src/org/ecl...</td>\n      <td>ecf</td>\n      <td>[Application Container Standalone Factory Cont...</td>\n      <td>Standalone ClientApplication is breaks in lin...</td>\n      <td>The standalone org.eclipse.ecf.provider.app.Cl...</td>\n      <td>[Application Container Standalone Factory Cont...</td>\n    </tr>\n    <tr>\n      <th>3</th>\n      <td>146622</td>\n      <td>[framework/bundles/org.eclipse.ecf.provider/sr...</td>\n      <td>ecf</td>\n      <td>[handleAsynchEvent bins handleSharedObjectMess...</td>\n      <td>deserializeSharedObjectMessage with custom Cl...</td>\n      <td>when sending a instance of a custom Class in a...</td>\n      <td>[handleAsynchEvent bins handleSharedObjectMess...</td>\n    </tr>\n    <tr>\n      <th>4</th>\n      <td>147269</td>\n      <td>[framework/bundles/org.eclipse.ecf.provider/sr...</td>\n      <td>ecf</td>\n      <td>[group Group Thread SOManager crash load share...</td>\n      <td>The \"send file\" functionality fails and launc...</td>\n      <td>&gt;&gt;&gt; Environment: WinXP + Java ..0_06 + Eclipse...</td>\n      <td>[group Group Thread SOManager crash load share...</td>\n    </tr>\n    <tr>\n      <th>6</th>\n      <td>168382</td>\n      <td>[framework/bundles/org.eclipse.ecf.remoteservi...</td>\n      <td>ecf</td>\n      <td>[runIt executor Actual Render Executor Prepare...</td>\n      <td>[Regression] Exception is thrown out when pre...</td>\n      <td>Description: Exception is thrown out when prev...</td>\n      <td>[prepare report Tcp executor StandardContext A...</td>\n    </tr>\n  </tbody>\n</table>\n</div>"
     },
     "execution_count": 36,
     "metadata": {},
     "output_type": "execute_result"
    }
   ],
   "source": [
    "dataset_copy.head()"
   ],
   "metadata": {
    "collapsed": false,
    "ExecuteTime": {
     "end_time": "2023-08-03T16:38:16.198119600Z",
     "start_time": "2023-08-03T16:38:16.178123Z"
    }
   }
  },
  {
   "cell_type": "code",
   "execution_count": 37,
   "outputs": [
    {
     "data": {
      "text/plain": "1738"
     },
     "execution_count": 37,
     "metadata": {},
     "output_type": "execute_result"
    }
   ],
   "source": [
    "len(dataset_copy)"
   ],
   "metadata": {
    "collapsed": false,
    "ExecuteTime": {
     "end_time": "2023-08-03T16:38:30.567372200Z",
     "start_time": "2023-08-03T16:38:30.497373200Z"
    }
   }
  },
  {
   "cell_type": "markdown",
   "source": [
    "# save the both datasets to a json file"
   ],
   "metadata": {
    "collapsed": false
   }
  },
  {
   "cell_type": "code",
   "execution_count": 39,
   "outputs": [],
   "source": [
    "# save the dataset to a json file\n",
    "dataset_copy.to_json('../../../Data/Augmented/cleaned_effective.json', orient='records')\n",
    "dataset.to_json('../../../Data/Augmented/Reference_cleaned_effective_for_stat.json', orient='records')"
   ],
   "metadata": {
    "collapsed": false,
    "ExecuteTime": {
     "end_time": "2023-08-03T16:43:25.838510Z",
     "start_time": "2023-08-03T16:43:25.778712900Z"
    }
   }
  }
 ],
 "metadata": {
  "kernelspec": {
   "display_name": "Python 3",
   "language": "python",
   "name": "python3"
  },
  "language_info": {
   "codemirror_mode": {
    "name": "ipython",
    "version": 2
   },
   "file_extension": ".py",
   "mimetype": "text/x-python",
   "name": "python",
   "nbconvert_exporter": "python",
   "pygments_lexer": "ipython2",
   "version": "2.7.6"
  }
 },
 "nbformat": 4,
 "nbformat_minor": 0
}
