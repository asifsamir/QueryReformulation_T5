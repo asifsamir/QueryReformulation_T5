{
 "cells": [
  {
   "cell_type": "code",
   "execution_count": 1,
   "metadata": {
    "collapsed": true,
    "ExecuteTime": {
     "end_time": "2023-08-07T19:55:13.472046500Z",
     "start_time": "2023-08-07T19:55:12.501781400Z"
    }
   },
   "outputs": [],
   "source": [
    "import numpy as np\n",
    "import pandas as pd\n",
    "import json\n",
    "import os\n",
    "from IR.Searcher.Index_Searcher import Index_Searcher\n",
    "from Scorer.MajorityVotingScorer import MajorityVotingScorer"
   ]
  },
  {
   "cell_type": "markdown",
   "source": [
    "## load Blizzard query into dataframe"
   ],
   "metadata": {
    "collapsed": false
   }
  },
  {
   "cell_type": "code",
   "execution_count": 2,
   "outputs": [],
   "source": [
    "# load the blizzard reformulated query into dataframe\n",
    "blizzard_query_path = 'F:\\Data\\Blizzzard\\BLIZZARD-Replication-Package-ESEC-FSE2018-master\\BLIZZARD\\Query'"
   ],
   "metadata": {
    "collapsed": false,
    "ExecuteTime": {
     "end_time": "2023-08-07T19:55:13.499930500Z",
     "start_time": "2023-08-07T19:55:13.473058700Z"
    }
   }
  },
  {
   "cell_type": "code",
   "execution_count": 3,
   "outputs": [],
   "source": [
    "blizzard_query_df = pd.DataFrame()\n",
    "blizzard_query_dict_list = []"
   ],
   "metadata": {
    "collapsed": false,
    "ExecuteTime": {
     "end_time": "2023-08-07T19:55:14.798114500Z",
     "start_time": "2023-08-07T19:55:14.784025600Z"
    }
   }
  },
  {
   "cell_type": "code",
   "execution_count": 4,
   "outputs": [],
   "source": [
    "# list all the files in the blizzard query folder\n",
    "blizzard_query_dir_REPO = os.listdir(blizzard_query_path)\n",
    "\n",
    "# iterate through all the directories\n",
    "for repo in blizzard_query_dir_REPO:\n",
    "    # get the path of the directory\n",
    "    dir_path = os.path.join(blizzard_query_path, repo)\n",
    "    # get all the files in the directory\n",
    "    files = os.listdir(dir_path)\n",
    "    # iterate through all the files\n",
    "    for file in files:\n",
    "        # get the path of the file\n",
    "        file_path = os.path.join(dir_path, file)\n",
    "        # read the text file\n",
    "        with open(file_path, 'r') as f:\n",
    "            # read the file line by line and separate the bug id and the query based on the tab\n",
    "            for line in f:\n",
    "                # split the line based on the tab\n",
    "                line = line.split('\\t')\n",
    "                # get the bug id\n",
    "                bug_id = line[0]\n",
    "                # get the query\n",
    "                query = line[1]\n",
    "\n",
    "                # now, put the bug id, repo and the query in a dictionary\n",
    "                blizzard_query_dict = {'bug_id': bug_id, 'repo': repo, 'query': query}\n",
    "                # append the dictionary to the list\n",
    "                blizzard_query_dict_list.append(blizzard_query_dict)\n",
    "\n",
    "# convert the list of dictionaries to a dataframe\n",
    "blizzard_query_df = pd.DataFrame.from_dict(blizzard_query_dict_list)"
   ],
   "metadata": {
    "collapsed": false,
    "ExecuteTime": {
     "end_time": "2023-08-07T19:55:17.573897800Z",
     "start_time": "2023-08-07T19:55:17.240991800Z"
    }
   }
  },
  {
   "cell_type": "code",
   "execution_count": 6,
   "outputs": [
    {
     "data": {
      "text/plain": "     bug_id      repo                                              query\n5134  58946  tomcat70  ParameterMap put Parameter Map jspService test...\n5135  59015  tomcat70  destroy AprEndpoint Sendfile stopInternal stop...\n5136  59054  tomcat70  setAttribute CrawlerSessionManagerValve Standa...\n5137  59151  tomcat70  SaveContextOnUpdateOrErrorResponseWrapper send...\n5138  59317  tomcat70  ServletServerHttpRequest AbstractHandlerMappin...",
      "text/html": "<div>\n<style scoped>\n    .dataframe tbody tr th:only-of-type {\n        vertical-align: middle;\n    }\n\n    .dataframe tbody tr th {\n        vertical-align: top;\n    }\n\n    .dataframe thead th {\n        text-align: right;\n    }\n</style>\n<table border=\"1\" class=\"dataframe\">\n  <thead>\n    <tr style=\"text-align: right;\">\n      <th></th>\n      <th>bug_id</th>\n      <th>repo</th>\n      <th>query</th>\n    </tr>\n  </thead>\n  <tbody>\n    <tr>\n      <th>5134</th>\n      <td>58946</td>\n      <td>tomcat70</td>\n      <td>ParameterMap put Parameter Map jspService test...</td>\n    </tr>\n    <tr>\n      <th>5135</th>\n      <td>59015</td>\n      <td>tomcat70</td>\n      <td>destroy AprEndpoint Sendfile stopInternal stop...</td>\n    </tr>\n    <tr>\n      <th>5136</th>\n      <td>59054</td>\n      <td>tomcat70</td>\n      <td>setAttribute CrawlerSessionManagerValve Standa...</td>\n    </tr>\n    <tr>\n      <th>5137</th>\n      <td>59151</td>\n      <td>tomcat70</td>\n      <td>SaveContextOnUpdateOrErrorResponseWrapper send...</td>\n    </tr>\n    <tr>\n      <th>5138</th>\n      <td>59317</td>\n      <td>tomcat70</td>\n      <td>ServletServerHttpRequest AbstractHandlerMappin...</td>\n    </tr>\n  </tbody>\n</table>\n</div>"
     },
     "execution_count": 6,
     "metadata": {},
     "output_type": "execute_result"
    }
   ],
   "source": [
    "blizzard_query_df.tail()"
   ],
   "metadata": {
    "collapsed": false,
    "ExecuteTime": {
     "end_time": "2023-08-07T19:55:42.488015500Z",
     "start_time": "2023-08-07T19:55:42.476030100Z"
    }
   }
  },
  {
   "cell_type": "markdown",
   "source": [
    "# now load the test set into a dataframe"
   ],
   "metadata": {
    "collapsed": false
   }
  },
  {
   "cell_type": "code",
   "execution_count": 7,
   "outputs": [],
   "source": [
    "# load the test_df from json\n",
    "with open('../Data/Outputs/test_recommendations.json', 'r') as file:\n",
    "    data = file.read()\n",
    "    data = json.loads(data)\n",
    "\n",
    "test_df = pd.DataFrame.from_dict(data)"
   ],
   "metadata": {
    "collapsed": false,
    "ExecuteTime": {
     "end_time": "2023-08-07T19:56:22.519680100Z",
     "start_time": "2023-08-07T19:56:22.508242300Z"
    }
   }
  },
  {
   "cell_type": "code",
   "execution_count": 9,
   "outputs": [
    {
     "data": {
      "text/plain": "    bug_id                                       ground_truth  \\\n95  312646  [ui/org.eclipse.pde.ui/src/org/eclipse/pde/int...   \n96   51447  [java/org/apache/catalina/manager/HTMLManagerS...   \n97  301894  [org.eclipse.jdt.apt.core/build_notes.html, or...   \n98  232463  [ui/org.eclipse.pde.ui/src/org/eclipse/pde/int...   \n99   55905  [java/org/apache/catalina/startup/LocalStrings...   \n\n                repo                                     reformed_query  \\\n95    eclipse.pde.ui  [plug HEAD tree eclipse check launch Select tr...   \n96          tomcat70  [type reproduce findSession instances Map getM...   \n97  eclipse.jdt.core  [annotations Build annotations adopters issues...   \n98    eclipse.pde.ui  [Target Restore fresh click BUG remains platfo...   \n99          tomcat70  [FileNotFoundException process Tld path Note x...   \n\n                                            bug_title  \\\n95              empty feature list when 1 is selected   \n96        Session type changes from Backup to Primary   \n97   OutOfMemory error when building a large proje...   \n98   Target Platform pref page does not fully rese...   \n99   Error message unhelpful when web.xml referenc...   \n\n                                      bug_description  \\\n95  Using HEAD: * New Eclipse Application launch c...   \n96  Created attachment  [details] patch Steps to r...   \n97  Build Identifier: .. + R342patch_1.. This bug ...   \n98  I20080515-. . start fresh workspace . goto to ...   \n99  In your web-application web.xml add a taglib e...   \n\n                                    effective_queries  \\\n95  [plug HEAD tree eclipse check launch Select tr...   \n96  [type details LazyReplicatedMap Session getSes...   \n97  [annotations Build annotations adopters issues...   \n98  [Target checked PDE preference change Target P...   \n99  [doesn uri FileNotFoundException MalformedURLE...   \n\n                                query_recommendations  \n95  [[selecting, org, org, dropped, pde, select, r...  \n96  [[attached, backup, backup, URLAndId, informat...  \n97  [[Build, builds, bug, Bug, large, support, fol...  \n98  [[target, change, Target, target, target, chan...  \n99  [[Element, java, folder, jsp, Web, config, pat...  ",
      "text/html": "<div>\n<style scoped>\n    .dataframe tbody tr th:only-of-type {\n        vertical-align: middle;\n    }\n\n    .dataframe tbody tr th {\n        vertical-align: top;\n    }\n\n    .dataframe thead th {\n        text-align: right;\n    }\n</style>\n<table border=\"1\" class=\"dataframe\">\n  <thead>\n    <tr style=\"text-align: right;\">\n      <th></th>\n      <th>bug_id</th>\n      <th>ground_truth</th>\n      <th>repo</th>\n      <th>reformed_query</th>\n      <th>bug_title</th>\n      <th>bug_description</th>\n      <th>effective_queries</th>\n      <th>query_recommendations</th>\n    </tr>\n  </thead>\n  <tbody>\n    <tr>\n      <th>95</th>\n      <td>312646</td>\n      <td>[ui/org.eclipse.pde.ui/src/org/eclipse/pde/int...</td>\n      <td>eclipse.pde.ui</td>\n      <td>[plug HEAD tree eclipse check launch Select tr...</td>\n      <td>empty feature list when 1 is selected</td>\n      <td>Using HEAD: * New Eclipse Application launch c...</td>\n      <td>[plug HEAD tree eclipse check launch Select tr...</td>\n      <td>[[selecting, org, org, dropped, pde, select, r...</td>\n    </tr>\n    <tr>\n      <th>96</th>\n      <td>51447</td>\n      <td>[java/org/apache/catalina/manager/HTMLManagerS...</td>\n      <td>tomcat70</td>\n      <td>[type reproduce findSession instances Map getM...</td>\n      <td>Session type changes from Backup to Primary</td>\n      <td>Created attachment  [details] patch Steps to r...</td>\n      <td>[type details LazyReplicatedMap Session getSes...</td>\n      <td>[[attached, backup, backup, URLAndId, informat...</td>\n    </tr>\n    <tr>\n      <th>97</th>\n      <td>301894</td>\n      <td>[org.eclipse.jdt.apt.core/build_notes.html, or...</td>\n      <td>eclipse.jdt.core</td>\n      <td>[annotations Build annotations adopters issues...</td>\n      <td>OutOfMemory error when building a large proje...</td>\n      <td>Build Identifier: .. + R342patch_1.. This bug ...</td>\n      <td>[annotations Build annotations adopters issues...</td>\n      <td>[[Build, builds, bug, Bug, large, support, fol...</td>\n    </tr>\n    <tr>\n      <th>98</th>\n      <td>232463</td>\n      <td>[ui/org.eclipse.pde.ui/src/org/eclipse/pde/int...</td>\n      <td>eclipse.pde.ui</td>\n      <td>[Target Restore fresh click BUG remains platfo...</td>\n      <td>Target Platform pref page does not fully rese...</td>\n      <td>I20080515-. . start fresh workspace . goto to ...</td>\n      <td>[Target checked PDE preference change Target P...</td>\n      <td>[[target, change, Target, target, target, chan...</td>\n    </tr>\n    <tr>\n      <th>99</th>\n      <td>55905</td>\n      <td>[java/org/apache/catalina/startup/LocalStrings...</td>\n      <td>tomcat70</td>\n      <td>[FileNotFoundException process Tld path Note x...</td>\n      <td>Error message unhelpful when web.xml referenc...</td>\n      <td>In your web-application web.xml add a taglib e...</td>\n      <td>[doesn uri FileNotFoundException MalformedURLE...</td>\n      <td>[[Element, java, folder, jsp, Web, config, pat...</td>\n    </tr>\n  </tbody>\n</table>\n</div>"
     },
     "execution_count": 9,
     "metadata": {},
     "output_type": "execute_result"
    }
   ],
   "source": [
    "test_df.tail()"
   ],
   "metadata": {
    "collapsed": false,
    "ExecuteTime": {
     "end_time": "2023-08-07T19:57:03.721599600Z",
     "start_time": "2023-08-07T19:57:03.695552100Z"
    }
   }
  },
  {
   "cell_type": "code",
   "execution_count": 8,
   "outputs": [],
   "source": [
    "# check each bug id and repo in the test set and see if it is in the blizzard query set\n",
    "# if it is, then get the query from the blizzard query set and put it in the new column in the test set named 'baseline_query'\n",
    "\n",
    "# create a new column in the test set named 'baseline_query'\n",
    "test_df['baseline_query'] = ''\n",
    "\n"
   ],
   "metadata": {
    "collapsed": false,
    "ExecuteTime": {
     "end_time": "2023-08-07T19:56:58.926314Z",
     "start_time": "2023-08-07T19:56:58.914310100Z"
    }
   }
  },
  {
   "cell_type": "code",
   "execution_count": 10,
   "outputs": [],
   "source": [
    "# iterate through all the rows in the test set\n",
    "for index, row in test_df.iterrows():\n",
    "    # get the bug id and repo from the test set\n",
    "    bug_id = row['bug_id']\n",
    "    repo = row['repo']\n",
    "    # check if the bug id and repo is in the blizzard query set\n",
    "    if blizzard_query_df[(blizzard_query_df['bug_id'] == bug_id) & (blizzard_query_df['repo'] == repo)].empty:\n",
    "        # if it is not in the blizzard query set, then continue\n",
    "        continue\n",
    "    else:\n",
    "        # if it is in the blizzard query set, then put the query from the blizzard query set in the baseline_query column\n",
    "        test_df.at[index, 'baseline_query'] = blizzard_query_df[(blizzard_query_df['bug_id'] == bug_id) & (blizzard_query_df['repo'] == repo)]['query'].values[0]"
   ],
   "metadata": {
    "collapsed": false,
    "ExecuteTime": {
     "end_time": "2023-08-07T20:01:01.965077400Z",
     "start_time": "2023-08-07T20:01:01.793258300Z"
    }
   }
  },
  {
   "cell_type": "code",
   "execution_count": 11,
   "outputs": [
    {
     "data": {
      "text/plain": "    bug_id                                       ground_truth  \\\n95  312646  [ui/org.eclipse.pde.ui/src/org/eclipse/pde/int...   \n96   51447  [java/org/apache/catalina/manager/HTMLManagerS...   \n97  301894  [org.eclipse.jdt.apt.core/build_notes.html, or...   \n98  232463  [ui/org.eclipse.pde.ui/src/org/eclipse/pde/int...   \n99   55905  [java/org/apache/catalina/startup/LocalStrings...   \n\n                repo                                     reformed_query  \\\n95    eclipse.pde.ui  [plug HEAD tree eclipse check launch Select tr...   \n96          tomcat70  [type reproduce findSession instances Map getM...   \n97  eclipse.jdt.core  [annotations Build annotations adopters issues...   \n98    eclipse.pde.ui  [Target Restore fresh click BUG remains platfo...   \n99          tomcat70  [FileNotFoundException process Tld path Note x...   \n\n                                            bug_title  \\\n95              empty feature list when 1 is selected   \n96        Session type changes from Backup to Primary   \n97   OutOfMemory error when building a large proje...   \n98   Target Platform pref page does not fully rese...   \n99   Error message unhelpful when web.xml referenc...   \n\n                                      bug_description  \\\n95  Using HEAD: * New Eclipse Application launch c...   \n96  Created attachment  [details] patch Steps to r...   \n97  Build Identifier: .. + R342patch_1.. This bug ...   \n98  I20080515-. . start fresh workspace . goto to ...   \n99  In your web-application web.xml add a taglib e...   \n\n                                    effective_queries  \\\n95  [plug HEAD tree eclipse check launch Select tr...   \n96  [type details LazyReplicatedMap Session getSes...   \n97  [annotations Build annotations adopters issues...   \n98  [Target checked PDE preference change Target P...   \n99  [doesn uri FileNotFoundException MalformedURLE...   \n\n                                query_recommendations  \\\n95  [[selecting, org, org, dropped, pde, select, r...   \n96  [[attached, backup, backup, URLAndId, informat...   \n97  [[Build, builds, bug, Bug, large, support, fol...   \n98  [[target, change, Target, target, target, chan...   \n99  [[Element, java, folder, jsp, Web, config, pat...   \n\n                                       baseline_query  \n95  Bug empty feature list selected HEAD Eclipse A...  \n96  type session backup primary session sessions f...  \n97  outofmemory bug memory error project annotatio...  \n98  Bug Target Platform pref fully reset Restore D...  \n99  message tld file error web xml references does...  ",
      "text/html": "<div>\n<style scoped>\n    .dataframe tbody tr th:only-of-type {\n        vertical-align: middle;\n    }\n\n    .dataframe tbody tr th {\n        vertical-align: top;\n    }\n\n    .dataframe thead th {\n        text-align: right;\n    }\n</style>\n<table border=\"1\" class=\"dataframe\">\n  <thead>\n    <tr style=\"text-align: right;\">\n      <th></th>\n      <th>bug_id</th>\n      <th>ground_truth</th>\n      <th>repo</th>\n      <th>reformed_query</th>\n      <th>bug_title</th>\n      <th>bug_description</th>\n      <th>effective_queries</th>\n      <th>query_recommendations</th>\n      <th>baseline_query</th>\n    </tr>\n  </thead>\n  <tbody>\n    <tr>\n      <th>95</th>\n      <td>312646</td>\n      <td>[ui/org.eclipse.pde.ui/src/org/eclipse/pde/int...</td>\n      <td>eclipse.pde.ui</td>\n      <td>[plug HEAD tree eclipse check launch Select tr...</td>\n      <td>empty feature list when 1 is selected</td>\n      <td>Using HEAD: * New Eclipse Application launch c...</td>\n      <td>[plug HEAD tree eclipse check launch Select tr...</td>\n      <td>[[selecting, org, org, dropped, pde, select, r...</td>\n      <td>Bug empty feature list selected HEAD Eclipse A...</td>\n    </tr>\n    <tr>\n      <th>96</th>\n      <td>51447</td>\n      <td>[java/org/apache/catalina/manager/HTMLManagerS...</td>\n      <td>tomcat70</td>\n      <td>[type reproduce findSession instances Map getM...</td>\n      <td>Session type changes from Backup to Primary</td>\n      <td>Created attachment  [details] patch Steps to r...</td>\n      <td>[type details LazyReplicatedMap Session getSes...</td>\n      <td>[[attached, backup, backup, URLAndId, informat...</td>\n      <td>type session backup primary session sessions f...</td>\n    </tr>\n    <tr>\n      <th>97</th>\n      <td>301894</td>\n      <td>[org.eclipse.jdt.apt.core/build_notes.html, or...</td>\n      <td>eclipse.jdt.core</td>\n      <td>[annotations Build annotations adopters issues...</td>\n      <td>OutOfMemory error when building a large proje...</td>\n      <td>Build Identifier: .. + R342patch_1.. This bug ...</td>\n      <td>[annotations Build annotations adopters issues...</td>\n      <td>[[Build, builds, bug, Bug, large, support, fol...</td>\n      <td>outofmemory bug memory error project annotatio...</td>\n    </tr>\n    <tr>\n      <th>98</th>\n      <td>232463</td>\n      <td>[ui/org.eclipse.pde.ui/src/org/eclipse/pde/int...</td>\n      <td>eclipse.pde.ui</td>\n      <td>[Target Restore fresh click BUG remains platfo...</td>\n      <td>Target Platform pref page does not fully rese...</td>\n      <td>I20080515-. . start fresh workspace . goto to ...</td>\n      <td>[Target checked PDE preference change Target P...</td>\n      <td>[[target, change, Target, target, target, chan...</td>\n      <td>Bug Target Platform pref fully reset Restore D...</td>\n    </tr>\n    <tr>\n      <th>99</th>\n      <td>55905</td>\n      <td>[java/org/apache/catalina/startup/LocalStrings...</td>\n      <td>tomcat70</td>\n      <td>[FileNotFoundException process Tld path Note x...</td>\n      <td>Error message unhelpful when web.xml referenc...</td>\n      <td>In your web-application web.xml add a taglib e...</td>\n      <td>[doesn uri FileNotFoundException MalformedURLE...</td>\n      <td>[[Element, java, folder, jsp, Web, config, pat...</td>\n      <td>message tld file error web xml references does...</td>\n    </tr>\n  </tbody>\n</table>\n</div>"
     },
     "execution_count": 11,
     "metadata": {},
     "output_type": "execute_result"
    }
   ],
   "source": [
    "test_df.tail()"
   ],
   "metadata": {
    "collapsed": false,
    "ExecuteTime": {
     "end_time": "2023-08-07T20:01:08.699166Z",
     "start_time": "2023-08-07T20:01:08.656159500Z"
    }
   }
  },
  {
   "cell_type": "code",
   "execution_count": 12,
   "outputs": [
    {
     "data": {
      "text/plain": "Empty DataFrame\nColumns: [bug_id, ground_truth, repo, reformed_query, bug_title, bug_description, effective_queries, query_recommendations, baseline_query]\nIndex: []",
      "text/html": "<div>\n<style scoped>\n    .dataframe tbody tr th:only-of-type {\n        vertical-align: middle;\n    }\n\n    .dataframe tbody tr th {\n        vertical-align: top;\n    }\n\n    .dataframe thead th {\n        text-align: right;\n    }\n</style>\n<table border=\"1\" class=\"dataframe\">\n  <thead>\n    <tr style=\"text-align: right;\">\n      <th></th>\n      <th>bug_id</th>\n      <th>ground_truth</th>\n      <th>repo</th>\n      <th>reformed_query</th>\n      <th>bug_title</th>\n      <th>bug_description</th>\n      <th>effective_queries</th>\n      <th>query_recommendations</th>\n      <th>baseline_query</th>\n    </tr>\n  </thead>\n  <tbody>\n  </tbody>\n</table>\n</div>"
     },
     "execution_count": 12,
     "metadata": {},
     "output_type": "execute_result"
    }
   ],
   "source": [
    "# check if the baseline_query column has any empty values\n",
    "test_df[test_df['baseline_query'] == '']"
   ],
   "metadata": {
    "collapsed": false,
    "ExecuteTime": {
     "end_time": "2023-08-07T20:02:39.847893800Z",
     "start_time": "2023-08-07T20:02:39.819894500Z"
    }
   }
  },
  {
   "cell_type": "code",
   "execution_count": 13,
   "outputs": [
    {
     "data": {
      "text/plain": "0"
     },
     "execution_count": 13,
     "metadata": {},
     "output_type": "execute_result"
    }
   ],
   "source": [
    "# check the number of empty values\n",
    "len(test_df[test_df['baseline_query'] == ''])"
   ],
   "metadata": {
    "collapsed": false,
    "ExecuteTime": {
     "end_time": "2023-08-07T20:03:04.452598500Z",
     "start_time": "2023-08-07T20:03:04.439600300Z"
    }
   }
  },
  {
   "cell_type": "code",
   "execution_count": 14,
   "outputs": [
    {
     "data": {
      "text/plain": "100"
     },
     "execution_count": 14,
     "metadata": {},
     "output_type": "execute_result"
    }
   ],
   "source": [
    "# now, check how many unique queries are there in the baseline_query column\n",
    "len(test_df['baseline_query'].unique())"
   ],
   "metadata": {
    "collapsed": false,
    "ExecuteTime": {
     "end_time": "2023-08-07T20:03:33.532060400Z",
     "start_time": "2023-08-07T20:03:33.483390600Z"
    }
   }
  },
  {
   "cell_type": "code",
   "execution_count": 16,
   "outputs": [],
   "source": [
    "# save the test_df to json as array of dictionaries\n",
    "test_df.to_json('../Data/Outputs/test_recommendations_baseline.json', orient='records')"
   ],
   "metadata": {
    "collapsed": false,
    "ExecuteTime": {
     "end_time": "2023-08-07T20:06:19.641493100Z",
     "start_time": "2023-08-07T20:06:19.614078900Z"
    }
   }
  },
  {
   "cell_type": "code",
   "execution_count": 17,
   "outputs": [],
   "source": [
    "# now, load the test_df from json\n",
    "with open('../Data/Outputs/test_recommendations_baseline.json', 'r') as file:\n",
    "    data = file.read()\n",
    "    data = json.loads(data)\n",
    "\n",
    "test_df = pd.DataFrame.from_dict(data)"
   ],
   "metadata": {
    "collapsed": false,
    "ExecuteTime": {
     "end_time": "2023-08-07T20:06:40.519582700Z",
     "start_time": "2023-08-07T20:06:40.506581300Z"
    }
   }
  },
  {
   "cell_type": "code",
   "execution_count": 18,
   "outputs": [
    {
     "data": {
      "text/plain": "    bug_id                                       ground_truth  \\\n95  312646  [ui/org.eclipse.pde.ui/src/org/eclipse/pde/int...   \n96   51447  [java/org/apache/catalina/manager/HTMLManagerS...   \n97  301894  [org.eclipse.jdt.apt.core/build_notes.html, or...   \n98  232463  [ui/org.eclipse.pde.ui/src/org/eclipse/pde/int...   \n99   55905  [java/org/apache/catalina/startup/LocalStrings...   \n\n                repo                                     reformed_query  \\\n95    eclipse.pde.ui  [plug HEAD tree eclipse check launch Select tr...   \n96          tomcat70  [type reproduce findSession instances Map getM...   \n97  eclipse.jdt.core  [annotations Build annotations adopters issues...   \n98    eclipse.pde.ui  [Target Restore fresh click BUG remains platfo...   \n99          tomcat70  [FileNotFoundException process Tld path Note x...   \n\n                                            bug_title  \\\n95              empty feature list when 1 is selected   \n96        Session type changes from Backup to Primary   \n97   OutOfMemory error when building a large proje...   \n98   Target Platform pref page does not fully rese...   \n99   Error message unhelpful when web.xml referenc...   \n\n                                      bug_description  \\\n95  Using HEAD: * New Eclipse Application launch c...   \n96  Created attachment  [details] patch Steps to r...   \n97  Build Identifier: .. + R342patch_1.. This bug ...   \n98  I20080515-. . start fresh workspace . goto to ...   \n99  In your web-application web.xml add a taglib e...   \n\n                                    effective_queries  \\\n95  [plug HEAD tree eclipse check launch Select tr...   \n96  [type details LazyReplicatedMap Session getSes...   \n97  [annotations Build annotations adopters issues...   \n98  [Target checked PDE preference change Target P...   \n99  [doesn uri FileNotFoundException MalformedURLE...   \n\n                                query_recommendations  \\\n95  [[selecting, org, org, dropped, pde, select, r...   \n96  [[attached, backup, backup, URLAndId, informat...   \n97  [[Build, builds, bug, Bug, large, support, fol...   \n98  [[target, change, Target, target, target, chan...   \n99  [[Element, java, folder, jsp, Web, config, pat...   \n\n                                       baseline_query  \n95  Bug empty feature list selected HEAD Eclipse A...  \n96  type session backup primary session sessions f...  \n97  outofmemory bug memory error project annotatio...  \n98  Bug Target Platform pref fully reset Restore D...  \n99  message tld file error web xml references does...  ",
      "text/html": "<div>\n<style scoped>\n    .dataframe tbody tr th:only-of-type {\n        vertical-align: middle;\n    }\n\n    .dataframe tbody tr th {\n        vertical-align: top;\n    }\n\n    .dataframe thead th {\n        text-align: right;\n    }\n</style>\n<table border=\"1\" class=\"dataframe\">\n  <thead>\n    <tr style=\"text-align: right;\">\n      <th></th>\n      <th>bug_id</th>\n      <th>ground_truth</th>\n      <th>repo</th>\n      <th>reformed_query</th>\n      <th>bug_title</th>\n      <th>bug_description</th>\n      <th>effective_queries</th>\n      <th>query_recommendations</th>\n      <th>baseline_query</th>\n    </tr>\n  </thead>\n  <tbody>\n    <tr>\n      <th>95</th>\n      <td>312646</td>\n      <td>[ui/org.eclipse.pde.ui/src/org/eclipse/pde/int...</td>\n      <td>eclipse.pde.ui</td>\n      <td>[plug HEAD tree eclipse check launch Select tr...</td>\n      <td>empty feature list when 1 is selected</td>\n      <td>Using HEAD: * New Eclipse Application launch c...</td>\n      <td>[plug HEAD tree eclipse check launch Select tr...</td>\n      <td>[[selecting, org, org, dropped, pde, select, r...</td>\n      <td>Bug empty feature list selected HEAD Eclipse A...</td>\n    </tr>\n    <tr>\n      <th>96</th>\n      <td>51447</td>\n      <td>[java/org/apache/catalina/manager/HTMLManagerS...</td>\n      <td>tomcat70</td>\n      <td>[type reproduce findSession instances Map getM...</td>\n      <td>Session type changes from Backup to Primary</td>\n      <td>Created attachment  [details] patch Steps to r...</td>\n      <td>[type details LazyReplicatedMap Session getSes...</td>\n      <td>[[attached, backup, backup, URLAndId, informat...</td>\n      <td>type session backup primary session sessions f...</td>\n    </tr>\n    <tr>\n      <th>97</th>\n      <td>301894</td>\n      <td>[org.eclipse.jdt.apt.core/build_notes.html, or...</td>\n      <td>eclipse.jdt.core</td>\n      <td>[annotations Build annotations adopters issues...</td>\n      <td>OutOfMemory error when building a large proje...</td>\n      <td>Build Identifier: .. + R342patch_1.. This bug ...</td>\n      <td>[annotations Build annotations adopters issues...</td>\n      <td>[[Build, builds, bug, Bug, large, support, fol...</td>\n      <td>outofmemory bug memory error project annotatio...</td>\n    </tr>\n    <tr>\n      <th>98</th>\n      <td>232463</td>\n      <td>[ui/org.eclipse.pde.ui/src/org/eclipse/pde/int...</td>\n      <td>eclipse.pde.ui</td>\n      <td>[Target Restore fresh click BUG remains platfo...</td>\n      <td>Target Platform pref page does not fully rese...</td>\n      <td>I20080515-. . start fresh workspace . goto to ...</td>\n      <td>[Target checked PDE preference change Target P...</td>\n      <td>[[target, change, Target, target, target, chan...</td>\n      <td>Bug Target Platform pref fully reset Restore D...</td>\n    </tr>\n    <tr>\n      <th>99</th>\n      <td>55905</td>\n      <td>[java/org/apache/catalina/startup/LocalStrings...</td>\n      <td>tomcat70</td>\n      <td>[FileNotFoundException process Tld path Note x...</td>\n      <td>Error message unhelpful when web.xml referenc...</td>\n      <td>In your web-application web.xml add a taglib e...</td>\n      <td>[doesn uri FileNotFoundException MalformedURLE...</td>\n      <td>[[Element, java, folder, jsp, Web, config, pat...</td>\n      <td>message tld file error web xml references does...</td>\n    </tr>\n  </tbody>\n</table>\n</div>"
     },
     "execution_count": 18,
     "metadata": {},
     "output_type": "execute_result"
    }
   ],
   "source": [
    "test_df.tail()"
   ],
   "metadata": {
    "collapsed": false,
    "ExecuteTime": {
     "end_time": "2023-08-07T20:06:47.132010600Z",
     "start_time": "2023-08-07T20:06:47.103014300Z"
    }
   }
  },
  {
   "cell_type": "code",
   "execution_count": 19,
   "outputs": [
    {
     "data": {
      "text/plain": "100"
     },
     "execution_count": 19,
     "metadata": {},
     "output_type": "execute_result"
    }
   ],
   "source": [
    "len(test_df)"
   ],
   "metadata": {
    "collapsed": false,
    "ExecuteTime": {
     "end_time": "2023-08-07T20:07:23.394175200Z",
     "start_time": "2023-08-07T20:07:23.389175300Z"
    }
   }
  }
 ],
 "metadata": {
  "kernelspec": {
   "display_name": "Python 3",
   "language": "python",
   "name": "python3"
  },
  "language_info": {
   "codemirror_mode": {
    "name": "ipython",
    "version": 2
   },
   "file_extension": ".py",
   "mimetype": "text/x-python",
   "name": "python",
   "nbconvert_exporter": "python",
   "pygments_lexer": "ipython2",
   "version": "2.7.6"
  }
 },
 "nbformat": 4,
 "nbformat_minor": 0
}
