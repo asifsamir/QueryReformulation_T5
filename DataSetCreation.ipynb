{
 "cells": [
  {
   "cell_type": "code",
   "execution_count": 5,
   "metadata": {
    "collapsed": true,
    "ExecuteTime": {
     "end_time": "2023-07-21T02:36:04.208238400Z",
     "start_time": "2023-07-21T02:36:04.198172300Z"
    }
   },
   "outputs": [],
   "source": [
    "import pandas as pd\n",
    "import os"
   ]
  },
  {
   "cell_type": "code",
   "execution_count": 4,
   "outputs": [],
   "source": [
    "base_path = 'D:\\Research\\Data\\QueryReformulaiton\\Forgotten_rule_query_reformulation-master\\\\'\n",
    "ground_truth_path = base_path + '\\GroundTruth'\n",
    "reformulated_query_path = base_path + 'NrOptimal-GA\\Query'\n",
    "bug_report_path = base_path + '\\BugReports\\ALL'"
   ],
   "metadata": {
    "collapsed": false,
    "ExecuteTime": {
     "end_time": "2023-07-21T02:34:22.157657Z",
     "start_time": "2023-07-21T02:34:22.154512200Z"
    }
   }
  },
  {
   "cell_type": "code",
   "execution_count": 6,
   "outputs": [],
   "source": [
    "# read folder names from bug report folder\n",
    "bug_report_folders = os.listdir(bug_report_path)\n",
    "# repositories ="
   ],
   "metadata": {
    "collapsed": false,
    "ExecuteTime": {
     "end_time": "2023-07-21T02:36:10.627504800Z",
     "start_time": "2023-07-21T02:36:10.620594900Z"
    }
   }
  },
  {
   "cell_type": "code",
   "execution_count": 10,
   "outputs": [],
   "source": [
    "bug_repos = bug_report_folders"
   ],
   "metadata": {
    "collapsed": false,
    "ExecuteTime": {
     "end_time": "2023-07-21T02:57:31.191542100Z",
     "start_time": "2023-07-21T02:57:31.184965900Z"
    }
   }
  },
  {
   "cell_type": "code",
   "execution_count": null,
   "outputs": [],
   "source": [
    "# from ground truth, based on bug repos, read the ground truth. for each bug repo, there are multiple ground truth files\n",
    "# for each repo create a dataframe with columns: bug_id, which is the file name, and the file associated with it as ground truth\n",
    "\n",
    "\n"
   ],
   "metadata": {
    "collapsed": false
   }
  },
  {
   "cell_type": "markdown",
   "source": [
    "## first dataframe with bug_id and ground truth"
   ],
   "metadata": {
    "collapsed": false
   }
  },
  {
   "cell_type": "code",
   "execution_count": 41,
   "outputs": [],
   "source": [
    "# iterate over bug_repos and read the ground truth files\n",
    "ground_truth_df = pd.DataFrame(columns=['bug_id', 'ground_truth', 'repo'])\n",
    "for repo in bug_repos:\n",
    "    cur_repo_path = ground_truth_path + '\\\\' + repo\n",
    "    ground_truth_files = os.listdir(cur_repo_path)\n",
    "    for file in ground_truth_files:\n",
    "        cur_file_path = cur_repo_path + '\\\\' + file\n",
    "        bug_id, _ = os.path.splitext(file)\n",
    "        # read the content of the file as a string as ground truth\n",
    "        with open(cur_file_path, 'r') as f:\n",
    "            # one bug can have multiple ground truths. each line is a ground truth. read line wise add to a list\n",
    "            ground_truth = f.readlines()\n",
    "            # remove the new line character from the end of each line\n",
    "            ground_truth = [x.strip() for x in ground_truth]\n",
    "\n",
    "\n",
    "        # Creating a new DataFrame for the new row\n",
    "        new_row = pd.DataFrame({'bug_id': [bug_id], 'ground_truth': [ground_truth], 'repo': [repo]})\n",
    "\n",
    "        # Concatenate the new row DataFrame with the existing DataFrame\n",
    "        ground_truth_df = pd.concat([ground_truth_df, new_row], ignore_index=True)"
   ],
   "metadata": {
    "collapsed": false,
    "ExecuteTime": {
     "end_time": "2023-07-21T03:40:01.786913100Z",
     "start_time": "2023-07-21T03:40:00.454074700Z"
    }
   }
  },
  {
   "cell_type": "code",
   "execution_count": 42,
   "outputs": [
    {
     "data": {
      "text/plain": "   bug_id                                       ground_truth repo\n0  112599  [providers/bundles/org.eclipse.ecf.provider.xm...  ecf\n1  125572  [framework/bundles/org.eclipse.ecf.provider/sr...  ecf\n2  134483  [framework/bundles/org.eclipse.ecf/src/org/ecl...  ecf\n3  146622  [framework/bundles/org.eclipse.ecf.provider/sr...  ecf\n4  147269  [framework/bundles/org.eclipse.ecf.provider/sr...  ecf",
      "text/html": "<div>\n<style scoped>\n    .dataframe tbody tr th:only-of-type {\n        vertical-align: middle;\n    }\n\n    .dataframe tbody tr th {\n        vertical-align: top;\n    }\n\n    .dataframe thead th {\n        text-align: right;\n    }\n</style>\n<table border=\"1\" class=\"dataframe\">\n  <thead>\n    <tr style=\"text-align: right;\">\n      <th></th>\n      <th>bug_id</th>\n      <th>ground_truth</th>\n      <th>repo</th>\n    </tr>\n  </thead>\n  <tbody>\n    <tr>\n      <th>0</th>\n      <td>112599</td>\n      <td>[providers/bundles/org.eclipse.ecf.provider.xm...</td>\n      <td>ecf</td>\n    </tr>\n    <tr>\n      <th>1</th>\n      <td>125572</td>\n      <td>[framework/bundles/org.eclipse.ecf.provider/sr...</td>\n      <td>ecf</td>\n    </tr>\n    <tr>\n      <th>2</th>\n      <td>134483</td>\n      <td>[framework/bundles/org.eclipse.ecf/src/org/ecl...</td>\n      <td>ecf</td>\n    </tr>\n    <tr>\n      <th>3</th>\n      <td>146622</td>\n      <td>[framework/bundles/org.eclipse.ecf.provider/sr...</td>\n      <td>ecf</td>\n    </tr>\n    <tr>\n      <th>4</th>\n      <td>147269</td>\n      <td>[framework/bundles/org.eclipse.ecf.provider/sr...</td>\n      <td>ecf</td>\n    </tr>\n  </tbody>\n</table>\n</div>"
     },
     "execution_count": 42,
     "metadata": {},
     "output_type": "execute_result"
    }
   ],
   "source": [
    "ground_truth_df.head()"
   ],
   "metadata": {
    "collapsed": false,
    "ExecuteTime": {
     "end_time": "2023-07-21T03:40:03.422261500Z",
     "start_time": "2023-07-21T03:40:03.404980300Z"
    }
   }
  },
  {
   "cell_type": "markdown",
   "source": [
    "## Second dataframe with bug_id and reformulated query"
   ],
   "metadata": {
    "collapsed": false
   }
  },
  {
   "cell_type": "code",
   "execution_count": 43,
   "outputs": [],
   "source": [
    "# iterate over bug_repos and read the ground truth files\n",
    "which_file = 'GA-ALL-QE-K10-1.txt'\n",
    "reformed_query_df = pd.DataFrame(columns=['bug_id', 'reformed_query'])\n",
    "for repo in bug_repos:\n",
    "    cur_query_file = reformulated_query_path + '\\\\' + repo + '\\\\' + which_file\n",
    "    # read the file line by line. each line first few characters are the bug id separated by a tab; then the query\n",
    "    with open(cur_query_file, 'r') as f:\n",
    "        for line in f:\n",
    "            bug_id = line.split('\\t')[0]\n",
    "            query = line.split('\\t')[1]\n",
    "            # remove the new line character from the end of each line\n",
    "            query = query.strip()\n",
    "\n",
    "            # Creating a new DataFrame for the new row\n",
    "            new_row = pd.DataFrame({'bug_id': [bug_id], 'reformed_query': [query]})\n",
    "\n",
    "            # Concatenate the new row DataFrame with the existing DataFrame\n",
    "            reformed_query_df = pd.concat([reformed_query_df, new_row], ignore_index=True)\n",
    "\n",
    "\n"
   ],
   "metadata": {
    "collapsed": false,
    "ExecuteTime": {
     "end_time": "2023-07-21T03:40:53.194221200Z",
     "start_time": "2023-07-21T03:40:52.528327500Z"
    }
   }
  },
  {
   "cell_type": "code",
   "execution_count": 44,
   "outputs": [
    {
     "data": {
      "text/plain": "   bug_id                                     reformed_query\n0  209410  handling HTMLified Bug comments properties bot...\n1  211585  parsing Discovery authority naming stumbles pa...\n2  318086                                      ecf discovery\n3  238976  remote Bug shared side originator editor disco...\n4  193415  disconnect press Account Contacts menu logged ...",
      "text/html": "<div>\n<style scoped>\n    .dataframe tbody tr th:only-of-type {\n        vertical-align: middle;\n    }\n\n    .dataframe tbody tr th {\n        vertical-align: top;\n    }\n\n    .dataframe thead th {\n        text-align: right;\n    }\n</style>\n<table border=\"1\" class=\"dataframe\">\n  <thead>\n    <tr style=\"text-align: right;\">\n      <th></th>\n      <th>bug_id</th>\n      <th>reformed_query</th>\n    </tr>\n  </thead>\n  <tbody>\n    <tr>\n      <th>0</th>\n      <td>209410</td>\n      <td>handling HTMLified Bug comments properties bot...</td>\n    </tr>\n    <tr>\n      <th>1</th>\n      <td>211585</td>\n      <td>parsing Discovery authority naming stumbles pa...</td>\n    </tr>\n    <tr>\n      <th>2</th>\n      <td>318086</td>\n      <td>ecf discovery</td>\n    </tr>\n    <tr>\n      <th>3</th>\n      <td>238976</td>\n      <td>remote Bug shared side originator editor disco...</td>\n    </tr>\n    <tr>\n      <th>4</th>\n      <td>193415</td>\n      <td>disconnect press Account Contacts menu logged ...</td>\n    </tr>\n  </tbody>\n</table>\n</div>"
     },
     "execution_count": 44,
     "metadata": {},
     "output_type": "execute_result"
    }
   ],
   "source": [
    "reformed_query_df.head()"
   ],
   "metadata": {
    "collapsed": false,
    "ExecuteTime": {
     "end_time": "2023-07-21T03:40:54.631594500Z",
     "start_time": "2023-07-21T03:40:54.617853100Z"
    }
   }
  },
  {
   "cell_type": "markdown",
   "source": [
    "## Third dataframe with bug_id and bug report"
   ],
   "metadata": {
    "collapsed": false
   }
  },
  {
   "cell_type": "code",
   "execution_count": 45,
   "outputs": [],
   "source": [
    "# iterate over bug_repos and read the ground truth files\n",
    "bug_report_df = pd.DataFrame(columns=['bug_id', 'bug_title', 'bug_description'])\n",
    "for repo in bug_repos:\n",
    "    cur_repo_path = bug_report_path + '\\\\' + repo\n",
    "    bug_report_files = os.listdir(cur_repo_path)\n",
    "    for file in bug_report_files:\n",
    "        cur_file_path = cur_repo_path + '\\\\' + file\n",
    "        bug_id, _ = os.path.splitext(file)\n",
    "        # read the content of the file as a string as ground truth\n",
    "        with open(cur_file_path, 'r') as f:\n",
    "            bug_title = f.readline()\n",
    "            # remove the new line character from the end of each line\n",
    "            bug_title = bug_title.strip()\n",
    "\n",
    "            # replace the string format 'Bug+space+bug_id' from the beginning of the title\n",
    "            bug_title = bug_title.replace('Bug ' + bug_id, '')\n",
    "            bug_title = bug_title.replace(bug_id, '')\n",
    "\n",
    "            bug_description = f.read()\n",
    "\n",
    "        # Creating a new DataFrame for the new row\n",
    "        new_row = pd.DataFrame({'bug_id': [bug_id], 'bug_title': [bug_title], 'bug_description': [bug_description]})\n",
    "\n",
    "        # Concatenate the new row DataFrame with the existing DataFrame\n",
    "        bug_report_df = pd.concat([bug_report_df, new_row], ignore_index=True)"
   ],
   "metadata": {
    "collapsed": false,
    "ExecuteTime": {
     "end_time": "2023-07-21T03:41:18.425651200Z",
     "start_time": "2023-07-21T03:41:17.342811Z"
    }
   }
  },
  {
   "cell_type": "code",
   "execution_count": 46,
   "outputs": [
    {
     "data": {
      "text/plain": "   bug_id                                          bug_title  \\\n0  112599   – [XMPP] Room subject does not get updated in...   \n1  125572            – ECF Generic provider thread interlock   \n2  134483   – Standalone ClientApplication is breaks in l...   \n3  146622   – deserializeSharedObjectMessage with custom ...   \n4  147269   – The \"send file\" functionality fails and lau...   \n\n                                     bug_description  \n0  When updated remotely by xmpp server title of ...  \n1  We see the following problem while running an ...  \n2  The standalone org.eclipse.ecf.provider.app.Cl...  \n3  when sending a instance of a custom Class in a...  \n4  >>> Environment: WinXP + Java 1.5.0_06 + Eclip...  ",
      "text/html": "<div>\n<style scoped>\n    .dataframe tbody tr th:only-of-type {\n        vertical-align: middle;\n    }\n\n    .dataframe tbody tr th {\n        vertical-align: top;\n    }\n\n    .dataframe thead th {\n        text-align: right;\n    }\n</style>\n<table border=\"1\" class=\"dataframe\">\n  <thead>\n    <tr style=\"text-align: right;\">\n      <th></th>\n      <th>bug_id</th>\n      <th>bug_title</th>\n      <th>bug_description</th>\n    </tr>\n  </thead>\n  <tbody>\n    <tr>\n      <th>0</th>\n      <td>112599</td>\n      <td>– [XMPP] Room subject does not get updated in...</td>\n      <td>When updated remotely by xmpp server title of ...</td>\n    </tr>\n    <tr>\n      <th>1</th>\n      <td>125572</td>\n      <td>– ECF Generic provider thread interlock</td>\n      <td>We see the following problem while running an ...</td>\n    </tr>\n    <tr>\n      <th>2</th>\n      <td>134483</td>\n      <td>– Standalone ClientApplication is breaks in l...</td>\n      <td>The standalone org.eclipse.ecf.provider.app.Cl...</td>\n    </tr>\n    <tr>\n      <th>3</th>\n      <td>146622</td>\n      <td>– deserializeSharedObjectMessage with custom ...</td>\n      <td>when sending a instance of a custom Class in a...</td>\n    </tr>\n    <tr>\n      <th>4</th>\n      <td>147269</td>\n      <td>– The \"send file\" functionality fails and lau...</td>\n      <td>&gt;&gt;&gt; Environment: WinXP + Java 1.5.0_06 + Eclip...</td>\n    </tr>\n  </tbody>\n</table>\n</div>"
     },
     "execution_count": 46,
     "metadata": {},
     "output_type": "execute_result"
    }
   ],
   "source": [
    "bug_report_df.head()"
   ],
   "metadata": {
    "collapsed": false,
    "ExecuteTime": {
     "end_time": "2023-07-21T03:41:19.765852800Z",
     "start_time": "2023-07-21T03:41:19.751918600Z"
    }
   }
  },
  {
   "cell_type": "markdown",
   "source": [
    "## Merge the three dataframes"
   ],
   "metadata": {
    "collapsed": false
   }
  },
  {
   "cell_type": "code",
   "execution_count": null,
   "outputs": [],
   "source": [
    "# merge the three dataframes based on 'bug_id'"
   ],
   "metadata": {
    "collapsed": false
   }
  },
  {
   "cell_type": "code",
   "execution_count": 47,
   "outputs": [],
   "source": [
    "merged_df = pd.merge(ground_truth_df, reformed_query_df, on='bug_id')"
   ],
   "metadata": {
    "collapsed": false,
    "ExecuteTime": {
     "end_time": "2023-07-21T03:41:24.695336700Z",
     "start_time": "2023-07-21T03:41:24.688526200Z"
    }
   }
  },
  {
   "cell_type": "code",
   "execution_count": 48,
   "outputs": [],
   "source": [
    "merged_df = pd.merge(merged_df, bug_report_df, on='bug_id')"
   ],
   "metadata": {
    "collapsed": false,
    "ExecuteTime": {
     "end_time": "2023-07-21T03:41:26.771338600Z",
     "start_time": "2023-07-21T03:41:26.757349500Z"
    }
   }
  },
  {
   "cell_type": "code",
   "execution_count": 50,
   "outputs": [
    {
     "data": {
      "text/plain": "   bug_id                                       ground_truth repo  \\\n0  112599  [providers/bundles/org.eclipse.ecf.provider.xm...  ecf   \n1  125572  [framework/bundles/org.eclipse.ecf.provider/sr...  ecf   \n2  134483  [framework/bundles/org.eclipse.ecf/src/org/ecl...  ecf   \n3  146622  [framework/bundles/org.eclipse.ecf.provider/sr...  ecf   \n4  147269  [framework/bundles/org.eclipse.ecf.provider/sr...  ecf   \n\n                                      reformed_query  \\\n0  subject chat XMPP title updated updated xmpp u...   \n1  IConnectContext Message IConnection SOContaine...   \n2  ExceptionInInitializerError eclipse eclipse ge...   \n3  deserialize handleAsynchEvent processAsynch Bi...   \n4  Shared createObject ECF launching Group Win Cr...   \n\n                                           bug_title  \\\n0   – [XMPP] Room subject does not get updated in...   \n1            – ECF Generic provider thread interlock   \n2   – Standalone ClientApplication is breaks in l...   \n3   – deserializeSharedObjectMessage with custom ...   \n4   – The \"send file\" functionality fails and lau...   \n\n                                     bug_description  \n0  When updated remotely by xmpp server title of ...  \n1  We see the following problem while running an ...  \n2  The standalone org.eclipse.ecf.provider.app.Cl...  \n3  when sending a instance of a custom Class in a...  \n4  >>> Environment: WinXP + Java 1.5.0_06 + Eclip...  ",
      "text/html": "<div>\n<style scoped>\n    .dataframe tbody tr th:only-of-type {\n        vertical-align: middle;\n    }\n\n    .dataframe tbody tr th {\n        vertical-align: top;\n    }\n\n    .dataframe thead th {\n        text-align: right;\n    }\n</style>\n<table border=\"1\" class=\"dataframe\">\n  <thead>\n    <tr style=\"text-align: right;\">\n      <th></th>\n      <th>bug_id</th>\n      <th>ground_truth</th>\n      <th>repo</th>\n      <th>reformed_query</th>\n      <th>bug_title</th>\n      <th>bug_description</th>\n    </tr>\n  </thead>\n  <tbody>\n    <tr>\n      <th>0</th>\n      <td>112599</td>\n      <td>[providers/bundles/org.eclipse.ecf.provider.xm...</td>\n      <td>ecf</td>\n      <td>subject chat XMPP title updated updated xmpp u...</td>\n      <td>– [XMPP] Room subject does not get updated in...</td>\n      <td>When updated remotely by xmpp server title of ...</td>\n    </tr>\n    <tr>\n      <th>1</th>\n      <td>125572</td>\n      <td>[framework/bundles/org.eclipse.ecf.provider/sr...</td>\n      <td>ecf</td>\n      <td>IConnectContext Message IConnection SOContaine...</td>\n      <td>– ECF Generic provider thread interlock</td>\n      <td>We see the following problem while running an ...</td>\n    </tr>\n    <tr>\n      <th>2</th>\n      <td>134483</td>\n      <td>[framework/bundles/org.eclipse.ecf/src/org/ecl...</td>\n      <td>ecf</td>\n      <td>ExceptionInInitializerError eclipse eclipse ge...</td>\n      <td>– Standalone ClientApplication is breaks in l...</td>\n      <td>The standalone org.eclipse.ecf.provider.app.Cl...</td>\n    </tr>\n    <tr>\n      <th>3</th>\n      <td>146622</td>\n      <td>[framework/bundles/org.eclipse.ecf.provider/sr...</td>\n      <td>ecf</td>\n      <td>deserialize handleAsynchEvent processAsynch Bi...</td>\n      <td>– deserializeSharedObjectMessage with custom ...</td>\n      <td>when sending a instance of a custom Class in a...</td>\n    </tr>\n    <tr>\n      <th>4</th>\n      <td>147269</td>\n      <td>[framework/bundles/org.eclipse.ecf.provider/sr...</td>\n      <td>ecf</td>\n      <td>Shared createObject ECF launching Group Win Cr...</td>\n      <td>– The \"send file\" functionality fails and lau...</td>\n      <td>&gt;&gt;&gt; Environment: WinXP + Java 1.5.0_06 + Eclip...</td>\n    </tr>\n  </tbody>\n</table>\n</div>"
     },
     "execution_count": 50,
     "metadata": {},
     "output_type": "execute_result"
    }
   ],
   "source": [
    "merged_df.head()"
   ],
   "metadata": {
    "collapsed": false,
    "ExecuteTime": {
     "end_time": "2023-07-21T03:41:40.491078900Z",
     "start_time": "2023-07-21T03:41:40.472628500Z"
    }
   }
  },
  {
   "cell_type": "markdown",
   "source": [
    "## Save the merged dataframe as a json file"
   ],
   "metadata": {
    "collapsed": false
   }
  },
  {
   "cell_type": "code",
   "execution_count": 30,
   "outputs": [],
   "source": [
    "# convert each row of the dataframe to a json object and save it in a json file\n"
   ],
   "metadata": {
    "collapsed": false,
    "ExecuteTime": {
     "end_time": "2023-07-21T03:24:02.726421900Z",
     "start_time": "2023-07-21T03:24:02.712756Z"
    }
   }
  },
  {
   "cell_type": "code",
   "execution_count": 51,
   "outputs": [],
   "source": [
    "import json\n"
   ],
   "metadata": {
    "collapsed": false,
    "ExecuteTime": {
     "end_time": "2023-07-21T03:41:43.483762300Z",
     "start_time": "2023-07-21T03:41:43.477427800Z"
    }
   }
  },
  {
   "cell_type": "code",
   "execution_count": 55,
   "outputs": [],
   "source": [
    "# convert the dataframe to a list of dictionaries\n",
    "merged_df_dict = merged_df.to_dict('records')\n"
   ],
   "metadata": {
    "collapsed": false,
    "ExecuteTime": {
     "end_time": "2023-07-21T03:42:41.758788800Z",
     "start_time": "2023-07-21T03:42:41.736877500Z"
    }
   }
  },
  {
   "cell_type": "code",
   "execution_count": 57,
   "outputs": [],
   "source": [
    "# save the list of dictionaries as a json file\n",
    "with open('Data/All_Data.json', 'w') as f:\n",
    "    json.dump(merged_df_dict, f)"
   ],
   "metadata": {
    "collapsed": false,
    "ExecuteTime": {
     "end_time": "2023-07-21T03:44:28.848974500Z",
     "start_time": "2023-07-21T03:44:28.772991900Z"
    }
   }
  }
 ],
 "metadata": {
  "kernelspec": {
   "display_name": "Python 3",
   "language": "python",
   "name": "python3"
  },
  "language_info": {
   "codemirror_mode": {
    "name": "ipython",
    "version": 2
   },
   "file_extension": ".py",
   "mimetype": "text/x-python",
   "name": "python",
   "nbconvert_exporter": "python",
   "pygments_lexer": "ipython2",
   "version": "2.7.6"
  }
 },
 "nbformat": 4,
 "nbformat_minor": 0
}
